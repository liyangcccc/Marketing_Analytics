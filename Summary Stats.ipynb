{
 "cells": [
  {
   "cell_type": "code",
   "execution_count": 266,
   "id": "c9201f81",
   "metadata": {},
   "outputs": [],
   "source": [
    "import pandas as pd\n",
    "import numpy as np\n",
    "import matplotlib.pyplot as plt\n",
    "import seaborn as sns"
   ]
  },
  {
   "cell_type": "code",
   "execution_count": 267,
   "id": "fcfc29a1",
   "metadata": {
    "scrolled": true
   },
   "outputs": [
    {
     "data": {
      "text/html": [
       "<div>\n",
       "<style scoped>\n",
       "    .dataframe tbody tr th:only-of-type {\n",
       "        vertical-align: middle;\n",
       "    }\n",
       "\n",
       "    .dataframe tbody tr th {\n",
       "        vertical-align: top;\n",
       "    }\n",
       "\n",
       "    .dataframe thead th {\n",
       "        text-align: right;\n",
       "    }\n",
       "</style>\n",
       "<table border=\"1\" class=\"dataframe\">\n",
       "  <thead>\n",
       "    <tr style=\"text-align: right;\">\n",
       "      <th></th>\n",
       "      <th>vendorID</th>\n",
       "      <th>theme</th>\n",
       "      <th>homeState</th>\n",
       "      <th>carnivals</th>\n",
       "      <th>complaints</th>\n",
       "      <th>est_energy</th>\n",
       "      <th>est_hourly_vol</th>\n",
       "      <th>LL_passholder</th>\n",
       "      <th>est_hourly_gross</th>\n",
       "    </tr>\n",
       "  </thead>\n",
       "  <tbody>\n",
       "    <tr>\n",
       "      <th>0</th>\n",
       "      <td>1</td>\n",
       "      <td>Artisan Chocolates</td>\n",
       "      <td>Maine</td>\n",
       "      <td>3</td>\n",
       "      <td>9</td>\n",
       "      <td>57.291961</td>\n",
       "      <td>118</td>\n",
       "      <td>0</td>\n",
       "      <td>217.93</td>\n",
       "    </tr>\n",
       "    <tr>\n",
       "      <th>1</th>\n",
       "      <td>2</td>\n",
       "      <td>Local Artists</td>\n",
       "      <td>Vermont</td>\n",
       "      <td>1</td>\n",
       "      <td>2</td>\n",
       "      <td>39.404898</td>\n",
       "      <td>105</td>\n",
       "      <td>1</td>\n",
       "      <td>209.51</td>\n",
       "    </tr>\n",
       "    <tr>\n",
       "      <th>2</th>\n",
       "      <td>3</td>\n",
       "      <td>Fortune Teller</td>\n",
       "      <td>New Hampshire</td>\n",
       "      <td>5</td>\n",
       "      <td>4</td>\n",
       "      <td>47.175958</td>\n",
       "      <td>94</td>\n",
       "      <td>0</td>\n",
       "      <td>200.68</td>\n",
       "    </tr>\n",
       "    <tr>\n",
       "      <th>3</th>\n",
       "      <td>4</td>\n",
       "      <td>Fried Dough and Pizza</td>\n",
       "      <td>Maine</td>\n",
       "      <td>8</td>\n",
       "      <td>0</td>\n",
       "      <td>58.192568</td>\n",
       "      <td>118</td>\n",
       "      <td>0</td>\n",
       "      <td>251.40</td>\n",
       "    </tr>\n",
       "    <tr>\n",
       "      <th>4</th>\n",
       "      <td>5</td>\n",
       "      <td>craft beer</td>\n",
       "      <td>New Hampshire</td>\n",
       "      <td>7</td>\n",
       "      <td>6</td>\n",
       "      <td>56.657908</td>\n",
       "      <td>102</td>\n",
       "      <td>0</td>\n",
       "      <td>168.76</td>\n",
       "    </tr>\n",
       "  </tbody>\n",
       "</table>\n",
       "</div>"
      ],
      "text/plain": [
       "   vendorID                  theme      homeState  carnivals  complaints  \\\n",
       "0         1     Artisan Chocolates          Maine          3           9   \n",
       "1         2          Local Artists        Vermont          1           2   \n",
       "2         3         Fortune Teller  New Hampshire          5           4   \n",
       "3         4  Fried Dough and Pizza          Maine          8           0   \n",
       "4         5             craft beer  New Hampshire          7           6   \n",
       "\n",
       "   est_energy  est_hourly_vol  LL_passholder  est_hourly_gross  \n",
       "0   57.291961             118              0            217.93  \n",
       "1   39.404898             105              1            209.51  \n",
       "2   47.175958              94              0            200.68  \n",
       "3   58.192568             118              0            251.40  \n",
       "4   56.657908             102              0            168.76  "
      ]
     },
     "execution_count": 267,
     "metadata": {},
     "output_type": "execute_result"
    }
   ],
   "source": [
    "vendor = pd.read_csv('market_vendors.csv')\n",
    "vendor.head()"
   ]
  },
  {
   "cell_type": "code",
   "execution_count": 268,
   "id": "f69d9a49",
   "metadata": {},
   "outputs": [
    {
     "data": {
      "text/plain": [
       "array(['Maine', 'Vermont', 'New Hampshire', 'Quebec', 'Connecticut',\n",
       "       'Massachusetts', 'Ontario', '6', '5', '2', '7', '4'], dtype=object)"
      ]
     },
     "execution_count": 268,
     "metadata": {},
     "output_type": "execute_result"
    }
   ],
   "source": [
    "vendor.homeState.unique()"
   ]
  },
  {
   "cell_type": "markdown",
   "id": "a9b0d7f8",
   "metadata": {},
   "source": [
    "* I found that there are row names as numbers in homeState, I decided to change them to \"other\", since, for rows like that, the person responsible for this dataset may tend to record other states and mistakenly put the numbers on. "
   ]
  },
  {
   "cell_type": "code",
   "execution_count": 272,
   "id": "7937bb75",
   "metadata": {},
   "outputs": [],
   "source": [
    "# change the rows of which named as numbers in homeState as 'others'\n",
    "vendor['homeState'] = vendor['homeState'].replace(['6', '5', '2', '7', '4'], 'Others')"
   ]
  },
  {
   "cell_type": "code",
   "execution_count": 270,
   "id": "8d125fc1",
   "metadata": {},
   "outputs": [
    {
     "data": {
      "text/plain": [
       "array(['Artisan Chocolates', 'Local Artists', 'Fortune Teller',\n",
       "       'Fried Dough and Pizza', 'craft beer', 'Homemade Gifts',\n",
       "       'Video Game/eSports', 'Games Of Chance', 'Ice Cold Lemonade',\n",
       "       'Canadian Snacks', 'Maine Tourism Promotion',\n",
       "       'Design Your Own T-Shirt', 'Local Politician',\n",
       "       'Specialty Ice Cream', '8', '3', '4', '7', '5', '9'], dtype=object)"
      ]
     },
     "execution_count": 270,
     "metadata": {},
     "output_type": "execute_result"
    }
   ],
   "source": [
    "vendor.theme.unique()"
   ]
  },
  {
   "cell_type": "markdown",
   "id": "2c3ddc54",
   "metadata": {},
   "source": [
    "* Same for \"theme\"."
   ]
  },
  {
   "cell_type": "code",
   "execution_count": 271,
   "id": "dd8844f9",
   "metadata": {},
   "outputs": [],
   "source": [
    "vendor['theme'] = vendor['theme'].replace(['8', '3', '4', '7', '5', '9'], 'Others')"
   ]
  },
  {
   "cell_type": "markdown",
   "id": "4d5d76af",
   "metadata": {},
   "source": [
    "## Which group gets more complaints? The passholders or the non-passholders?"
   ]
  },
  {
   "cell_type": "code",
   "execution_count": 308,
   "id": "35dbf123",
   "metadata": {},
   "outputs": [
    {
     "data": {
      "image/png": "[encoded data removed]",
      "text/plain": [
       "<Figure size 438.75x360 with 1 Axes>"
      ]
     },
     "metadata": {
      "needs_background": "light"
     },
     "output_type": "display_data"
    }
   ],
   "source": [
    "# which group gets more complaints?\n",
    "sns.displot(x=\"complaints\", hue=\"LL_passholder\", kind='kde', fill=True, data=vendor);"
   ]
  },
  {
   "cell_type": "markdown",
   "id": "7d86eabe",
   "metadata": {},
   "source": [
    "* Simply by the numbers, we cannot tell which group gets more complaints since non-passholders are more than passholders. But we can see the density as a reference(for passholders, complaints = 0 has the most dense)."
   ]
  },
  {
   "cell_type": "code",
   "execution_count": 273,
   "id": "d557e8a3",
   "metadata": {},
   "outputs": [
    {
     "data": {
      "text/html": [
       "<div>\n",
       "<style scoped>\n",
       "    .dataframe tbody tr th:only-of-type {\n",
       "        vertical-align: middle;\n",
       "    }\n",
       "\n",
       "    .dataframe tbody tr th {\n",
       "        vertical-align: top;\n",
       "    }\n",
       "\n",
       "    .dataframe thead th {\n",
       "        text-align: right;\n",
       "    }\n",
       "</style>\n",
       "<table border=\"1\" class=\"dataframe\">\n",
       "  <thead>\n",
       "    <tr style=\"text-align: right;\">\n",
       "      <th></th>\n",
       "      <th>complaints</th>\n",
       "    </tr>\n",
       "    <tr>\n",
       "      <th>LL_passholder</th>\n",
       "      <th></th>\n",
       "    </tr>\n",
       "  </thead>\n",
       "  <tbody>\n",
       "    <tr>\n",
       "      <th>0</th>\n",
       "      <td>5.233393</td>\n",
       "    </tr>\n",
       "    <tr>\n",
       "      <th>1</th>\n",
       "      <td>5.251748</td>\n",
       "    </tr>\n",
       "  </tbody>\n",
       "</table>\n",
       "</div>"
      ],
      "text/plain": [
       "               complaints\n",
       "LL_passholder            \n",
       "0                5.233393\n",
       "1                5.251748"
      ]
     },
     "execution_count": 273,
     "metadata": {},
     "output_type": "execute_result"
    }
   ],
   "source": [
    "grouped_cp = vendor.groupby(['LL_passholder']).agg({\n",
    "    'complaints': 'mean'\n",
    "}).sort_values('complaints')\n",
    "grouped_cp"
   ]
  },
  {
   "cell_type": "code",
   "execution_count": 275,
   "id": "89fecc91",
   "metadata": {},
   "outputs": [
    {
     "data": {
      "image/png": "[encoded data removed]",
      "text/plain": [
       "<Figure size 432x288 with 1 Axes>"
      ]
     },
     "metadata": {
      "needs_background": "light"
     },
     "output_type": "display_data"
    }
   ],
   "source": [
    "sns.barplot(y = 'complaints', x = grouped_cp.index, ci = None, data = grouped_cp);"
   ]
  },
  {
   "cell_type": "code",
   "execution_count": 276,
   "id": "8e0243c8",
   "metadata": {},
   "outputs": [
    {
     "data": {
      "text/plain": [
       "0    557\n",
       "1    143\n",
       "Name: LL_passholder, dtype: int64"
      ]
     },
     "execution_count": 276,
     "metadata": {},
     "output_type": "execute_result"
    }
   ],
   "source": [
    "vendor.LL_passholder.value_counts()"
   ]
  },
  {
   "cell_type": "markdown",
   "id": "2999b9fc",
   "metadata": {},
   "source": [
    "* Looks like these two groups have the almost same number of complaints, but the number of passholders is different(passholders are 143, non-passholders are 557). Therefore, it looks like we got something to worry about. Proportionally, the prospective vendors, as Lobster Land passholders, received more complaints against those vendors during previous appearances either at carnivals or at carnival-type events. In addition, passholders, are the long-term visitors to Lobster Land. We may want to find out what is the reason for that, why would the passholders get more complaints. Roughly guessing, it may be related to since passholders are really familiar with Lobster Land, they didn't try too hard to please the customers, which cause their complaints. For passholders, we may need to give them some tips to deal with the situation well."
   ]
  },
  {
   "cell_type": "code",
   "execution_count": 125,
   "id": "20915868",
   "metadata": {
    "scrolled": true
   },
   "outputs": [
    {
     "data": {
      "image/png": "[encoded data removed]",
      "text/plain": [
       "<Figure size 432x288 with 1 Axes>"
      ]
     },
     "metadata": {
      "needs_background": "light"
     },
     "output_type": "display_data"
    }
   ],
   "source": [
    "sns.barplot(x = 'carnivals', y = 'homeState', hue = 'LL_passholder', ci = None, data = vendor);"
   ]
  },
  {
   "cell_type": "markdown",
   "id": "9cf6fe11",
   "metadata": {},
   "source": [
    "* According to the plot, we can see that in New Hampshire, there were more vendors appeared in carnivals for passholders. And for Ontario, there were the least number of vendors that appeared in carnivals for passholders. As for non-passholders, Maine has the largest number and New Hampshire has the lowest."
   ]
  },
  {
   "cell_type": "code",
   "execution_count": 277,
   "id": "e7107f57",
   "metadata": {},
   "outputs": [
    {
     "data": {
      "text/html": [
       "<div>\n",
       "<style scoped>\n",
       "    .dataframe tbody tr th:only-of-type {\n",
       "        vertical-align: middle;\n",
       "    }\n",
       "\n",
       "    .dataframe tbody tr th {\n",
       "        vertical-align: top;\n",
       "    }\n",
       "\n",
       "    .dataframe thead th {\n",
       "        text-align: right;\n",
       "    }\n",
       "</style>\n",
       "<table border=\"1\" class=\"dataframe\">\n",
       "  <thead>\n",
       "    <tr style=\"text-align: right;\">\n",
       "      <th></th>\n",
       "      <th>vendorID</th>\n",
       "      <th>carnivals</th>\n",
       "      <th>complaints</th>\n",
       "      <th>est_energy</th>\n",
       "      <th>est_hourly_vol</th>\n",
       "      <th>LL_passholder</th>\n",
       "      <th>est_hourly_gross</th>\n",
       "    </tr>\n",
       "  </thead>\n",
       "  <tbody>\n",
       "    <tr>\n",
       "      <th>count</th>\n",
       "      <td>700.000000</td>\n",
       "      <td>700.000000</td>\n",
       "      <td>700.000000</td>\n",
       "      <td>700.000000</td>\n",
       "      <td>700.000000</td>\n",
       "      <td>700.000000</td>\n",
       "      <td>700.000000</td>\n",
       "    </tr>\n",
       "    <tr>\n",
       "      <th>mean</th>\n",
       "      <td>345.375714</td>\n",
       "      <td>5.135714</td>\n",
       "      <td>5.237143</td>\n",
       "      <td>47.501858</td>\n",
       "      <td>110.152857</td>\n",
       "      <td>0.204286</td>\n",
       "      <td>216.543357</td>\n",
       "    </tr>\n",
       "    <tr>\n",
       "      <th>std</th>\n",
       "      <td>204.173508</td>\n",
       "      <td>2.202258</td>\n",
       "      <td>4.914525</td>\n",
       "      <td>14.172002</td>\n",
       "      <td>15.903799</td>\n",
       "      <td>0.403467</td>\n",
       "      <td>41.561560</td>\n",
       "    </tr>\n",
       "    <tr>\n",
       "      <th>min</th>\n",
       "      <td>1.000000</td>\n",
       "      <td>0.000000</td>\n",
       "      <td>0.000000</td>\n",
       "      <td>3.069903</td>\n",
       "      <td>1.000000</td>\n",
       "      <td>0.000000</td>\n",
       "      <td>4.000000</td>\n",
       "    </tr>\n",
       "    <tr>\n",
       "      <th>25%</th>\n",
       "      <td>167.750000</td>\n",
       "      <td>4.000000</td>\n",
       "      <td>0.000000</td>\n",
       "      <td>39.596198</td>\n",
       "      <td>103.000000</td>\n",
       "      <td>0.000000</td>\n",
       "      <td>193.810000</td>\n",
       "    </tr>\n",
       "    <tr>\n",
       "      <th>50%</th>\n",
       "      <td>346.500000</td>\n",
       "      <td>5.000000</td>\n",
       "      <td>4.500000</td>\n",
       "      <td>47.955097</td>\n",
       "      <td>110.500000</td>\n",
       "      <td>0.000000</td>\n",
       "      <td>217.490000</td>\n",
       "    </tr>\n",
       "    <tr>\n",
       "      <th>75%</th>\n",
       "      <td>521.250000</td>\n",
       "      <td>7.000000</td>\n",
       "      <td>9.000000</td>\n",
       "      <td>57.336190</td>\n",
       "      <td>119.000000</td>\n",
       "      <td>0.000000</td>\n",
       "      <td>242.502500</td>\n",
       "    </tr>\n",
       "    <tr>\n",
       "      <th>max</th>\n",
       "      <td>700.000000</td>\n",
       "      <td>13.000000</td>\n",
       "      <td>20.000000</td>\n",
       "      <td>91.567936</td>\n",
       "      <td>147.000000</td>\n",
       "      <td>1.000000</td>\n",
       "      <td>322.570000</td>\n",
       "    </tr>\n",
       "  </tbody>\n",
       "</table>\n",
       "</div>"
      ],
      "text/plain": [
       "         vendorID   carnivals  complaints  est_energy  est_hourly_vol  \\\n",
       "count  700.000000  700.000000  700.000000  700.000000      700.000000   \n",
       "mean   345.375714    5.135714    5.237143   47.501858      110.152857   \n",
       "std    204.173508    2.202258    4.914525   14.172002       15.903799   \n",
       "min      1.000000    0.000000    0.000000    3.069903        1.000000   \n",
       "25%    167.750000    4.000000    0.000000   39.596198      103.000000   \n",
       "50%    346.500000    5.000000    4.500000   47.955097      110.500000   \n",
       "75%    521.250000    7.000000    9.000000   57.336190      119.000000   \n",
       "max    700.000000   13.000000   20.000000   91.567936      147.000000   \n",
       "\n",
       "       LL_passholder  est_hourly_gross  \n",
       "count     700.000000        700.000000  \n",
       "mean        0.204286        216.543357  \n",
       "std         0.403467         41.561560  \n",
       "min         0.000000          4.000000  \n",
       "25%         0.000000        193.810000  \n",
       "50%         0.000000        217.490000  \n",
       "75%         0.000000        242.502500  \n",
       "max         1.000000        322.570000  "
      ]
     },
     "execution_count": 277,
     "metadata": {},
     "output_type": "execute_result"
    }
   ],
   "source": [
    "vendor.describe()"
   ]
  },
  {
   "cell_type": "code",
   "execution_count": 278,
   "id": "0bc4822c",
   "metadata": {},
   "outputs": [
    {
     "data": {
      "text/plain": [
       "Artisan Chocolates         113\n",
       "Homemade Gifts             104\n",
       "Games Of Chance             85\n",
       "Fried Dough and Pizza       75\n",
       "Local Artists               74\n",
       "Canadian Snacks             74\n",
       "Ice Cold Lemonade           42\n",
       "Specialty Ice Cream         30\n",
       "Video Game/eSports          23\n",
       "craft beer                  19\n",
       "Design Your Own T-Shirt     19\n",
       "Maine Tourism Promotion     15\n",
       "Local Politician            10\n",
       "Fortune Teller               9\n",
       "Others                       8\n",
       "Name: theme, dtype: int64"
      ]
     },
     "execution_count": 278,
     "metadata": {},
     "output_type": "execute_result"
    }
   ],
   "source": [
    "# To see which theme has most counts\n",
    "vendor.theme.value_counts()"
   ]
  },
  {
   "cell_type": "markdown",
   "id": "2faa2150",
   "metadata": {},
   "source": [
    "* As we can see, Artisan Chocolates has the most counts, which means it is the most popular theme. And the Fortune Teller has the least counts(other than the \"others\")."
   ]
  },
  {
   "cell_type": "code",
   "execution_count": 309,
   "id": "8a1b3281",
   "metadata": {},
   "outputs": [
    {
     "data": {
      "image/png": "[encoded data removed]",
      "text/plain": [
       "<Figure size 521.375x360 with 1 Axes>"
      ]
     },
     "metadata": {
      "needs_background": "light"
     },
     "output_type": "display_data"
    }
   ],
   "source": [
    "# which theme comsume more energy?\n",
    "sns.displot(x=\"est_energy\", hue=\"theme\", kind='kde', fill=True, data=vendor);"
   ]
  },
  {
   "cell_type": "markdown",
   "id": "1275922d",
   "metadata": {},
   "source": [
    "* For estimated energy usage, Artisan Chocolates seems to have the largest median, since this theme has the most counts of all themes and is not grouped yet. So we can only take it as a reference for our further visualization."
   ]
  },
  {
   "cell_type": "code",
   "execution_count": 297,
   "id": "77685833",
   "metadata": {},
   "outputs": [
    {
     "data": {
      "text/html": [
       "<div>\n",
       "<style scoped>\n",
       "    .dataframe tbody tr th:only-of-type {\n",
       "        vertical-align: middle;\n",
       "    }\n",
       "\n",
       "    .dataframe tbody tr th {\n",
       "        vertical-align: top;\n",
       "    }\n",
       "\n",
       "    .dataframe thead th {\n",
       "        text-align: right;\n",
       "    }\n",
       "</style>\n",
       "<table border=\"1\" class=\"dataframe\">\n",
       "  <thead>\n",
       "    <tr style=\"text-align: right;\">\n",
       "      <th></th>\n",
       "      <th>complaints</th>\n",
       "      <th>est_energy</th>\n",
       "    </tr>\n",
       "    <tr>\n",
       "      <th>theme</th>\n",
       "      <th></th>\n",
       "      <th></th>\n",
       "    </tr>\n",
       "  </thead>\n",
       "  <tbody>\n",
       "    <tr>\n",
       "      <th>Artisan Chocolates</th>\n",
       "      <td>5.265487</td>\n",
       "      <td>52.164656</td>\n",
       "    </tr>\n",
       "    <tr>\n",
       "      <th>Canadian Snacks</th>\n",
       "      <td>4.972973</td>\n",
       "      <td>50.085684</td>\n",
       "    </tr>\n",
       "    <tr>\n",
       "      <th>Design Your Own T-Shirt</th>\n",
       "      <td>4.631579</td>\n",
       "      <td>56.415234</td>\n",
       "    </tr>\n",
       "    <tr>\n",
       "      <th>Fortune Teller</th>\n",
       "      <td>7.444444</td>\n",
       "      <td>45.398320</td>\n",
       "    </tr>\n",
       "    <tr>\n",
       "      <th>Fried Dough and Pizza</th>\n",
       "      <td>4.800000</td>\n",
       "      <td>50.318975</td>\n",
       "    </tr>\n",
       "    <tr>\n",
       "      <th>Games Of Chance</th>\n",
       "      <td>4.317647</td>\n",
       "      <td>50.341382</td>\n",
       "    </tr>\n",
       "    <tr>\n",
       "      <th>Homemade Gifts</th>\n",
       "      <td>6.269231</td>\n",
       "      <td>37.462214</td>\n",
       "    </tr>\n",
       "    <tr>\n",
       "      <th>Ice Cold Lemonade</th>\n",
       "      <td>5.547619</td>\n",
       "      <td>50.196666</td>\n",
       "    </tr>\n",
       "    <tr>\n",
       "      <th>Local Artists</th>\n",
       "      <td>5.270270</td>\n",
       "      <td>38.371918</td>\n",
       "    </tr>\n",
       "    <tr>\n",
       "      <th>Local Politician</th>\n",
       "      <td>6.200000</td>\n",
       "      <td>47.698522</td>\n",
       "    </tr>\n",
       "    <tr>\n",
       "      <th>Maine Tourism Promotion</th>\n",
       "      <td>3.800000</td>\n",
       "      <td>51.709750</td>\n",
       "    </tr>\n",
       "    <tr>\n",
       "      <th>Others</th>\n",
       "      <td>6.000000</td>\n",
       "      <td>6.500000</td>\n",
       "    </tr>\n",
       "    <tr>\n",
       "      <th>Specialty Ice Cream</th>\n",
       "      <td>4.500000</td>\n",
       "      <td>51.397807</td>\n",
       "    </tr>\n",
       "    <tr>\n",
       "      <th>Video Game/eSports</th>\n",
       "      <td>5.086957</td>\n",
       "      <td>59.781322</td>\n",
       "    </tr>\n",
       "    <tr>\n",
       "      <th>craft beer</th>\n",
       "      <td>6.684211</td>\n",
       "      <td>55.344756</td>\n",
       "    </tr>\n",
       "  </tbody>\n",
       "</table>\n",
       "</div>"
      ],
      "text/plain": [
       "                         complaints  est_energy\n",
       "theme                                          \n",
       "Artisan Chocolates         5.265487   52.164656\n",
       "Canadian Snacks            4.972973   50.085684\n",
       "Design Your Own T-Shirt    4.631579   56.415234\n",
       "Fortune Teller             7.444444   45.398320\n",
       "Fried Dough and Pizza      4.800000   50.318975\n",
       "Games Of Chance            4.317647   50.341382\n",
       "Homemade Gifts             6.269231   37.462214\n",
       "Ice Cold Lemonade          5.547619   50.196666\n",
       "Local Artists              5.270270   38.371918\n",
       "Local Politician           6.200000   47.698522\n",
       "Maine Tourism Promotion    3.800000   51.709750\n",
       "Others                     6.000000    6.500000\n",
       "Specialty Ice Cream        4.500000   51.397807\n",
       "Video Game/eSports         5.086957   59.781322\n",
       "craft beer                 6.684211   55.344756"
      ]
     },
     "execution_count": 297,
     "metadata": {},
     "output_type": "execute_result"
    }
   ],
   "source": [
    "# Groupby theme, to see if complaints and est_energy are related \n",
    "grouped_ce = vendor.groupby(['theme']).agg({\n",
    "    'complaints': 'mean',\n",
    "    'est_energy': 'mean'\n",
    "})\n",
    "grouped_ce"
   ]
  },
  {
   "cell_type": "code",
   "execution_count": 296,
   "id": "9131e308",
   "metadata": {},
   "outputs": [
    {
     "data": {
      "image/png": "[encoded data removed]",
      "text/plain": [
       "<Figure size 432x288 with 1 Axes>"
      ]
     },
     "metadata": {
      "needs_background": "light"
     },
     "output_type": "display_data"
    }
   ],
   "source": [
    "sns.scatterplot(x='complaints', y='est_energy', data=grouped_ce);"
   ]
  },
  {
   "cell_type": "markdown",
   "id": "15cb71c4",
   "metadata": {},
   "source": [
    "* As far as I am concerned, those people who are environmentalists might not like the energy-consuming theme, but from this plot, the number of complaints and estimated energy usage do not necessarily have a causal relationship."
   ]
  },
  {
   "cell_type": "code",
   "execution_count": 299,
   "id": "03db0f4a",
   "metadata": {},
   "outputs": [],
   "source": [
    "# Groupby theme, to see if est_hourly_gross and est_energy is related \n",
    "grouped_ee = vendor.groupby(['theme']).agg({\n",
    "    'est_energy': 'mean',\n",
    "    'est_hourly_gross':'mean'\n",
    "}).sort_values('est_energy')"
   ]
  },
  {
   "cell_type": "code",
   "execution_count": 304,
   "id": "b6ba44ae",
   "metadata": {},
   "outputs": [
    {
     "data": {
      "text/html": [
       "<div>\n",
       "<style scoped>\n",
       "    .dataframe tbody tr th:only-of-type {\n",
       "        vertical-align: middle;\n",
       "    }\n",
       "\n",
       "    .dataframe tbody tr th {\n",
       "        vertical-align: top;\n",
       "    }\n",
       "\n",
       "    .dataframe thead th {\n",
       "        text-align: right;\n",
       "    }\n",
       "</style>\n",
       "<table border=\"1\" class=\"dataframe\">\n",
       "  <thead>\n",
       "    <tr style=\"text-align: right;\">\n",
       "      <th></th>\n",
       "      <th>est_energy</th>\n",
       "      <th>est_hourly_gross</th>\n",
       "    </tr>\n",
       "    <tr>\n",
       "      <th>theme</th>\n",
       "      <th></th>\n",
       "      <th></th>\n",
       "    </tr>\n",
       "  </thead>\n",
       "  <tbody>\n",
       "    <tr>\n",
       "      <th>Others</th>\n",
       "      <td>6.500000</td>\n",
       "      <td>6.625000</td>\n",
       "    </tr>\n",
       "    <tr>\n",
       "      <th>Homemade Gifts</th>\n",
       "      <td>37.462214</td>\n",
       "      <td>215.885385</td>\n",
       "    </tr>\n",
       "    <tr>\n",
       "      <th>Local Artists</th>\n",
       "      <td>38.371918</td>\n",
       "      <td>224.376216</td>\n",
       "    </tr>\n",
       "    <tr>\n",
       "      <th>Fortune Teller</th>\n",
       "      <td>45.398320</td>\n",
       "      <td>207.072222</td>\n",
       "    </tr>\n",
       "    <tr>\n",
       "      <th>Local Politician</th>\n",
       "      <td>47.698522</td>\n",
       "      <td>222.541000</td>\n",
       "    </tr>\n",
       "    <tr>\n",
       "      <th>Canadian Snacks</th>\n",
       "      <td>50.085684</td>\n",
       "      <td>221.436892</td>\n",
       "    </tr>\n",
       "    <tr>\n",
       "      <th>Ice Cold Lemonade</th>\n",
       "      <td>50.196666</td>\n",
       "      <td>218.952381</td>\n",
       "    </tr>\n",
       "    <tr>\n",
       "      <th>Fried Dough and Pizza</th>\n",
       "      <td>50.318975</td>\n",
       "      <td>219.167333</td>\n",
       "    </tr>\n",
       "    <tr>\n",
       "      <th>Games Of Chance</th>\n",
       "      <td>50.341382</td>\n",
       "      <td>222.085176</td>\n",
       "    </tr>\n",
       "    <tr>\n",
       "      <th>Specialty Ice Cream</th>\n",
       "      <td>51.397807</td>\n",
       "      <td>217.727333</td>\n",
       "    </tr>\n",
       "    <tr>\n",
       "      <th>Maine Tourism Promotion</th>\n",
       "      <td>51.709750</td>\n",
       "      <td>215.484000</td>\n",
       "    </tr>\n",
       "    <tr>\n",
       "      <th>Artisan Chocolates</th>\n",
       "      <td>52.164656</td>\n",
       "      <td>214.720354</td>\n",
       "    </tr>\n",
       "    <tr>\n",
       "      <th>craft beer</th>\n",
       "      <td>55.344756</td>\n",
       "      <td>221.432105</td>\n",
       "    </tr>\n",
       "    <tr>\n",
       "      <th>Design Your Own T-Shirt</th>\n",
       "      <td>56.415234</td>\n",
       "      <td>222.981053</td>\n",
       "    </tr>\n",
       "    <tr>\n",
       "      <th>Video Game/eSports</th>\n",
       "      <td>59.781322</td>\n",
       "      <td>217.996522</td>\n",
       "    </tr>\n",
       "  </tbody>\n",
       "</table>\n",
       "</div>"
      ],
      "text/plain": [
       "                         est_energy  est_hourly_gross\n",
       "theme                                                \n",
       "Others                     6.500000          6.625000\n",
       "Homemade Gifts            37.462214        215.885385\n",
       "Local Artists             38.371918        224.376216\n",
       "Fortune Teller            45.398320        207.072222\n",
       "Local Politician          47.698522        222.541000\n",
       "Canadian Snacks           50.085684        221.436892\n",
       "Ice Cold Lemonade         50.196666        218.952381\n",
       "Fried Dough and Pizza     50.318975        219.167333\n",
       "Games Of Chance           50.341382        222.085176\n",
       "Specialty Ice Cream       51.397807        217.727333\n",
       "Maine Tourism Promotion   51.709750        215.484000\n",
       "Artisan Chocolates        52.164656        214.720354\n",
       "craft beer                55.344756        221.432105\n",
       "Design Your Own T-Shirt   56.415234        222.981053\n",
       "Video Game/eSports        59.781322        217.996522"
      ]
     },
     "execution_count": 304,
     "metadata": {},
     "output_type": "execute_result"
    }
   ],
   "source": [
    "grouped_ee"
   ]
  },
  {
   "cell_type": "code",
   "execution_count": 301,
   "id": "fee6dc47",
   "metadata": {},
   "outputs": [
    {
     "data": {
      "image/png": "[encoded data removed]",
      "text/plain": [
       "<Figure size 1080x576 with 1 Axes>"
      ]
     },
     "metadata": {
      "needs_background": "light"
     },
     "output_type": "display_data"
    }
   ],
   "source": [
    "plt.figure(figsize=(15,8))\n",
    "ax = sns.barplot(y=grouped_CE.index, x=\"est_energy\", orient='h', data=grouped_ee);"
   ]
  },
  {
   "cell_type": "markdown",
   "id": "1674897f",
   "metadata": {},
   "source": [
    "* As we can see, the theme for Video Game/eSports has the highest estimated energy usage, which makes sense because it requires power to do that; and the homemade gifts have the lowest estimated energy usage, which also makes sense since it is made manually."
   ]
  },
  {
   "cell_type": "code",
   "execution_count": 314,
   "id": "d7324020",
   "metadata": {},
   "outputs": [],
   "source": [
    "grouped_ee1 = vendor.groupby(['theme']).agg({\n",
    "    'est_energy': 'mean',\n",
    "    'est_hourly_gross':'mean'\n",
    "}).sort_values('est_hourly_gross')"
   ]
  },
  {
   "cell_type": "code",
   "execution_count": 306,
   "id": "1692aa07",
   "metadata": {},
   "outputs": [
    {
     "data": {
      "text/html": [
       "<div>\n",
       "<style scoped>\n",
       "    .dataframe tbody tr th:only-of-type {\n",
       "        vertical-align: middle;\n",
       "    }\n",
       "\n",
       "    .dataframe tbody tr th {\n",
       "        vertical-align: top;\n",
       "    }\n",
       "\n",
       "    .dataframe thead th {\n",
       "        text-align: right;\n",
       "    }\n",
       "</style>\n",
       "<table border=\"1\" class=\"dataframe\">\n",
       "  <thead>\n",
       "    <tr style=\"text-align: right;\">\n",
       "      <th></th>\n",
       "      <th>est_energy</th>\n",
       "      <th>est_hourly_gross</th>\n",
       "    </tr>\n",
       "    <tr>\n",
       "      <th>theme</th>\n",
       "      <th></th>\n",
       "      <th></th>\n",
       "    </tr>\n",
       "  </thead>\n",
       "  <tbody>\n",
       "    <tr>\n",
       "      <th>Others</th>\n",
       "      <td>6.500000</td>\n",
       "      <td>6.625000</td>\n",
       "    </tr>\n",
       "    <tr>\n",
       "      <th>Fortune Teller</th>\n",
       "      <td>45.398320</td>\n",
       "      <td>207.072222</td>\n",
       "    </tr>\n",
       "    <tr>\n",
       "      <th>Artisan Chocolates</th>\n",
       "      <td>52.164656</td>\n",
       "      <td>214.720354</td>\n",
       "    </tr>\n",
       "    <tr>\n",
       "      <th>Maine Tourism Promotion</th>\n",
       "      <td>51.709750</td>\n",
       "      <td>215.484000</td>\n",
       "    </tr>\n",
       "    <tr>\n",
       "      <th>Homemade Gifts</th>\n",
       "      <td>37.462214</td>\n",
       "      <td>215.885385</td>\n",
       "    </tr>\n",
       "    <tr>\n",
       "      <th>Specialty Ice Cream</th>\n",
       "      <td>51.397807</td>\n",
       "      <td>217.727333</td>\n",
       "    </tr>\n",
       "    <tr>\n",
       "      <th>Video Game/eSports</th>\n",
       "      <td>59.781322</td>\n",
       "      <td>217.996522</td>\n",
       "    </tr>\n",
       "    <tr>\n",
       "      <th>Ice Cold Lemonade</th>\n",
       "      <td>50.196666</td>\n",
       "      <td>218.952381</td>\n",
       "    </tr>\n",
       "    <tr>\n",
       "      <th>Fried Dough and Pizza</th>\n",
       "      <td>50.318975</td>\n",
       "      <td>219.167333</td>\n",
       "    </tr>\n",
       "    <tr>\n",
       "      <th>craft beer</th>\n",
       "      <td>55.344756</td>\n",
       "      <td>221.432105</td>\n",
       "    </tr>\n",
       "    <tr>\n",
       "      <th>Canadian Snacks</th>\n",
       "      <td>50.085684</td>\n",
       "      <td>221.436892</td>\n",
       "    </tr>\n",
       "    <tr>\n",
       "      <th>Games Of Chance</th>\n",
       "      <td>50.341382</td>\n",
       "      <td>222.085176</td>\n",
       "    </tr>\n",
       "    <tr>\n",
       "      <th>Local Politician</th>\n",
       "      <td>47.698522</td>\n",
       "      <td>222.541000</td>\n",
       "    </tr>\n",
       "    <tr>\n",
       "      <th>Design Your Own T-Shirt</th>\n",
       "      <td>56.415234</td>\n",
       "      <td>222.981053</td>\n",
       "    </tr>\n",
       "    <tr>\n",
       "      <th>Local Artists</th>\n",
       "      <td>38.371918</td>\n",
       "      <td>224.376216</td>\n",
       "    </tr>\n",
       "  </tbody>\n",
       "</table>\n",
       "</div>"
      ],
      "text/plain": [
       "                         est_energy  est_hourly_gross\n",
       "theme                                                \n",
       "Others                     6.500000          6.625000\n",
       "Fortune Teller            45.398320        207.072222\n",
       "Artisan Chocolates        52.164656        214.720354\n",
       "Maine Tourism Promotion   51.709750        215.484000\n",
       "Homemade Gifts            37.462214        215.885385\n",
       "Specialty Ice Cream       51.397807        217.727333\n",
       "Video Game/eSports        59.781322        217.996522\n",
       "Ice Cold Lemonade         50.196666        218.952381\n",
       "Fried Dough and Pizza     50.318975        219.167333\n",
       "craft beer                55.344756        221.432105\n",
       "Canadian Snacks           50.085684        221.436892\n",
       "Games Of Chance           50.341382        222.085176\n",
       "Local Politician          47.698522        222.541000\n",
       "Design Your Own T-Shirt   56.415234        222.981053\n",
       "Local Artists             38.371918        224.376216"
      ]
     },
     "execution_count": 306,
     "metadata": {},
     "output_type": "execute_result"
    }
   ],
   "source": [
    "grouped_ee1"
   ]
  },
  {
   "cell_type": "code",
   "execution_count": 307,
   "id": "243f43ea",
   "metadata": {},
   "outputs": [
    {
     "data": {
      "image/png": "[encoded data removed]",
      "text/plain": [
       "<Figure size 1080x576 with 1 Axes>"
      ]
     },
     "metadata": {
      "needs_background": "light"
     },
     "output_type": "display_data"
    }
   ],
   "source": [
    "plt.figure(figsize=(15,8))\n",
    "ax = sns.barplot(y=grouped_CE.index, x=\"est_hourly_gross\", orient='h', data=grouped_ee1)"
   ]
  },
  {
   "cell_type": "markdown",
   "id": "b997d944",
   "metadata": {},
   "source": [
    "* According to the plot, the theme for Video Game/eSports has the highest estimated revenue, but it does not higher than other themes a lot as the estimated energy usage does. Basically, the estimated revenues for different themes are pretty similar, but the estimated energy usage is not. Proportionally, the themes that will consume less energy would gain more revenue. As a result, we may want to promote those \"middle class\" themes for better profit."
   ]
  },
  {
   "cell_type": "code",
   "execution_count": 313,
   "id": "823ab5c6",
   "metadata": {},
   "outputs": [
    {
     "data": {
      "image/png": "[encoded data removed]",
      "text/plain": [
       "<Figure size 360x360 with 1 Axes>"
      ]
     },
     "metadata": {
      "needs_background": "light"
     },
     "output_type": "display_data"
    }
   ],
   "source": [
    "# To see which theme has the most/least potential\n",
    "sns.catplot(x=\"est_hourly_gross\", y=\"theme\", kind=\"box\",orient='h',data=vendor);"
   ]
  },
  {
   "cell_type": "markdown",
   "id": "ae66742e",
   "metadata": {},
   "source": [
    "* I used Catplot to see the revenue range of each theme, according to the plot, I would not say that the Fortune Teller has big potential since the range of revenue is really limited, the median is relatively low as well; As for Local Politician, it got a great range of revenue. This could be the information for the prospective vendors so that they can choose the theme that they are good at as well as has the potential to gain profit. "
   ]
  },
  {
   "cell_type": "code",
   "execution_count": null,
   "id": "3be370af",
   "metadata": {},
   "outputs": [],
   "source": []
  }
 ],
 "metadata": {
  "kernelspec": {
   "display_name": "Python 3 (ipykernel)",
   "language": "python",
   "name": "python3"
  },
  "language_info": {
   "codemirror_mode": {
    "name": "ipython",
    "version": 3
   },
   "file_extension": ".py",
   "mimetype": "text/x-python",
   "name": "python",
   "nbconvert_exporter": "python",
   "pygments_lexer": "ipython3",
   "version": "3.9.7"
  }
 },
 "nbformat": 4,
 "nbformat_minor": 5
}
