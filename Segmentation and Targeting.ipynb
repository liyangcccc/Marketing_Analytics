{
  "nbformat": 4,
  "nbformat_minor": 0,
  "metadata": {
    "colab": {
      "name": "Final_Project_Segmentation_and_Targeting_Magikarp.ipynb",
      "provenance": [],
      "collapsed_sections": []
    },
    "kernelspec": {
      "name": "python3",
      "display_name": "Python 3"
    },
    "language_info": {
      "name": "python"
    }
  },
  "cells": [
    {
      "cell_type": "markdown",
      "source": [
        "**Segmentation and Targeting (25 points): **\n",
        "\n",
        "---\n",
        "\n",
        "*Importation of essential libraries and the greater_boston.csv file into the working environment*\n",
        "\n",
        "\n",
        "\n",
        "\n"
      ],
      "metadata": {
        "id": "6tIcA7cSXc9l"
      }
    },
    {
      "cell_type": "code",
      "execution_count": 48,
      "metadata": {
        "id": "aUOUcI_Kxoht"
      },
      "outputs": [],
      "source": [
        "import os\n",
        "import pandas as pd\n",
        "import matplotlib.pyplot as plt\n",
        "import seaborn as sns\n",
        "from sklearn.cluster import KMeans\n",
        "from sklearn import preprocessing\n",
        "%matplotlib inline\n",
        "greater_boston = pd.read_csv(\"greater_boston.csv\")"
      ]
    },
    {
      "cell_type": "markdown",
      "source": [
        "*Using the head() function to gain a bit of understanding of the dataset.*"
      ],
      "metadata": {
        "id": "gKwlaXW_X9tE"
      }
    },
    {
      "cell_type": "code",
      "source": [
        "greater_boston.head()"
      ],
      "metadata": {
        "colab": {
          "base_uri": "https://localhost:8080/",
          "height": 250
        },
        "id": "S-WCDktiyDkK",
        "outputId": "800dd4e4-be5f-459f-c50b-21959945114a"
      },
      "execution_count": 49,
      "outputs": [
        {
          "output_type": "execute_result",
          "data": {
            "text/plain": [
              "   householdID  total_ppl own_rent  square_foot  household_income  \\\n",
              "0            1        1.0      own         3309          82050.03   \n",
              "1            2        1.0      own         3814          83077.81   \n",
              "2            3        2.0     rent         2592          91401.41   \n",
              "3            4        1.0      own         2628          73048.55   \n",
              "4            5        1.0     rent         2442          89145.36   \n",
              "\n",
              "   number_pets       region  entertainment_spend_est  travel_spend_est  \\\n",
              "0            1  South Shore                  3189.11           3083.41   \n",
              "1            2    MetroWest                  4175.35           4713.28   \n",
              "2            2  North Shore                  1814.98           3479.07   \n",
              "3            1    Middlesex                  1945.14           3842.42   \n",
              "4            2      Suffolk                  4410.86           1913.28   \n",
              "\n",
              "   under_12 LL_passholder  \n",
              "0       1.0           Yes  \n",
              "1       1.0           Yes  \n",
              "2       2.0            No  \n",
              "3       1.0            No  \n",
              "4       1.0           Yes  "
            ],
            "text/html": [
              "\n",
              "  <div id=\"df-86fc5750-899d-4601-bfc4-b7d1886df7dd\">\n",
              "    <div class=\"colab-df-container\">\n",
              "      <div>\n",
              "<style scoped>\n",
              "    .dataframe tbody tr th:only-of-type {\n",
              "        vertical-align: middle;\n",
              "    }\n",
              "\n",
              "    .dataframe tbody tr th {\n",
              "        vertical-align: top;\n",
              "    }\n",
              "\n",
              "    .dataframe thead th {\n",
              "        text-align: right;\n",
              "    }\n",
              "</style>\n",
              "<table border=\"1\" class=\"dataframe\">\n",
              "  <thead>\n",
              "    <tr style=\"text-align: right;\">\n",
              "      <th></th>\n",
              "      <th>householdID</th>\n",
              "      <th>total_ppl</th>\n",
              "      <th>own_rent</th>\n",
              "      <th>square_foot</th>\n",
              "      <th>household_income</th>\n",
              "      <th>number_pets</th>\n",
              "      <th>region</th>\n",
              "      <th>entertainment_spend_est</th>\n",
              "      <th>travel_spend_est</th>\n",
              "      <th>under_12</th>\n",
              "      <th>LL_passholder</th>\n",
              "    </tr>\n",
              "  </thead>\n",
              "  <tbody>\n",
              "    <tr>\n",
              "      <th>0</th>\n",
              "      <td>1</td>\n",
              "      <td>1.0</td>\n",
              "      <td>own</td>\n",
              "      <td>3309</td>\n",
              "      <td>82050.03</td>\n",
              "      <td>1</td>\n",
              "      <td>South Shore</td>\n",
              "      <td>3189.11</td>\n",
              "      <td>3083.41</td>\n",
              "      <td>1.0</td>\n",
              "      <td>Yes</td>\n",
              "    </tr>\n",
              "    <tr>\n",
              "      <th>1</th>\n",
              "      <td>2</td>\n",
              "      <td>1.0</td>\n",
              "      <td>own</td>\n",
              "      <td>3814</td>\n",
              "      <td>83077.81</td>\n",
              "      <td>2</td>\n",
              "      <td>MetroWest</td>\n",
              "      <td>4175.35</td>\n",
              "      <td>4713.28</td>\n",
              "      <td>1.0</td>\n",
              "      <td>Yes</td>\n",
              "    </tr>\n",
              "    <tr>\n",
              "      <th>2</th>\n",
              "      <td>3</td>\n",
              "      <td>2.0</td>\n",
              "      <td>rent</td>\n",
              "      <td>2592</td>\n",
              "      <td>91401.41</td>\n",
              "      <td>2</td>\n",
              "      <td>North Shore</td>\n",
              "      <td>1814.98</td>\n",
              "      <td>3479.07</td>\n",
              "      <td>2.0</td>\n",
              "      <td>No</td>\n",
              "    </tr>\n",
              "    <tr>\n",
              "      <th>3</th>\n",
              "      <td>4</td>\n",
              "      <td>1.0</td>\n",
              "      <td>own</td>\n",
              "      <td>2628</td>\n",
              "      <td>73048.55</td>\n",
              "      <td>1</td>\n",
              "      <td>Middlesex</td>\n",
              "      <td>1945.14</td>\n",
              "      <td>3842.42</td>\n",
              "      <td>1.0</td>\n",
              "      <td>No</td>\n",
              "    </tr>\n",
              "    <tr>\n",
              "      <th>4</th>\n",
              "      <td>5</td>\n",
              "      <td>1.0</td>\n",
              "      <td>rent</td>\n",
              "      <td>2442</td>\n",
              "      <td>89145.36</td>\n",
              "      <td>2</td>\n",
              "      <td>Suffolk</td>\n",
              "      <td>4410.86</td>\n",
              "      <td>1913.28</td>\n",
              "      <td>1.0</td>\n",
              "      <td>Yes</td>\n",
              "    </tr>\n",
              "  </tbody>\n",
              "</table>\n",
              "</div>\n",
              "      <button class=\"colab-df-convert\" onclick=\"convertToInteractive('df-86fc5750-899d-4601-bfc4-b7d1886df7dd')\"\n",
              "              title=\"Convert this dataframe to an interactive table.\"\n",
              "              style=\"display:none;\">\n",
              "        \n",
              "  <svg xmlns=\"http://www.w3.org/2000/svg\" height=\"24px\"viewBox=\"0 0 24 24\"\n",
              "       width=\"24px\">\n",
              "    <path d=\"M0 0h24v24H0V0z\" fill=\"none\"/>\n",
              "    <path d=\"M18.56 5.44l.94 2.06.94-2.06 2.06-.94-2.06-.94-.94-2.06-.94 2.06-2.06.94zm-11 1L8.5 8.5l.94-2.06 2.06-.94-2.06-.94L8.5 2.5l-.94 2.06-2.06.94zm10 10l.94 2.06.94-2.06 2.06-.94-2.06-.94-.94-2.06-.94 2.06-2.06.94z\"/><path d=\"M17.41 7.96l-1.37-1.37c-.4-.4-.92-.59-1.43-.59-.52 0-1.04.2-1.43.59L10.3 9.45l-7.72 7.72c-.78.78-.78 2.05 0 2.83L4 21.41c.39.39.9.59 1.41.59.51 0 1.02-.2 1.41-.59l7.78-7.78 2.81-2.81c.8-.78.8-2.07 0-2.86zM5.41 20L4 18.59l7.72-7.72 1.47 1.35L5.41 20z\"/>\n",
              "  </svg>\n",
              "      </button>\n",
              "      \n",
              "  <style>\n",
              "    .colab-df-container {\n",
              "      display:flex;\n",
              "      flex-wrap:wrap;\n",
              "      gap: 12px;\n",
              "    }\n",
              "\n",
              "    .colab-df-convert {\n",
              "      background-color: #E8F0FE;\n",
              "      border: none;\n",
              "      border-radius: 50%;\n",
              "      cursor: pointer;\n",
              "      display: none;\n",
              "      fill: #1967D2;\n",
              "      height: 32px;\n",
              "      padding: 0 0 0 0;\n",
              "      width: 32px;\n",
              "    }\n",
              "\n",
              "    .colab-df-convert:hover {\n",
              "      background-color: #E2EBFA;\n",
              "      box-shadow: 0px 1px 2px rgba(60, 64, 67, 0.3), 0px 1px 3px 1px rgba(60, 64, 67, 0.15);\n",
              "      fill: #174EA6;\n",
              "    }\n",
              "\n",
              "    [theme=dark] .colab-df-convert {\n",
              "      background-color: #3B4455;\n",
              "      fill: #D2E3FC;\n",
              "    }\n",
              "\n",
              "    [theme=dark] .colab-df-convert:hover {\n",
              "      background-color: #434B5C;\n",
              "      box-shadow: 0px 1px 3px 1px rgba(0, 0, 0, 0.15);\n",
              "      filter: drop-shadow(0px 1px 2px rgba(0, 0, 0, 0.3));\n",
              "      fill: #FFFFFF;\n",
              "    }\n",
              "  </style>\n",
              "\n",
              "      <script>\n",
              "        const buttonEl =\n",
              "          document.querySelector('#df-86fc5750-899d-4601-bfc4-b7d1886df7dd button.colab-df-convert');\n",
              "        buttonEl.style.display =\n",
              "          google.colab.kernel.accessAllowed ? 'block' : 'none';\n",
              "\n",
              "        async function convertToInteractive(key) {\n",
              "          const element = document.querySelector('#df-86fc5750-899d-4601-bfc4-b7d1886df7dd');\n",
              "          const dataTable =\n",
              "            await google.colab.kernel.invokeFunction('convertToInteractive',\n",
              "                                                     [key], {});\n",
              "          if (!dataTable) return;\n",
              "\n",
              "          const docLinkHtml = 'Like what you see? Visit the ' +\n",
              "            '<a target=\"_blank\" href=https://colab.research.google.com/notebooks/data_table.ipynb>data table notebook</a>'\n",
              "            + ' to learn more about interactive tables.';\n",
              "          element.innerHTML = '';\n",
              "          dataTable['output_type'] = 'display_data';\n",
              "          await google.colab.output.renderOutput(dataTable, element);\n",
              "          const docLink = document.createElement('div');\n",
              "          docLink.innerHTML = docLinkHtml;\n",
              "          element.appendChild(docLink);\n",
              "        }\n",
              "      </script>\n",
              "    </div>\n",
              "  </div>\n",
              "  "
            ]
          },
          "metadata": {},
          "execution_count": 49
        }
      ]
    },
    {
      "cell_type": "markdown",
      "source": [
        "Simple Visualizations to obtain a graphical interpretation of the dataset.\n",
        "\n",
        "Visualizing the distribution of the \"entertainment_spend_est\" variable indicates that the estimate of the household's annual spending on entertainment is normally distributed. "
      ],
      "metadata": {
        "id": "p62tzqHxZIYT"
      }
    },
    {
      "cell_type": "code",
      "source": [
        "sns.distplot(greater_boston['entertainment_spend_est'], kde = True, color = \"orange\")"
      ],
      "metadata": {
        "colab": {
          "base_uri": "https://localhost:8080/",
          "height": 352
        },
        "id": "qcIDY7BRVK0H",
        "outputId": "c6ed4fc4-42bd-4aeb-bbbb-36d320d74819"
      },
      "execution_count": 50,
      "outputs": [
        {
          "output_type": "stream",
          "name": "stderr",
          "text": [
            "/usr/local/lib/python3.7/dist-packages/seaborn/distributions.py:2619: FutureWarning: `distplot` is a deprecated function and will be removed in a future version. Please adapt your code to use either `displot` (a figure-level function with similar flexibility) or `histplot` (an axes-level function for histograms).\n",
            "  warnings.warn(msg, FutureWarning)\n"
          ]
        },
        {
          "output_type": "execute_result",
          "data": {
            "text/plain": [
              "<matplotlib.axes._subplots.AxesSubplot at 0x7fb74066e750>"
            ]
          },
          "metadata": {},
          "execution_count": 50
        },
        {
          "output_type": "display_data",
          "data": {
            "text/plain": [
              "<Figure size 432x288 with 1 Axes>"
            ],
            "image/png": "[encoded data removed]"
          },
          "metadata": {
            "needs_background": "light"
          }
        }
      ]
    },
    {
      "cell_type": "markdown",
      "source": [
        "Visualizing the distribution of the \"travel_spend_est\" variable indicates that the estimate of the household's annual spending on travel is normally distributed."
      ],
      "metadata": {
        "id": "HEUO0pZlh6Ro"
      }
    },
    {
      "cell_type": "code",
      "source": [
        "sns.distplot(greater_boston['travel_spend_est'], kde = True, color = \"blue\")\n"
      ],
      "metadata": {
        "colab": {
          "base_uri": "https://localhost:8080/",
          "height": 352
        },
        "id": "BwSCMOHWWHII",
        "outputId": "79d67cfe-880f-4232-c0f0-224d518c1c4e"
      },
      "execution_count": 51,
      "outputs": [
        {
          "output_type": "stream",
          "name": "stderr",
          "text": [
            "/usr/local/lib/python3.7/dist-packages/seaborn/distributions.py:2619: FutureWarning: `distplot` is a deprecated function and will be removed in a future version. Please adapt your code to use either `displot` (a figure-level function with similar flexibility) or `histplot` (an axes-level function for histograms).\n",
            "  warnings.warn(msg, FutureWarning)\n"
          ]
        },
        {
          "output_type": "execute_result",
          "data": {
            "text/plain": [
              "<matplotlib.axes._subplots.AxesSubplot at 0x7fb7404be390>"
            ]
          },
          "metadata": {},
          "execution_count": 51
        },
        {
          "output_type": "display_data",
          "data": {
            "text/plain": [
              "<Figure size 432x288 with 1 Axes>"
            ],
            "image/png": "[encoded data removed]"
          },
          "metadata": {
            "needs_background": "light"
          }
        }
      ]
    },
    {
      "cell_type": "markdown",
      "source": [
        "Visualizing the distribution of the \"household_income\" variable indicates that the estimate of the total annual income for the household is normally distributed."
      ],
      "metadata": {
        "id": "4hvFmf4miJc0"
      }
    },
    {
      "cell_type": "code",
      "source": [
        "sns.distplot(greater_boston['household_income'], kde = True, color = \"purple\")"
      ],
      "metadata": {
        "colab": {
          "base_uri": "https://localhost:8080/",
          "height": 363
        },
        "id": "oLmWy4WGWPP-",
        "outputId": "ce1b2a91-6499-41f2-ffd5-8a853b0852f2"
      },
      "execution_count": 52,
      "outputs": [
        {
          "output_type": "stream",
          "name": "stderr",
          "text": [
            "/usr/local/lib/python3.7/dist-packages/seaborn/distributions.py:2619: FutureWarning: `distplot` is a deprecated function and will be removed in a future version. Please adapt your code to use either `displot` (a figure-level function with similar flexibility) or `histplot` (an axes-level function for histograms).\n",
            "  warnings.warn(msg, FutureWarning)\n"
          ]
        },
        {
          "output_type": "execute_result",
          "data": {
            "text/plain": [
              "<matplotlib.axes._subplots.AxesSubplot at 0x7fb7405e0550>"
            ]
          },
          "metadata": {},
          "execution_count": 52
        },
        {
          "output_type": "display_data",
          "data": {
            "text/plain": [
              "<Figure size 432x288 with 1 Axes>"
            ],
            "image/png": "[encoded data removed]"
          },
          "metadata": {
            "needs_background": "light"
          }
        }
      ]
    },
    {
      "cell_type": "markdown",
      "source": [
        "Visualizing the frequency of the \"own_rent\" variable indicates that majority of the occupants of the home are the actual owners of the home. "
      ],
      "metadata": {
        "id": "4Le4JVHciZaQ"
      }
    },
    {
      "cell_type": "code",
      "source": [
        "sns.countplot(greater_boston[\"own_rent\"])\n"
      ],
      "metadata": {
        "colab": {
          "base_uri": "https://localhost:8080/",
          "height": 352
        },
        "id": "XGfmKKW_X-s-",
        "outputId": "3a23c4d3-bc20-489d-ebae-d9a1f1d6f7ed"
      },
      "execution_count": 53,
      "outputs": [
        {
          "output_type": "stream",
          "name": "stderr",
          "text": [
            "/usr/local/lib/python3.7/dist-packages/seaborn/_decorators.py:43: FutureWarning: Pass the following variable as a keyword arg: x. From version 0.12, the only valid positional argument will be `data`, and passing other arguments without an explicit keyword will result in an error or misinterpretation.\n",
            "  FutureWarning\n"
          ]
        },
        {
          "output_type": "execute_result",
          "data": {
            "text/plain": [
              "<matplotlib.axes._subplots.AxesSubplot at 0x7fb740336f50>"
            ]
          },
          "metadata": {},
          "execution_count": 53
        },
        {
          "output_type": "display_data",
          "data": {
            "text/plain": [
              "<Figure size 432x288 with 1 Axes>"
            ],
            "image/png": "[encoded data removed]"
          },
          "metadata": {
            "needs_background": "light"
          }
        }
      ]
    },
    {
      "cell_type": "markdown",
      "source": [
        "Visualizing the frequency of the \"number_pets\" variable indicates most homes are likely to have 1 or 2 pets which seems normal. "
      ],
      "metadata": {
        "id": "nVGqo4EGi1l7"
      }
    },
    {
      "cell_type": "code",
      "source": [
        "sns.countplot(greater_boston[\"number_pets\"])"
      ],
      "metadata": {
        "colab": {
          "base_uri": "https://localhost:8080/",
          "height": 352
        },
        "id": "4ICaSW6JYI9L",
        "outputId": "6eb10b3f-922c-487f-92d2-e7fe067166d5"
      },
      "execution_count": 54,
      "outputs": [
        {
          "output_type": "stream",
          "name": "stderr",
          "text": [
            "/usr/local/lib/python3.7/dist-packages/seaborn/_decorators.py:43: FutureWarning: Pass the following variable as a keyword arg: x. From version 0.12, the only valid positional argument will be `data`, and passing other arguments without an explicit keyword will result in an error or misinterpretation.\n",
            "  FutureWarning\n"
          ]
        },
        {
          "output_type": "execute_result",
          "data": {
            "text/plain": [
              "<matplotlib.axes._subplots.AxesSubplot at 0x7fb74027b790>"
            ]
          },
          "metadata": {},
          "execution_count": 54
        },
        {
          "output_type": "display_data",
          "data": {
            "text/plain": [
              "<Figure size 432x288 with 1 Axes>"
            ],
            "image/png": "[encoded data removed]"
          },
          "metadata": {
            "needs_background": "light"
          }
        }
      ]
    },
    {
      "cell_type": "markdown",
      "source": [
        "Visualizing the frequency of the \"LL_passholder\" variable indicates most individuals in the households are not current Lobster Land season passholder."
      ],
      "metadata": {
        "id": "w_uBpweZjF70"
      }
    },
    {
      "cell_type": "code",
      "source": [
        "sns.countplot(greater_boston[\"LL_passholder\"])"
      ],
      "metadata": {
        "colab": {
          "base_uri": "https://localhost:8080/",
          "height": 352
        },
        "id": "9VWM9E_0Yo9b",
        "outputId": "cd544911-c553-4a33-e122-89fd229cc00e"
      },
      "execution_count": 55,
      "outputs": [
        {
          "output_type": "stream",
          "name": "stderr",
          "text": [
            "/usr/local/lib/python3.7/dist-packages/seaborn/_decorators.py:43: FutureWarning: Pass the following variable as a keyword arg: x. From version 0.12, the only valid positional argument will be `data`, and passing other arguments without an explicit keyword will result in an error or misinterpretation.\n",
            "  FutureWarning\n"
          ]
        },
        {
          "output_type": "execute_result",
          "data": {
            "text/plain": [
              "<matplotlib.axes._subplots.AxesSubplot at 0x7fb740336510>"
            ]
          },
          "metadata": {},
          "execution_count": 55
        },
        {
          "output_type": "display_data",
          "data": {
            "text/plain": [
              "<Figure size 432x288 with 1 Axes>"
            ],
            "image/png": "[encoded data removed]"
          },
          "metadata": {
            "needs_background": "light"
          }
        }
      ]
    },
    {
      "cell_type": "markdown",
      "source": [
        "*Deleting the variable \"householdID\" because it is a random but unique integer* *assigned to households for easy identification purposes and it carries no *significance in value. The \"householdID\" would not be relevant in the *italicized text* *clustering model because it would influence the Euclidean *distance in an unfair manner. *italicized text*\n",
        "\n",
        "*For instance the current householdID 300, could have been householdID 900 hence* *calculating the Euclidean distance using the householdID would be* *misleading or misinforming. It could also render the entire clustering model* *not feasible enough for recommendation purposes.* "
      ],
      "metadata": {
        "id": "bvOW9wzIYP5n"
      }
    },
    {
      "cell_type": "code",
      "source": [
        "del greater_boston[\"householdID\"]"
      ],
      "metadata": {
        "id": "nzHZQbRnySTw"
      },
      "execution_count": 56,
      "outputs": []
    },
    {
      "cell_type": "markdown",
      "source": [
        "*Calling the head() function to confirm if the \"householdID\" was successfully* *deleted. *"
      ],
      "metadata": {
        "id": "QjMSrUVGZykk"
      }
    },
    {
      "cell_type": "code",
      "source": [
        "greater_boston.head()"
      ],
      "metadata": {
        "colab": {
          "base_uri": "https://localhost:8080/",
          "height": 206
        },
        "id": "dHc7RA9Jyfhp",
        "outputId": "3cab1444-d17d-42ea-9fee-bba59f87bb93"
      },
      "execution_count": 57,
      "outputs": [
        {
          "output_type": "execute_result",
          "data": {
            "text/plain": [
              "   total_ppl own_rent  square_foot  household_income  number_pets  \\\n",
              "0        1.0      own         3309          82050.03            1   \n",
              "1        1.0      own         3814          83077.81            2   \n",
              "2        2.0     rent         2592          91401.41            2   \n",
              "3        1.0      own         2628          73048.55            1   \n",
              "4        1.0     rent         2442          89145.36            2   \n",
              "\n",
              "        region  entertainment_spend_est  travel_spend_est  under_12  \\\n",
              "0  South Shore                  3189.11           3083.41       1.0   \n",
              "1    MetroWest                  4175.35           4713.28       1.0   \n",
              "2  North Shore                  1814.98           3479.07       2.0   \n",
              "3    Middlesex                  1945.14           3842.42       1.0   \n",
              "4      Suffolk                  4410.86           1913.28       1.0   \n",
              "\n",
              "  LL_passholder  \n",
              "0           Yes  \n",
              "1           Yes  \n",
              "2            No  \n",
              "3            No  \n",
              "4           Yes  "
            ],
            "text/html": [
              "\n",
              "  <div id=\"df-e104046d-5d60-4f51-bf20-cfe4779512ba\">\n",
              "    <div class=\"colab-df-container\">\n",
              "      <div>\n",
              "<style scoped>\n",
              "    .dataframe tbody tr th:only-of-type {\n",
              "        vertical-align: middle;\n",
              "    }\n",
              "\n",
              "    .dataframe tbody tr th {\n",
              "        vertical-align: top;\n",
              "    }\n",
              "\n",
              "    .dataframe thead th {\n",
              "        text-align: right;\n",
              "    }\n",
              "</style>\n",
              "<table border=\"1\" class=\"dataframe\">\n",
              "  <thead>\n",
              "    <tr style=\"text-align: right;\">\n",
              "      <th></th>\n",
              "      <th>total_ppl</th>\n",
              "      <th>own_rent</th>\n",
              "      <th>square_foot</th>\n",
              "      <th>household_income</th>\n",
              "      <th>number_pets</th>\n",
              "      <th>region</th>\n",
              "      <th>entertainment_spend_est</th>\n",
              "      <th>travel_spend_est</th>\n",
              "      <th>under_12</th>\n",
              "      <th>LL_passholder</th>\n",
              "    </tr>\n",
              "  </thead>\n",
              "  <tbody>\n",
              "    <tr>\n",
              "      <th>0</th>\n",
              "      <td>1.0</td>\n",
              "      <td>own</td>\n",
              "      <td>3309</td>\n",
              "      <td>82050.03</td>\n",
              "      <td>1</td>\n",
              "      <td>South Shore</td>\n",
              "      <td>3189.11</td>\n",
              "      <td>3083.41</td>\n",
              "      <td>1.0</td>\n",
              "      <td>Yes</td>\n",
              "    </tr>\n",
              "    <tr>\n",
              "      <th>1</th>\n",
              "      <td>1.0</td>\n",
              "      <td>own</td>\n",
              "      <td>3814</td>\n",
              "      <td>83077.81</td>\n",
              "      <td>2</td>\n",
              "      <td>MetroWest</td>\n",
              "      <td>4175.35</td>\n",
              "      <td>4713.28</td>\n",
              "      <td>1.0</td>\n",
              "      <td>Yes</td>\n",
              "    </tr>\n",
              "    <tr>\n",
              "      <th>2</th>\n",
              "      <td>2.0</td>\n",
              "      <td>rent</td>\n",
              "      <td>2592</td>\n",
              "      <td>91401.41</td>\n",
              "      <td>2</td>\n",
              "      <td>North Shore</td>\n",
              "      <td>1814.98</td>\n",
              "      <td>3479.07</td>\n",
              "      <td>2.0</td>\n",
              "      <td>No</td>\n",
              "    </tr>\n",
              "    <tr>\n",
              "      <th>3</th>\n",
              "      <td>1.0</td>\n",
              "      <td>own</td>\n",
              "      <td>2628</td>\n",
              "      <td>73048.55</td>\n",
              "      <td>1</td>\n",
              "      <td>Middlesex</td>\n",
              "      <td>1945.14</td>\n",
              "      <td>3842.42</td>\n",
              "      <td>1.0</td>\n",
              "      <td>No</td>\n",
              "    </tr>\n",
              "    <tr>\n",
              "      <th>4</th>\n",
              "      <td>1.0</td>\n",
              "      <td>rent</td>\n",
              "      <td>2442</td>\n",
              "      <td>89145.36</td>\n",
              "      <td>2</td>\n",
              "      <td>Suffolk</td>\n",
              "      <td>4410.86</td>\n",
              "      <td>1913.28</td>\n",
              "      <td>1.0</td>\n",
              "      <td>Yes</td>\n",
              "    </tr>\n",
              "  </tbody>\n",
              "</table>\n",
              "</div>\n",
              "      <button class=\"colab-df-convert\" onclick=\"convertToInteractive('df-e104046d-5d60-4f51-bf20-cfe4779512ba')\"\n",
              "              title=\"Convert this dataframe to an interactive table.\"\n",
              "              style=\"display:none;\">\n",
              "        \n",
              "  <svg xmlns=\"http://www.w3.org/2000/svg\" height=\"24px\"viewBox=\"0 0 24 24\"\n",
              "       width=\"24px\">\n",
              "    <path d=\"M0 0h24v24H0V0z\" fill=\"none\"/>\n",
              "    <path d=\"M18.56 5.44l.94 2.06.94-2.06 2.06-.94-2.06-.94-.94-2.06-.94 2.06-2.06.94zm-11 1L8.5 8.5l.94-2.06 2.06-.94-2.06-.94L8.5 2.5l-.94 2.06-2.06.94zm10 10l.94 2.06.94-2.06 2.06-.94-2.06-.94-.94-2.06-.94 2.06-2.06.94z\"/><path d=\"M17.41 7.96l-1.37-1.37c-.4-.4-.92-.59-1.43-.59-.52 0-1.04.2-1.43.59L10.3 9.45l-7.72 7.72c-.78.78-.78 2.05 0 2.83L4 21.41c.39.39.9.59 1.41.59.51 0 1.02-.2 1.41-.59l7.78-7.78 2.81-2.81c.8-.78.8-2.07 0-2.86zM5.41 20L4 18.59l7.72-7.72 1.47 1.35L5.41 20z\"/>\n",
              "  </svg>\n",
              "      </button>\n",
              "      \n",
              "  <style>\n",
              "    .colab-df-container {\n",
              "      display:flex;\n",
              "      flex-wrap:wrap;\n",
              "      gap: 12px;\n",
              "    }\n",
              "\n",
              "    .colab-df-convert {\n",
              "      background-color: #E8F0FE;\n",
              "      border: none;\n",
              "      border-radius: 50%;\n",
              "      cursor: pointer;\n",
              "      display: none;\n",
              "      fill: #1967D2;\n",
              "      height: 32px;\n",
              "      padding: 0 0 0 0;\n",
              "      width: 32px;\n",
              "    }\n",
              "\n",
              "    .colab-df-convert:hover {\n",
              "      background-color: #E2EBFA;\n",
              "      box-shadow: 0px 1px 2px rgba(60, 64, 67, 0.3), 0px 1px 3px 1px rgba(60, 64, 67, 0.15);\n",
              "      fill: #174EA6;\n",
              "    }\n",
              "\n",
              "    [theme=dark] .colab-df-convert {\n",
              "      background-color: #3B4455;\n",
              "      fill: #D2E3FC;\n",
              "    }\n",
              "\n",
              "    [theme=dark] .colab-df-convert:hover {\n",
              "      background-color: #434B5C;\n",
              "      box-shadow: 0px 1px 3px 1px rgba(0, 0, 0, 0.15);\n",
              "      filter: drop-shadow(0px 1px 2px rgba(0, 0, 0, 0.3));\n",
              "      fill: #FFFFFF;\n",
              "    }\n",
              "  </style>\n",
              "\n",
              "      <script>\n",
              "        const buttonEl =\n",
              "          document.querySelector('#df-e104046d-5d60-4f51-bf20-cfe4779512ba button.colab-df-convert');\n",
              "        buttonEl.style.display =\n",
              "          google.colab.kernel.accessAllowed ? 'block' : 'none';\n",
              "\n",
              "        async function convertToInteractive(key) {\n",
              "          const element = document.querySelector('#df-e104046d-5d60-4f51-bf20-cfe4779512ba');\n",
              "          const dataTable =\n",
              "            await google.colab.kernel.invokeFunction('convertToInteractive',\n",
              "                                                     [key], {});\n",
              "          if (!dataTable) return;\n",
              "\n",
              "          const docLinkHtml = 'Like what you see? Visit the ' +\n",
              "            '<a target=\"_blank\" href=https://colab.research.google.com/notebooks/data_table.ipynb>data table notebook</a>'\n",
              "            + ' to learn more about interactive tables.';\n",
              "          element.innerHTML = '';\n",
              "          dataTable['output_type'] = 'display_data';\n",
              "          await google.colab.output.renderOutput(dataTable, element);\n",
              "          const docLink = document.createElement('div');\n",
              "          docLink.innerHTML = docLinkHtml;\n",
              "          element.appendChild(docLink);\n",
              "        }\n",
              "      </script>\n",
              "    </div>\n",
              "  </div>\n",
              "  "
            ]
          },
          "metadata": {},
          "execution_count": 57
        }
      ]
    },
    {
      "cell_type": "markdown",
      "source": [
        "*Using the .columns attribute to view the current columns in the dataset*"
      ],
      "metadata": {
        "id": "Qm8MOWVgZ-i4"
      }
    },
    {
      "cell_type": "code",
      "source": [
        "greater_boston.columns"
      ],
      "metadata": {
        "colab": {
          "base_uri": "https://localhost:8080/"
        },
        "id": "LmIqHhmIynCz",
        "outputId": "d06ffac6-f10d-40e2-cbd3-2f7bd08a5242"
      },
      "execution_count": 58,
      "outputs": [
        {
          "output_type": "execute_result",
          "data": {
            "text/plain": [
              "Index(['total_ppl', 'own_rent', 'square_foot', 'household_income',\n",
              "       'number_pets', 'region', 'entertainment_spend_est', 'travel_spend_est',\n",
              "       'under_12', 'LL_passholder'],\n",
              "      dtype='object')"
            ]
          },
          "metadata": {},
          "execution_count": 58
        }
      ]
    },
    {
      "cell_type": "markdown",
      "source": [
        "Convert catgorical variable \"own_rent\" to numeric"
      ],
      "metadata": {
        "id": "c9qE8s6QJPWN"
      }
    },
    {
      "cell_type": "code",
      "source": [
        "greater_boston.head()"
      ],
      "metadata": {
        "colab": {
          "base_uri": "https://localhost:8080/",
          "height": 206
        },
        "id": "BdrfRkBpJlmd",
        "outputId": "9edc1564-8ee6-4c37-f0da-985d8ca1fe9a"
      },
      "execution_count": 59,
      "outputs": [
        {
          "output_type": "execute_result",
          "data": {
            "text/plain": [
              "   total_ppl own_rent  square_foot  household_income  number_pets  \\\n",
              "0        1.0      own         3309          82050.03            1   \n",
              "1        1.0      own         3814          83077.81            2   \n",
              "2        2.0     rent         2592          91401.41            2   \n",
              "3        1.0      own         2628          73048.55            1   \n",
              "4        1.0     rent         2442          89145.36            2   \n",
              "\n",
              "        region  entertainment_spend_est  travel_spend_est  under_12  \\\n",
              "0  South Shore                  3189.11           3083.41       1.0   \n",
              "1    MetroWest                  4175.35           4713.28       1.0   \n",
              "2  North Shore                  1814.98           3479.07       2.0   \n",
              "3    Middlesex                  1945.14           3842.42       1.0   \n",
              "4      Suffolk                  4410.86           1913.28       1.0   \n",
              "\n",
              "  LL_passholder  \n",
              "0           Yes  \n",
              "1           Yes  \n",
              "2            No  \n",
              "3            No  \n",
              "4           Yes  "
            ],
            "text/html": [
              "\n",
              "  <div id=\"df-e66e8a02-c476-4f71-8291-9c046358601b\">\n",
              "    <div class=\"colab-df-container\">\n",
              "      <div>\n",
              "<style scoped>\n",
              "    .dataframe tbody tr th:only-of-type {\n",
              "        vertical-align: middle;\n",
              "    }\n",
              "\n",
              "    .dataframe tbody tr th {\n",
              "        vertical-align: top;\n",
              "    }\n",
              "\n",
              "    .dataframe thead th {\n",
              "        text-align: right;\n",
              "    }\n",
              "</style>\n",
              "<table border=\"1\" class=\"dataframe\">\n",
              "  <thead>\n",
              "    <tr style=\"text-align: right;\">\n",
              "      <th></th>\n",
              "      <th>total_ppl</th>\n",
              "      <th>own_rent</th>\n",
              "      <th>square_foot</th>\n",
              "      <th>household_income</th>\n",
              "      <th>number_pets</th>\n",
              "      <th>region</th>\n",
              "      <th>entertainment_spend_est</th>\n",
              "      <th>travel_spend_est</th>\n",
              "      <th>under_12</th>\n",
              "      <th>LL_passholder</th>\n",
              "    </tr>\n",
              "  </thead>\n",
              "  <tbody>\n",
              "    <tr>\n",
              "      <th>0</th>\n",
              "      <td>1.0</td>\n",
              "      <td>own</td>\n",
              "      <td>3309</td>\n",
              "      <td>82050.03</td>\n",
              "      <td>1</td>\n",
              "      <td>South Shore</td>\n",
              "      <td>3189.11</td>\n",
              "      <td>3083.41</td>\n",
              "      <td>1.0</td>\n",
              "      <td>Yes</td>\n",
              "    </tr>\n",
              "    <tr>\n",
              "      <th>1</th>\n",
              "      <td>1.0</td>\n",
              "      <td>own</td>\n",
              "      <td>3814</td>\n",
              "      <td>83077.81</td>\n",
              "      <td>2</td>\n",
              "      <td>MetroWest</td>\n",
              "      <td>4175.35</td>\n",
              "      <td>4713.28</td>\n",
              "      <td>1.0</td>\n",
              "      <td>Yes</td>\n",
              "    </tr>\n",
              "    <tr>\n",
              "      <th>2</th>\n",
              "      <td>2.0</td>\n",
              "      <td>rent</td>\n",
              "      <td>2592</td>\n",
              "      <td>91401.41</td>\n",
              "      <td>2</td>\n",
              "      <td>North Shore</td>\n",
              "      <td>1814.98</td>\n",
              "      <td>3479.07</td>\n",
              "      <td>2.0</td>\n",
              "      <td>No</td>\n",
              "    </tr>\n",
              "    <tr>\n",
              "      <th>3</th>\n",
              "      <td>1.0</td>\n",
              "      <td>own</td>\n",
              "      <td>2628</td>\n",
              "      <td>73048.55</td>\n",
              "      <td>1</td>\n",
              "      <td>Middlesex</td>\n",
              "      <td>1945.14</td>\n",
              "      <td>3842.42</td>\n",
              "      <td>1.0</td>\n",
              "      <td>No</td>\n",
              "    </tr>\n",
              "    <tr>\n",
              "      <th>4</th>\n",
              "      <td>1.0</td>\n",
              "      <td>rent</td>\n",
              "      <td>2442</td>\n",
              "      <td>89145.36</td>\n",
              "      <td>2</td>\n",
              "      <td>Suffolk</td>\n",
              "      <td>4410.86</td>\n",
              "      <td>1913.28</td>\n",
              "      <td>1.0</td>\n",
              "      <td>Yes</td>\n",
              "    </tr>\n",
              "  </tbody>\n",
              "</table>\n",
              "</div>\n",
              "      <button class=\"colab-df-convert\" onclick=\"convertToInteractive('df-e66e8a02-c476-4f71-8291-9c046358601b')\"\n",
              "              title=\"Convert this dataframe to an interactive table.\"\n",
              "              style=\"display:none;\">\n",
              "        \n",
              "  <svg xmlns=\"http://www.w3.org/2000/svg\" height=\"24px\"viewBox=\"0 0 24 24\"\n",
              "       width=\"24px\">\n",
              "    <path d=\"M0 0h24v24H0V0z\" fill=\"none\"/>\n",
              "    <path d=\"M18.56 5.44l.94 2.06.94-2.06 2.06-.94-2.06-.94-.94-2.06-.94 2.06-2.06.94zm-11 1L8.5 8.5l.94-2.06 2.06-.94-2.06-.94L8.5 2.5l-.94 2.06-2.06.94zm10 10l.94 2.06.94-2.06 2.06-.94-2.06-.94-.94-2.06-.94 2.06-2.06.94z\"/><path d=\"M17.41 7.96l-1.37-1.37c-.4-.4-.92-.59-1.43-.59-.52 0-1.04.2-1.43.59L10.3 9.45l-7.72 7.72c-.78.78-.78 2.05 0 2.83L4 21.41c.39.39.9.59 1.41.59.51 0 1.02-.2 1.41-.59l7.78-7.78 2.81-2.81c.8-.78.8-2.07 0-2.86zM5.41 20L4 18.59l7.72-7.72 1.47 1.35L5.41 20z\"/>\n",
              "  </svg>\n",
              "      </button>\n",
              "      \n",
              "  <style>\n",
              "    .colab-df-container {\n",
              "      display:flex;\n",
              "      flex-wrap:wrap;\n",
              "      gap: 12px;\n",
              "    }\n",
              "\n",
              "    .colab-df-convert {\n",
              "      background-color: #E8F0FE;\n",
              "      border: none;\n",
              "      border-radius: 50%;\n",
              "      cursor: pointer;\n",
              "      display: none;\n",
              "      fill: #1967D2;\n",
              "      height: 32px;\n",
              "      padding: 0 0 0 0;\n",
              "      width: 32px;\n",
              "    }\n",
              "\n",
              "    .colab-df-convert:hover {\n",
              "      background-color: #E2EBFA;\n",
              "      box-shadow: 0px 1px 2px rgba(60, 64, 67, 0.3), 0px 1px 3px 1px rgba(60, 64, 67, 0.15);\n",
              "      fill: #174EA6;\n",
              "    }\n",
              "\n",
              "    [theme=dark] .colab-df-convert {\n",
              "      background-color: #3B4455;\n",
              "      fill: #D2E3FC;\n",
              "    }\n",
              "\n",
              "    [theme=dark] .colab-df-convert:hover {\n",
              "      background-color: #434B5C;\n",
              "      box-shadow: 0px 1px 3px 1px rgba(0, 0, 0, 0.15);\n",
              "      filter: drop-shadow(0px 1px 2px rgba(0, 0, 0, 0.3));\n",
              "      fill: #FFFFFF;\n",
              "    }\n",
              "  </style>\n",
              "\n",
              "      <script>\n",
              "        const buttonEl =\n",
              "          document.querySelector('#df-e66e8a02-c476-4f71-8291-9c046358601b button.colab-df-convert');\n",
              "        buttonEl.style.display =\n",
              "          google.colab.kernel.accessAllowed ? 'block' : 'none';\n",
              "\n",
              "        async function convertToInteractive(key) {\n",
              "          const element = document.querySelector('#df-e66e8a02-c476-4f71-8291-9c046358601b');\n",
              "          const dataTable =\n",
              "            await google.colab.kernel.invokeFunction('convertToInteractive',\n",
              "                                                     [key], {});\n",
              "          if (!dataTable) return;\n",
              "\n",
              "          const docLinkHtml = 'Like what you see? Visit the ' +\n",
              "            '<a target=\"_blank\" href=https://colab.research.google.com/notebooks/data_table.ipynb>data table notebook</a>'\n",
              "            + ' to learn more about interactive tables.';\n",
              "          element.innerHTML = '';\n",
              "          dataTable['output_type'] = 'display_data';\n",
              "          await google.colab.output.renderOutput(dataTable, element);\n",
              "          const docLink = document.createElement('div');\n",
              "          docLink.innerHTML = docLinkHtml;\n",
              "          element.appendChild(docLink);\n",
              "        }\n",
              "      </script>\n",
              "    </div>\n",
              "  </div>\n",
              "  "
            ]
          },
          "metadata": {},
          "execution_count": 59
        }
      ]
    },
    {
      "cell_type": "markdown",
      "source": [
        "*Using the .describe() function to view the summary statistics of the variables* *in the dataset. *"
      ],
      "metadata": {
        "id": "jUYQcO-4aKRx"
      }
    },
    {
      "cell_type": "code",
      "source": [
        "greater_boston.describe()"
      ],
      "metadata": {
        "colab": {
          "base_uri": "https://localhost:8080/",
          "height": 300
        },
        "id": "Aqt-1vMHyurZ",
        "outputId": "8a2cb23e-fc25-4870-fb01-13e390136bbf"
      },
      "execution_count": 60,
      "outputs": [
        {
          "output_type": "execute_result",
          "data": {
            "text/plain": [
              "          total_ppl   square_foot  household_income   number_pets  \\\n",
              "count  14925.000000  15000.000000      15000.000000  15000.000000   \n",
              "mean       1.580570   3118.928600      84659.802060      1.509200   \n",
              "std        0.815143    815.925967      25756.481173      0.790163   \n",
              "min        0.000000    370.000000      -3078.560000      0.000000   \n",
              "25%        1.000000   2506.000000      66787.702500      1.000000   \n",
              "50%        2.000000   3042.000000      84303.245000      2.000000   \n",
              "75%        2.000000   3738.000000     102643.917500      2.000000   \n",
              "max        4.000000   6081.000000     171989.560000      4.000000   \n",
              "\n",
              "       entertainment_spend_est  travel_spend_est      under_12  \n",
              "count             15000.000000      15000.000000  14925.000000  \n",
              "mean               3451.736870       3943.419994      1.580570  \n",
              "std                1229.005744        744.658639      0.815143  \n",
              "min                -283.350000       1037.610000      0.000000  \n",
              "25%                2593.902500       3455.965000      1.000000  \n",
              "50%                3390.650000       3959.620000      2.000000  \n",
              "75%                4279.240000       4441.960000      2.000000  \n",
              "max                7942.620000       7014.070000      4.000000  "
            ],
            "text/html": [
              "\n",
              "  <div id=\"df-7e491539-82d2-4586-910e-4b0f3bc17d00\">\n",
              "    <div class=\"colab-df-container\">\n",
              "      <div>\n",
              "<style scoped>\n",
              "    .dataframe tbody tr th:only-of-type {\n",
              "        vertical-align: middle;\n",
              "    }\n",
              "\n",
              "    .dataframe tbody tr th {\n",
              "        vertical-align: top;\n",
              "    }\n",
              "\n",
              "    .dataframe thead th {\n",
              "        text-align: right;\n",
              "    }\n",
              "</style>\n",
              "<table border=\"1\" class=\"dataframe\">\n",
              "  <thead>\n",
              "    <tr style=\"text-align: right;\">\n",
              "      <th></th>\n",
              "      <th>total_ppl</th>\n",
              "      <th>square_foot</th>\n",
              "      <th>household_income</th>\n",
              "      <th>number_pets</th>\n",
              "      <th>entertainment_spend_est</th>\n",
              "      <th>travel_spend_est</th>\n",
              "      <th>under_12</th>\n",
              "    </tr>\n",
              "  </thead>\n",
              "  <tbody>\n",
              "    <tr>\n",
              "      <th>count</th>\n",
              "      <td>14925.000000</td>\n",
              "      <td>15000.000000</td>\n",
              "      <td>15000.000000</td>\n",
              "      <td>15000.000000</td>\n",
              "      <td>15000.000000</td>\n",
              "      <td>15000.000000</td>\n",
              "      <td>14925.000000</td>\n",
              "    </tr>\n",
              "    <tr>\n",
              "      <th>mean</th>\n",
              "      <td>1.580570</td>\n",
              "      <td>3118.928600</td>\n",
              "      <td>84659.802060</td>\n",
              "      <td>1.509200</td>\n",
              "      <td>3451.736870</td>\n",
              "      <td>3943.419994</td>\n",
              "      <td>1.580570</td>\n",
              "    </tr>\n",
              "    <tr>\n",
              "      <th>std</th>\n",
              "      <td>0.815143</td>\n",
              "      <td>815.925967</td>\n",
              "      <td>25756.481173</td>\n",
              "      <td>0.790163</td>\n",
              "      <td>1229.005744</td>\n",
              "      <td>744.658639</td>\n",
              "      <td>0.815143</td>\n",
              "    </tr>\n",
              "    <tr>\n",
              "      <th>min</th>\n",
              "      <td>0.000000</td>\n",
              "      <td>370.000000</td>\n",
              "      <td>-3078.560000</td>\n",
              "      <td>0.000000</td>\n",
              "      <td>-283.350000</td>\n",
              "      <td>1037.610000</td>\n",
              "      <td>0.000000</td>\n",
              "    </tr>\n",
              "    <tr>\n",
              "      <th>25%</th>\n",
              "      <td>1.000000</td>\n",
              "      <td>2506.000000</td>\n",
              "      <td>66787.702500</td>\n",
              "      <td>1.000000</td>\n",
              "      <td>2593.902500</td>\n",
              "      <td>3455.965000</td>\n",
              "      <td>1.000000</td>\n",
              "    </tr>\n",
              "    <tr>\n",
              "      <th>50%</th>\n",
              "      <td>2.000000</td>\n",
              "      <td>3042.000000</td>\n",
              "      <td>84303.245000</td>\n",
              "      <td>2.000000</td>\n",
              "      <td>3390.650000</td>\n",
              "      <td>3959.620000</td>\n",
              "      <td>2.000000</td>\n",
              "    </tr>\n",
              "    <tr>\n",
              "      <th>75%</th>\n",
              "      <td>2.000000</td>\n",
              "      <td>3738.000000</td>\n",
              "      <td>102643.917500</td>\n",
              "      <td>2.000000</td>\n",
              "      <td>4279.240000</td>\n",
              "      <td>4441.960000</td>\n",
              "      <td>2.000000</td>\n",
              "    </tr>\n",
              "    <tr>\n",
              "      <th>max</th>\n",
              "      <td>4.000000</td>\n",
              "      <td>6081.000000</td>\n",
              "      <td>171989.560000</td>\n",
              "      <td>4.000000</td>\n",
              "      <td>7942.620000</td>\n",
              "      <td>7014.070000</td>\n",
              "      <td>4.000000</td>\n",
              "    </tr>\n",
              "  </tbody>\n",
              "</table>\n",
              "</div>\n",
              "      <button class=\"colab-df-convert\" onclick=\"convertToInteractive('df-7e491539-82d2-4586-910e-4b0f3bc17d00')\"\n",
              "              title=\"Convert this dataframe to an interactive table.\"\n",
              "              style=\"display:none;\">\n",
              "        \n",
              "  <svg xmlns=\"http://www.w3.org/2000/svg\" height=\"24px\"viewBox=\"0 0 24 24\"\n",
              "       width=\"24px\">\n",
              "    <path d=\"M0 0h24v24H0V0z\" fill=\"none\"/>\n",
              "    <path d=\"M18.56 5.44l.94 2.06.94-2.06 2.06-.94-2.06-.94-.94-2.06-.94 2.06-2.06.94zm-11 1L8.5 8.5l.94-2.06 2.06-.94-2.06-.94L8.5 2.5l-.94 2.06-2.06.94zm10 10l.94 2.06.94-2.06 2.06-.94-2.06-.94-.94-2.06-.94 2.06-2.06.94z\"/><path d=\"M17.41 7.96l-1.37-1.37c-.4-.4-.92-.59-1.43-.59-.52 0-1.04.2-1.43.59L10.3 9.45l-7.72 7.72c-.78.78-.78 2.05 0 2.83L4 21.41c.39.39.9.59 1.41.59.51 0 1.02-.2 1.41-.59l7.78-7.78 2.81-2.81c.8-.78.8-2.07 0-2.86zM5.41 20L4 18.59l7.72-7.72 1.47 1.35L5.41 20z\"/>\n",
              "  </svg>\n",
              "      </button>\n",
              "      \n",
              "  <style>\n",
              "    .colab-df-container {\n",
              "      display:flex;\n",
              "      flex-wrap:wrap;\n",
              "      gap: 12px;\n",
              "    }\n",
              "\n",
              "    .colab-df-convert {\n",
              "      background-color: #E8F0FE;\n",
              "      border: none;\n",
              "      border-radius: 50%;\n",
              "      cursor: pointer;\n",
              "      display: none;\n",
              "      fill: #1967D2;\n",
              "      height: 32px;\n",
              "      padding: 0 0 0 0;\n",
              "      width: 32px;\n",
              "    }\n",
              "\n",
              "    .colab-df-convert:hover {\n",
              "      background-color: #E2EBFA;\n",
              "      box-shadow: 0px 1px 2px rgba(60, 64, 67, 0.3), 0px 1px 3px 1px rgba(60, 64, 67, 0.15);\n",
              "      fill: #174EA6;\n",
              "    }\n",
              "\n",
              "    [theme=dark] .colab-df-convert {\n",
              "      background-color: #3B4455;\n",
              "      fill: #D2E3FC;\n",
              "    }\n",
              "\n",
              "    [theme=dark] .colab-df-convert:hover {\n",
              "      background-color: #434B5C;\n",
              "      box-shadow: 0px 1px 3px 1px rgba(0, 0, 0, 0.15);\n",
              "      filter: drop-shadow(0px 1px 2px rgba(0, 0, 0, 0.3));\n",
              "      fill: #FFFFFF;\n",
              "    }\n",
              "  </style>\n",
              "\n",
              "      <script>\n",
              "        const buttonEl =\n",
              "          document.querySelector('#df-7e491539-82d2-4586-910e-4b0f3bc17d00 button.colab-df-convert');\n",
              "        buttonEl.style.display =\n",
              "          google.colab.kernel.accessAllowed ? 'block' : 'none';\n",
              "\n",
              "        async function convertToInteractive(key) {\n",
              "          const element = document.querySelector('#df-7e491539-82d2-4586-910e-4b0f3bc17d00');\n",
              "          const dataTable =\n",
              "            await google.colab.kernel.invokeFunction('convertToInteractive',\n",
              "                                                     [key], {});\n",
              "          if (!dataTable) return;\n",
              "\n",
              "          const docLinkHtml = 'Like what you see? Visit the ' +\n",
              "            '<a target=\"_blank\" href=https://colab.research.google.com/notebooks/data_table.ipynb>data table notebook</a>'\n",
              "            + ' to learn more about interactive tables.';\n",
              "          element.innerHTML = '';\n",
              "          dataTable['output_type'] = 'display_data';\n",
              "          await google.colab.output.renderOutput(dataTable, element);\n",
              "          const docLink = document.createElement('div');\n",
              "          docLink.innerHTML = docLinkHtml;\n",
              "          element.appendChild(docLink);\n",
              "        }\n",
              "      </script>\n",
              "    </div>\n",
              "  </div>\n",
              "  "
            ]
          },
          "metadata": {},
          "execution_count": 60
        }
      ]
    },
    {
      "cell_type": "markdown",
      "source": [
        "*Using the .info() function to check the completion of the columns in the dataset.*"
      ],
      "metadata": {
        "id": "ifhBQ9fYalSF"
      }
    },
    {
      "cell_type": "code",
      "source": [
        "greater_boston.info()"
      ],
      "metadata": {
        "colab": {
          "base_uri": "https://localhost:8080/"
        },
        "id": "LsZgVUt1zana",
        "outputId": "2baf2768-115c-4327-d54c-f2f7db44a02c"
      },
      "execution_count": 61,
      "outputs": [
        {
          "output_type": "stream",
          "name": "stdout",
          "text": [
            "<class 'pandas.core.frame.DataFrame'>\n",
            "RangeIndex: 15000 entries, 0 to 14999\n",
            "Data columns (total 10 columns):\n",
            " #   Column                   Non-Null Count  Dtype  \n",
            "---  ------                   --------------  -----  \n",
            " 0   total_ppl                14925 non-null  float64\n",
            " 1   own_rent                 15000 non-null  object \n",
            " 2   square_foot              15000 non-null  int64  \n",
            " 3   household_income         15000 non-null  float64\n",
            " 4   number_pets              15000 non-null  int64  \n",
            " 5   region                   15000 non-null  object \n",
            " 6   entertainment_spend_est  15000 non-null  float64\n",
            " 7   travel_spend_est         15000 non-null  float64\n",
            " 8   under_12                 14925 non-null  float64\n",
            " 9   LL_passholder            15000 non-null  object \n",
            "dtypes: float64(5), int64(2), object(3)\n",
            "memory usage: 1.1+ MB\n"
          ]
        }
      ]
    },
    {
      "cell_type": "markdown",
      "source": [
        "*Using the .isnull().sum() function to find the number of null values per column.* "
      ],
      "metadata": {
        "id": "0als9QykawaU"
      }
    },
    {
      "cell_type": "code",
      "source": [
        "(greater_boston.isnull().sum())\n",
        "#the dataset contains null values. "
      ],
      "metadata": {
        "colab": {
          "base_uri": "https://localhost:8080/"
        },
        "id": "AVMjKlgAzrJ0",
        "outputId": "73de0950-eb04-4805-c7c9-aa760deaafcd"
      },
      "execution_count": 62,
      "outputs": [
        {
          "output_type": "execute_result",
          "data": {
            "text/plain": [
              "total_ppl                  75\n",
              "own_rent                    0\n",
              "square_foot                 0\n",
              "household_income            0\n",
              "number_pets                 0\n",
              "region                      0\n",
              "entertainment_spend_est     0\n",
              "travel_spend_est            0\n",
              "under_12                   75\n",
              "LL_passholder               0\n",
              "dtype: int64"
            ]
          },
          "metadata": {},
          "execution_count": 62
        }
      ]
    },
    {
      "cell_type": "markdown",
      "source": [
        "*Using the .corr() function to determine the correlation between the variables in the dataset.* "
      ],
      "metadata": {
        "id": "NDGyFN6ta7t8"
      }
    },
    {
      "cell_type": "code",
      "source": [
        "plt.figure(figsize = (20,5))\n",
        "sns.heatmap(greater_boston.corr(), annot=True);"
      ],
      "metadata": {
        "colab": {
          "base_uri": "https://localhost:8080/",
          "height": 325
        },
        "id": "YVAB8nf50iFk",
        "outputId": "19de3d33-a164-444f-b675-faaf2d684431"
      },
      "execution_count": 63,
      "outputs": [
        {
          "output_type": "display_data",
          "data": {
            "text/plain": [
              "<Figure size 1440x360 with 2 Axes>"
            ],
            "image/png": "[encoded data removed]"
          },
          "metadata": {
            "needs_background": "light"
          }
        }
      ]
    },
    {
      "cell_type": "markdown",
      "source": [
        "*Dropping the \"under_12\" variable from the dataset because it is postively and perfectly correlated with the \"total_ppl\" variable.* "
      ],
      "metadata": {
        "id": "d3ZXNVtnbPnV"
      }
    },
    {
      "cell_type": "code",
      "source": [
        "del greater_boston[\"under_12\"]\n",
        "#The correlation of 1 might affect the clustering model negatively. "
      ],
      "metadata": {
        "id": "sY9Pz_Du0uxm"
      },
      "execution_count": 64,
      "outputs": []
    },
    {
      "cell_type": "markdown",
      "source": [
        "*Dropping the \"region\" variable because it is categorical and would make it difficult to build the clustering model successfully.* "
      ],
      "metadata": {
        "id": "-5DVRkolbmPD"
      }
    },
    {
      "cell_type": "code",
      "source": [
        "del greater_boston[\"own_rent\"]\n",
        "#Not numeric\n",
        "\n",
        "del greater_boston[\"region\"]\n",
        "#Not numeric\n",
        "\n",
        "del greater_boston[\"LL_passholder\"]\n",
        "#Not numeric"
      ],
      "metadata": {
        "id": "GRtrvPZt1ZVe"
      },
      "execution_count": 65,
      "outputs": []
    },
    {
      "cell_type": "markdown",
      "source": [
        "*Using the .head() function to check if the selected variables have been successfully dropped.*  "
      ],
      "metadata": {
        "id": "HzesaEG3b9Wv"
      }
    },
    {
      "cell_type": "code",
      "source": [
        "greater_boston.head()"
      ],
      "metadata": {
        "colab": {
          "base_uri": "https://localhost:8080/",
          "height": 206
        },
        "id": "4X5jQSrx09FN",
        "outputId": "7435f290-f1d0-4683-f4fd-96041da91177"
      },
      "execution_count": 66,
      "outputs": [
        {
          "output_type": "execute_result",
          "data": {
            "text/plain": [
              "   total_ppl  square_foot  household_income  number_pets  \\\n",
              "0        1.0         3309          82050.03            1   \n",
              "1        1.0         3814          83077.81            2   \n",
              "2        2.0         2592          91401.41            2   \n",
              "3        1.0         2628          73048.55            1   \n",
              "4        1.0         2442          89145.36            2   \n",
              "\n",
              "   entertainment_spend_est  travel_spend_est  \n",
              "0                  3189.11           3083.41  \n",
              "1                  4175.35           4713.28  \n",
              "2                  1814.98           3479.07  \n",
              "3                  1945.14           3842.42  \n",
              "4                  4410.86           1913.28  "
            ],
            "text/html": [
              "\n",
              "  <div id=\"df-ff87ce93-b15c-4ff2-9e04-10674da62e84\">\n",
              "    <div class=\"colab-df-container\">\n",
              "      <div>\n",
              "<style scoped>\n",
              "    .dataframe tbody tr th:only-of-type {\n",
              "        vertical-align: middle;\n",
              "    }\n",
              "\n",
              "    .dataframe tbody tr th {\n",
              "        vertical-align: top;\n",
              "    }\n",
              "\n",
              "    .dataframe thead th {\n",
              "        text-align: right;\n",
              "    }\n",
              "</style>\n",
              "<table border=\"1\" class=\"dataframe\">\n",
              "  <thead>\n",
              "    <tr style=\"text-align: right;\">\n",
              "      <th></th>\n",
              "      <th>total_ppl</th>\n",
              "      <th>square_foot</th>\n",
              "      <th>household_income</th>\n",
              "      <th>number_pets</th>\n",
              "      <th>entertainment_spend_est</th>\n",
              "      <th>travel_spend_est</th>\n",
              "    </tr>\n",
              "  </thead>\n",
              "  <tbody>\n",
              "    <tr>\n",
              "      <th>0</th>\n",
              "      <td>1.0</td>\n",
              "      <td>3309</td>\n",
              "      <td>82050.03</td>\n",
              "      <td>1</td>\n",
              "      <td>3189.11</td>\n",
              "      <td>3083.41</td>\n",
              "    </tr>\n",
              "    <tr>\n",
              "      <th>1</th>\n",
              "      <td>1.0</td>\n",
              "      <td>3814</td>\n",
              "      <td>83077.81</td>\n",
              "      <td>2</td>\n",
              "      <td>4175.35</td>\n",
              "      <td>4713.28</td>\n",
              "    </tr>\n",
              "    <tr>\n",
              "      <th>2</th>\n",
              "      <td>2.0</td>\n",
              "      <td>2592</td>\n",
              "      <td>91401.41</td>\n",
              "      <td>2</td>\n",
              "      <td>1814.98</td>\n",
              "      <td>3479.07</td>\n",
              "    </tr>\n",
              "    <tr>\n",
              "      <th>3</th>\n",
              "      <td>1.0</td>\n",
              "      <td>2628</td>\n",
              "      <td>73048.55</td>\n",
              "      <td>1</td>\n",
              "      <td>1945.14</td>\n",
              "      <td>3842.42</td>\n",
              "    </tr>\n",
              "    <tr>\n",
              "      <th>4</th>\n",
              "      <td>1.0</td>\n",
              "      <td>2442</td>\n",
              "      <td>89145.36</td>\n",
              "      <td>2</td>\n",
              "      <td>4410.86</td>\n",
              "      <td>1913.28</td>\n",
              "    </tr>\n",
              "  </tbody>\n",
              "</table>\n",
              "</div>\n",
              "      <button class=\"colab-df-convert\" onclick=\"convertToInteractive('df-ff87ce93-b15c-4ff2-9e04-10674da62e84')\"\n",
              "              title=\"Convert this dataframe to an interactive table.\"\n",
              "              style=\"display:none;\">\n",
              "        \n",
              "  <svg xmlns=\"http://www.w3.org/2000/svg\" height=\"24px\"viewBox=\"0 0 24 24\"\n",
              "       width=\"24px\">\n",
              "    <path d=\"M0 0h24v24H0V0z\" fill=\"none\"/>\n",
              "    <path d=\"M18.56 5.44l.94 2.06.94-2.06 2.06-.94-2.06-.94-.94-2.06-.94 2.06-2.06.94zm-11 1L8.5 8.5l.94-2.06 2.06-.94-2.06-.94L8.5 2.5l-.94 2.06-2.06.94zm10 10l.94 2.06.94-2.06 2.06-.94-2.06-.94-.94-2.06-.94 2.06-2.06.94z\"/><path d=\"M17.41 7.96l-1.37-1.37c-.4-.4-.92-.59-1.43-.59-.52 0-1.04.2-1.43.59L10.3 9.45l-7.72 7.72c-.78.78-.78 2.05 0 2.83L4 21.41c.39.39.9.59 1.41.59.51 0 1.02-.2 1.41-.59l7.78-7.78 2.81-2.81c.8-.78.8-2.07 0-2.86zM5.41 20L4 18.59l7.72-7.72 1.47 1.35L5.41 20z\"/>\n",
              "  </svg>\n",
              "      </button>\n",
              "      \n",
              "  <style>\n",
              "    .colab-df-container {\n",
              "      display:flex;\n",
              "      flex-wrap:wrap;\n",
              "      gap: 12px;\n",
              "    }\n",
              "\n",
              "    .colab-df-convert {\n",
              "      background-color: #E8F0FE;\n",
              "      border: none;\n",
              "      border-radius: 50%;\n",
              "      cursor: pointer;\n",
              "      display: none;\n",
              "      fill: #1967D2;\n",
              "      height: 32px;\n",
              "      padding: 0 0 0 0;\n",
              "      width: 32px;\n",
              "    }\n",
              "\n",
              "    .colab-df-convert:hover {\n",
              "      background-color: #E2EBFA;\n",
              "      box-shadow: 0px 1px 2px rgba(60, 64, 67, 0.3), 0px 1px 3px 1px rgba(60, 64, 67, 0.15);\n",
              "      fill: #174EA6;\n",
              "    }\n",
              "\n",
              "    [theme=dark] .colab-df-convert {\n",
              "      background-color: #3B4455;\n",
              "      fill: #D2E3FC;\n",
              "    }\n",
              "\n",
              "    [theme=dark] .colab-df-convert:hover {\n",
              "      background-color: #434B5C;\n",
              "      box-shadow: 0px 1px 3px 1px rgba(0, 0, 0, 0.15);\n",
              "      filter: drop-shadow(0px 1px 2px rgba(0, 0, 0, 0.3));\n",
              "      fill: #FFFFFF;\n",
              "    }\n",
              "  </style>\n",
              "\n",
              "      <script>\n",
              "        const buttonEl =\n",
              "          document.querySelector('#df-ff87ce93-b15c-4ff2-9e04-10674da62e84 button.colab-df-convert');\n",
              "        buttonEl.style.display =\n",
              "          google.colab.kernel.accessAllowed ? 'block' : 'none';\n",
              "\n",
              "        async function convertToInteractive(key) {\n",
              "          const element = document.querySelector('#df-ff87ce93-b15c-4ff2-9e04-10674da62e84');\n",
              "          const dataTable =\n",
              "            await google.colab.kernel.invokeFunction('convertToInteractive',\n",
              "                                                     [key], {});\n",
              "          if (!dataTable) return;\n",
              "\n",
              "          const docLinkHtml = 'Like what you see? Visit the ' +\n",
              "            '<a target=\"_blank\" href=https://colab.research.google.com/notebooks/data_table.ipynb>data table notebook</a>'\n",
              "            + ' to learn more about interactive tables.';\n",
              "          element.innerHTML = '';\n",
              "          dataTable['output_type'] = 'display_data';\n",
              "          await google.colab.output.renderOutput(dataTable, element);\n",
              "          const docLink = document.createElement('div');\n",
              "          docLink.innerHTML = docLinkHtml;\n",
              "          element.appendChild(docLink);\n",
              "        }\n",
              "      </script>\n",
              "    </div>\n",
              "  </div>\n",
              "  "
            ]
          },
          "metadata": {},
          "execution_count": 66
        }
      ]
    },
    {
      "cell_type": "markdown",
      "source": [
        "*Using the .corr() function to verify if the correlation between the remaining variables in the dataset would be viable for the buidling of the clustering model.*"
      ],
      "metadata": {
        "id": "YNcc4pEKcVy3"
      }
    },
    {
      "cell_type": "code",
      "source": [
        "plt.figure(figsize = (20,5))\n",
        "sns.heatmap(greater_boston.corr(), annot=True);"
      ],
      "metadata": {
        "colab": {
          "base_uri": "https://localhost:8080/",
          "height": 325
        },
        "id": "dqGY6pKa1CzR",
        "outputId": "afa28144-7dfb-457c-8c5e-9978a665fc5e"
      },
      "execution_count": 67,
      "outputs": [
        {
          "output_type": "display_data",
          "data": {
            "text/plain": [
              "<Figure size 1440x360 with 2 Axes>"
            ],
            "image/png": "[encoded data removed]"
          },
          "metadata": {
            "needs_background": "light"
          }
        }
      ]
    },
    {
      "cell_type": "markdown",
      "source": [
        "*Using median to impute the missing values in the \"total_ppl\" variable so that the clustering model can be built successfully. *"
      ],
      "metadata": {
        "id": "iUEf3NsLcmgd"
      }
    },
    {
      "cell_type": "code",
      "source": [
        "missing_col = ['total_ppl']\n",
        " \n",
        "#Technique 2: Using median to impute the missing values\n",
        "for i in missing_col:\n",
        " greater_boston.loc[greater_boston.loc[:,i].isnull(),i]=greater_boston.loc[:,i].median()\n",
        " \n",
        "print(\"count of NULL values after imputation\\n\")\n",
        "greater_boston.isnull().sum()"
      ],
      "metadata": {
        "colab": {
          "base_uri": "https://localhost:8080/"
        },
        "id": "qU8O0EFCRSc2",
        "outputId": "93f54b43-d4b1-4d0c-8b7f-cddd2e696919"
      },
      "execution_count": 68,
      "outputs": [
        {
          "output_type": "stream",
          "name": "stdout",
          "text": [
            "count of NULL values after imputation\n",
            "\n"
          ]
        },
        {
          "output_type": "execute_result",
          "data": {
            "text/plain": [
              "total_ppl                  0\n",
              "square_foot                0\n",
              "household_income           0\n",
              "number_pets                0\n",
              "entertainment_spend_est    0\n",
              "travel_spend_est           0\n",
              "dtype: int64"
            ]
          },
          "metadata": {},
          "execution_count": 68
        }
      ]
    },
    {
      "cell_type": "markdown",
      "source": [
        "CLUSTERING USING K-MEANS CLUSTERING \n",
        "\n",
        "*Implementing standardization by converting the values in the dataset into zscores and storing the normalized data in a new dataframe.* "
      ],
      "metadata": {
        "id": "BwFH1Jtrc6SH"
      }
    },
    {
      "cell_type": "code",
      "source": [
        "zscore = preprocessing.StandardScaler()\n",
        "wr_standard = zscore.fit_transform(greater_boston)\n",
        "wr_standard = pd.DataFrame(wr_standard)\n",
        "wr_standard.columns=greater_boston.columns\n",
        "wr_standard.head()"
      ],
      "metadata": {
        "colab": {
          "base_uri": "https://localhost:8080/",
          "height": 206
        },
        "id": "rdkJvU1y1H60",
        "outputId": "1a0b7a66-dd59-4c5e-9bea-03cd9bf8b2f5"
      },
      "execution_count": 69,
      "outputs": [
        {
          "output_type": "execute_result",
          "data": {
            "text/plain": [
              "   total_ppl  square_foot  household_income  number_pets  \\\n",
              "0  -0.716147     0.232960         -0.101328    -0.644446   \n",
              "1  -0.716147     0.851909         -0.061423     0.621159   \n",
              "2   0.512938    -0.645826          0.261753     0.621159   \n",
              "3  -0.716147    -0.601703         -0.450824    -0.644446   \n",
              "4  -0.716147    -0.829672          0.174158     0.621159   \n",
              "\n",
              "   entertainment_spend_est  travel_spend_est  \n",
              "0                -0.213698         -1.154944  \n",
              "1                 0.588799          1.033877  \n",
              "2                -1.331818         -0.623595  \n",
              "3                -1.225907         -0.135637  \n",
              "4                 0.780432         -2.726360  "
            ],
            "text/html": [
              "\n",
              "  <div id=\"df-cf25af9f-ba66-4af8-8e32-3f9575be60ab\">\n",
              "    <div class=\"colab-df-container\">\n",
              "      <div>\n",
              "<style scoped>\n",
              "    .dataframe tbody tr th:only-of-type {\n",
              "        vertical-align: middle;\n",
              "    }\n",
              "\n",
              "    .dataframe tbody tr th {\n",
              "        vertical-align: top;\n",
              "    }\n",
              "\n",
              "    .dataframe thead th {\n",
              "        text-align: right;\n",
              "    }\n",
              "</style>\n",
              "<table border=\"1\" class=\"dataframe\">\n",
              "  <thead>\n",
              "    <tr style=\"text-align: right;\">\n",
              "      <th></th>\n",
              "      <th>total_ppl</th>\n",
              "      <th>square_foot</th>\n",
              "      <th>household_income</th>\n",
              "      <th>number_pets</th>\n",
              "      <th>entertainment_spend_est</th>\n",
              "      <th>travel_spend_est</th>\n",
              "    </tr>\n",
              "  </thead>\n",
              "  <tbody>\n",
              "    <tr>\n",
              "      <th>0</th>\n",
              "      <td>-0.716147</td>\n",
              "      <td>0.232960</td>\n",
              "      <td>-0.101328</td>\n",
              "      <td>-0.644446</td>\n",
              "      <td>-0.213698</td>\n",
              "      <td>-1.154944</td>\n",
              "    </tr>\n",
              "    <tr>\n",
              "      <th>1</th>\n",
              "      <td>-0.716147</td>\n",
              "      <td>0.851909</td>\n",
              "      <td>-0.061423</td>\n",
              "      <td>0.621159</td>\n",
              "      <td>0.588799</td>\n",
              "      <td>1.033877</td>\n",
              "    </tr>\n",
              "    <tr>\n",
              "      <th>2</th>\n",
              "      <td>0.512938</td>\n",
              "      <td>-0.645826</td>\n",
              "      <td>0.261753</td>\n",
              "      <td>0.621159</td>\n",
              "      <td>-1.331818</td>\n",
              "      <td>-0.623595</td>\n",
              "    </tr>\n",
              "    <tr>\n",
              "      <th>3</th>\n",
              "      <td>-0.716147</td>\n",
              "      <td>-0.601703</td>\n",
              "      <td>-0.450824</td>\n",
              "      <td>-0.644446</td>\n",
              "      <td>-1.225907</td>\n",
              "      <td>-0.135637</td>\n",
              "    </tr>\n",
              "    <tr>\n",
              "      <th>4</th>\n",
              "      <td>-0.716147</td>\n",
              "      <td>-0.829672</td>\n",
              "      <td>0.174158</td>\n",
              "      <td>0.621159</td>\n",
              "      <td>0.780432</td>\n",
              "      <td>-2.726360</td>\n",
              "    </tr>\n",
              "  </tbody>\n",
              "</table>\n",
              "</div>\n",
              "      <button class=\"colab-df-convert\" onclick=\"convertToInteractive('df-cf25af9f-ba66-4af8-8e32-3f9575be60ab')\"\n",
              "              title=\"Convert this dataframe to an interactive table.\"\n",
              "              style=\"display:none;\">\n",
              "        \n",
              "  <svg xmlns=\"http://www.w3.org/2000/svg\" height=\"24px\"viewBox=\"0 0 24 24\"\n",
              "       width=\"24px\">\n",
              "    <path d=\"M0 0h24v24H0V0z\" fill=\"none\"/>\n",
              "    <path d=\"M18.56 5.44l.94 2.06.94-2.06 2.06-.94-2.06-.94-.94-2.06-.94 2.06-2.06.94zm-11 1L8.5 8.5l.94-2.06 2.06-.94-2.06-.94L8.5 2.5l-.94 2.06-2.06.94zm10 10l.94 2.06.94-2.06 2.06-.94-2.06-.94-.94-2.06-.94 2.06-2.06.94z\"/><path d=\"M17.41 7.96l-1.37-1.37c-.4-.4-.92-.59-1.43-.59-.52 0-1.04.2-1.43.59L10.3 9.45l-7.72 7.72c-.78.78-.78 2.05 0 2.83L4 21.41c.39.39.9.59 1.41.59.51 0 1.02-.2 1.41-.59l7.78-7.78 2.81-2.81c.8-.78.8-2.07 0-2.86zM5.41 20L4 18.59l7.72-7.72 1.47 1.35L5.41 20z\"/>\n",
              "  </svg>\n",
              "      </button>\n",
              "      \n",
              "  <style>\n",
              "    .colab-df-container {\n",
              "      display:flex;\n",
              "      flex-wrap:wrap;\n",
              "      gap: 12px;\n",
              "    }\n",
              "\n",
              "    .colab-df-convert {\n",
              "      background-color: #E8F0FE;\n",
              "      border: none;\n",
              "      border-radius: 50%;\n",
              "      cursor: pointer;\n",
              "      display: none;\n",
              "      fill: #1967D2;\n",
              "      height: 32px;\n",
              "      padding: 0 0 0 0;\n",
              "      width: 32px;\n",
              "    }\n",
              "\n",
              "    .colab-df-convert:hover {\n",
              "      background-color: #E2EBFA;\n",
              "      box-shadow: 0px 1px 2px rgba(60, 64, 67, 0.3), 0px 1px 3px 1px rgba(60, 64, 67, 0.15);\n",
              "      fill: #174EA6;\n",
              "    }\n",
              "\n",
              "    [theme=dark] .colab-df-convert {\n",
              "      background-color: #3B4455;\n",
              "      fill: #D2E3FC;\n",
              "    }\n",
              "\n",
              "    [theme=dark] .colab-df-convert:hover {\n",
              "      background-color: #434B5C;\n",
              "      box-shadow: 0px 1px 3px 1px rgba(0, 0, 0, 0.15);\n",
              "      filter: drop-shadow(0px 1px 2px rgba(0, 0, 0, 0.3));\n",
              "      fill: #FFFFFF;\n",
              "    }\n",
              "  </style>\n",
              "\n",
              "      <script>\n",
              "        const buttonEl =\n",
              "          document.querySelector('#df-cf25af9f-ba66-4af8-8e32-3f9575be60ab button.colab-df-convert');\n",
              "        buttonEl.style.display =\n",
              "          google.colab.kernel.accessAllowed ? 'block' : 'none';\n",
              "\n",
              "        async function convertToInteractive(key) {\n",
              "          const element = document.querySelector('#df-cf25af9f-ba66-4af8-8e32-3f9575be60ab');\n",
              "          const dataTable =\n",
              "            await google.colab.kernel.invokeFunction('convertToInteractive',\n",
              "                                                     [key], {});\n",
              "          if (!dataTable) return;\n",
              "\n",
              "          const docLinkHtml = 'Like what you see? Visit the ' +\n",
              "            '<a target=\"_blank\" href=https://colab.research.google.com/notebooks/data_table.ipynb>data table notebook</a>'\n",
              "            + ' to learn more about interactive tables.';\n",
              "          element.innerHTML = '';\n",
              "          dataTable['output_type'] = 'display_data';\n",
              "          await google.colab.output.renderOutput(dataTable, element);\n",
              "          const docLink = document.createElement('div');\n",
              "          docLink.innerHTML = docLinkHtml;\n",
              "          element.appendChild(docLink);\n",
              "        }\n",
              "      </script>\n",
              "    </div>\n",
              "  </div>\n",
              "  "
            ]
          },
          "metadata": {},
          "execution_count": 69
        }
      ]
    },
    {
      "cell_type": "markdown",
      "source": [
        "*Buidling an elbow chat to gain insights of how to build the clustering model properly.* "
      ],
      "metadata": {
        "id": "aMf62CpHdbR1"
      }
    },
    {
      "cell_type": "code",
      "source": [
        "sse = { }\n",
        "for k in range(1, 25): \n",
        "  # Initialize KMeans with k clusters\n",
        " kmeans = KMeans(n_clusters=k, random_state=654)\n",
        "# Fit KMeans on the normalized dataset\n",
        " kmeans.fit(wr_standard)\n",
        " sse[k] = kmeans.inertia_\n",
        "# Add the plot title \"The Elbow Method\"\n",
        "plt.title('The Elbow Method')\n",
        "# Add X-axis label \"k\"\n",
        "plt.xlabel('k')\n",
        "# Add Y-axis label \"SSE\"\n",
        "plt.ylabel('SSE')\n",
        "sns.pointplot(x=list(sse.keys()), y=list(sse.values()));"
      ],
      "metadata": {
        "colab": {
          "base_uri": "https://localhost:8080/",
          "height": 295
        },
        "id": "4DEFHyLe2wwP",
        "outputId": "f37254d7-d380-4148-b0eb-de9dc85bdfed"
      },
      "execution_count": 70,
      "outputs": [
        {
          "output_type": "display_data",
          "data": {
            "text/plain": [
              "<Figure size 432x288 with 1 Axes>"
            ],
            "image/png": "[encoded data removed]"
          },
          "metadata": {
            "needs_background": "light"
          }
        }
      ]
    },
    {
      "cell_type": "markdown",
      "source": [
        "*Using 5 from the Elbow Chart to build the k-means clustering model.* "
      ],
      "metadata": {
        "id": "7SceI7y7feqG"
      }
    },
    {
      "cell_type": "code",
      "source": [
        "kmeans = KMeans(n_clusters=5, random_state=654)\n",
        "kmeans.fit(wr_standard)\n",
        "cluster_labels = kmeans.labels_"
      ],
      "metadata": {
        "id": "612qXoiIS6Hq"
      },
      "execution_count": 71,
      "outputs": []
    },
    {
      "cell_type": "markdown",
      "source": [
        "*Generating and showing summary statistics about each cluster. *"
      ],
      "metadata": {
        "id": "g6Z3dpxrfw4-"
      }
    },
    {
      "cell_type": "code",
      "source": [
        "kmeans2 = wr_standard.assign(Cluster = cluster_labels)\n",
        "kmeans2.groupby(['Cluster']).agg({\n",
        "'total_ppl': 'mean',\n",
        "'square_foot': 'mean',\n",
        "'household_income': 'mean',\n",
        "'number_pets': 'mean',\n",
        "'entertainment_spend_est': 'mean',\n",
        "'travel_spend_est': 'mean'\n",
        "}).round(2)"
      ],
      "metadata": {
        "colab": {
          "base_uri": "https://localhost:8080/",
          "height": 237
        },
        "id": "4CWmHJDgTEVk",
        "outputId": "529656f1-e66d-47dd-d7c9-548f7669a4d1"
      },
      "execution_count": 72,
      "outputs": [
        {
          "output_type": "execute_result",
          "data": {
            "text/plain": [
              "         total_ppl  square_foot  household_income  number_pets  \\\n",
              "Cluster                                                          \n",
              "0             0.56         0.04              1.01        -0.01   \n",
              "1            -1.16        -0.40              0.49        -0.04   \n",
              "2            -0.02         1.19             -0.14         0.00   \n",
              "3             0.33        -0.43             -0.68        -0.93   \n",
              "4             0.34        -0.38             -0.64         0.94   \n",
              "\n",
              "         entertainment_spend_est  travel_spend_est  \n",
              "Cluster                                             \n",
              "0                           1.15              0.55  \n",
              "1                           0.34              0.15  \n",
              "2                          -0.23              0.68  \n",
              "3                          -0.60             -0.67  \n",
              "4                          -0.60             -0.67  "
            ],
            "text/html": [
              "\n",
              "  <div id=\"df-08916ad5-71b6-45d1-95c8-2b9f2236024e\">\n",
              "    <div class=\"colab-df-container\">\n",
              "      <div>\n",
              "<style scoped>\n",
              "    .dataframe tbody tr th:only-of-type {\n",
              "        vertical-align: middle;\n",
              "    }\n",
              "\n",
              "    .dataframe tbody tr th {\n",
              "        vertical-align: top;\n",
              "    }\n",
              "\n",
              "    .dataframe thead th {\n",
              "        text-align: right;\n",
              "    }\n",
              "</style>\n",
              "<table border=\"1\" class=\"dataframe\">\n",
              "  <thead>\n",
              "    <tr style=\"text-align: right;\">\n",
              "      <th></th>\n",
              "      <th>total_ppl</th>\n",
              "      <th>square_foot</th>\n",
              "      <th>household_income</th>\n",
              "      <th>number_pets</th>\n",
              "      <th>entertainment_spend_est</th>\n",
              "      <th>travel_spend_est</th>\n",
              "    </tr>\n",
              "    <tr>\n",
              "      <th>Cluster</th>\n",
              "      <th></th>\n",
              "      <th></th>\n",
              "      <th></th>\n",
              "      <th></th>\n",
              "      <th></th>\n",
              "      <th></th>\n",
              "    </tr>\n",
              "  </thead>\n",
              "  <tbody>\n",
              "    <tr>\n",
              "      <th>0</th>\n",
              "      <td>0.56</td>\n",
              "      <td>0.04</td>\n",
              "      <td>1.01</td>\n",
              "      <td>-0.01</td>\n",
              "      <td>1.15</td>\n",
              "      <td>0.55</td>\n",
              "    </tr>\n",
              "    <tr>\n",
              "      <th>1</th>\n",
              "      <td>-1.16</td>\n",
              "      <td>-0.40</td>\n",
              "      <td>0.49</td>\n",
              "      <td>-0.04</td>\n",
              "      <td>0.34</td>\n",
              "      <td>0.15</td>\n",
              "    </tr>\n",
              "    <tr>\n",
              "      <th>2</th>\n",
              "      <td>-0.02</td>\n",
              "      <td>1.19</td>\n",
              "      <td>-0.14</td>\n",
              "      <td>0.00</td>\n",
              "      <td>-0.23</td>\n",
              "      <td>0.68</td>\n",
              "    </tr>\n",
              "    <tr>\n",
              "      <th>3</th>\n",
              "      <td>0.33</td>\n",
              "      <td>-0.43</td>\n",
              "      <td>-0.68</td>\n",
              "      <td>-0.93</td>\n",
              "      <td>-0.60</td>\n",
              "      <td>-0.67</td>\n",
              "    </tr>\n",
              "    <tr>\n",
              "      <th>4</th>\n",
              "      <td>0.34</td>\n",
              "      <td>-0.38</td>\n",
              "      <td>-0.64</td>\n",
              "      <td>0.94</td>\n",
              "      <td>-0.60</td>\n",
              "      <td>-0.67</td>\n",
              "    </tr>\n",
              "  </tbody>\n",
              "</table>\n",
              "</div>\n",
              "      <button class=\"colab-df-convert\" onclick=\"convertToInteractive('df-08916ad5-71b6-45d1-95c8-2b9f2236024e')\"\n",
              "              title=\"Convert this dataframe to an interactive table.\"\n",
              "              style=\"display:none;\">\n",
              "        \n",
              "  <svg xmlns=\"http://www.w3.org/2000/svg\" height=\"24px\"viewBox=\"0 0 24 24\"\n",
              "       width=\"24px\">\n",
              "    <path d=\"M0 0h24v24H0V0z\" fill=\"none\"/>\n",
              "    <path d=\"M18.56 5.44l.94 2.06.94-2.06 2.06-.94-2.06-.94-.94-2.06-.94 2.06-2.06.94zm-11 1L8.5 8.5l.94-2.06 2.06-.94-2.06-.94L8.5 2.5l-.94 2.06-2.06.94zm10 10l.94 2.06.94-2.06 2.06-.94-2.06-.94-.94-2.06-.94 2.06-2.06.94z\"/><path d=\"M17.41 7.96l-1.37-1.37c-.4-.4-.92-.59-1.43-.59-.52 0-1.04.2-1.43.59L10.3 9.45l-7.72 7.72c-.78.78-.78 2.05 0 2.83L4 21.41c.39.39.9.59 1.41.59.51 0 1.02-.2 1.41-.59l7.78-7.78 2.81-2.81c.8-.78.8-2.07 0-2.86zM5.41 20L4 18.59l7.72-7.72 1.47 1.35L5.41 20z\"/>\n",
              "  </svg>\n",
              "      </button>\n",
              "      \n",
              "  <style>\n",
              "    .colab-df-container {\n",
              "      display:flex;\n",
              "      flex-wrap:wrap;\n",
              "      gap: 12px;\n",
              "    }\n",
              "\n",
              "    .colab-df-convert {\n",
              "      background-color: #E8F0FE;\n",
              "      border: none;\n",
              "      border-radius: 50%;\n",
              "      cursor: pointer;\n",
              "      display: none;\n",
              "      fill: #1967D2;\n",
              "      height: 32px;\n",
              "      padding: 0 0 0 0;\n",
              "      width: 32px;\n",
              "    }\n",
              "\n",
              "    .colab-df-convert:hover {\n",
              "      background-color: #E2EBFA;\n",
              "      box-shadow: 0px 1px 2px rgba(60, 64, 67, 0.3), 0px 1px 3px 1px rgba(60, 64, 67, 0.15);\n",
              "      fill: #174EA6;\n",
              "    }\n",
              "\n",
              "    [theme=dark] .colab-df-convert {\n",
              "      background-color: #3B4455;\n",
              "      fill: #D2E3FC;\n",
              "    }\n",
              "\n",
              "    [theme=dark] .colab-df-convert:hover {\n",
              "      background-color: #434B5C;\n",
              "      box-shadow: 0px 1px 3px 1px rgba(0, 0, 0, 0.15);\n",
              "      filter: drop-shadow(0px 1px 2px rgba(0, 0, 0, 0.3));\n",
              "      fill: #FFFFFF;\n",
              "    }\n",
              "  </style>\n",
              "\n",
              "      <script>\n",
              "        const buttonEl =\n",
              "          document.querySelector('#df-08916ad5-71b6-45d1-95c8-2b9f2236024e button.colab-df-convert');\n",
              "        buttonEl.style.display =\n",
              "          google.colab.kernel.accessAllowed ? 'block' : 'none';\n",
              "\n",
              "        async function convertToInteractive(key) {\n",
              "          const element = document.querySelector('#df-08916ad5-71b6-45d1-95c8-2b9f2236024e');\n",
              "          const dataTable =\n",
              "            await google.colab.kernel.invokeFunction('convertToInteractive',\n",
              "                                                     [key], {});\n",
              "          if (!dataTable) return;\n",
              "\n",
              "          const docLinkHtml = 'Like what you see? Visit the ' +\n",
              "            '<a target=\"_blank\" href=https://colab.research.google.com/notebooks/data_table.ipynb>data table notebook</a>'\n",
              "            + ' to learn more about interactive tables.';\n",
              "          element.innerHTML = '';\n",
              "          dataTable['output_type'] = 'display_data';\n",
              "          await google.colab.output.renderOutput(dataTable, element);\n",
              "          const docLink = document.createElement('div');\n",
              "          docLink.innerHTML = docLinkHtml;\n",
              "          element.appendChild(docLink);\n",
              "        }\n",
              "      </script>\n",
              "    </div>\n",
              "  </div>\n",
              "  "
            ]
          },
          "metadata": {},
          "execution_count": 72
        }
      ]
    },
    {
      "cell_type": "markdown",
      "source": [
        "*Viewing the cluster assigment per row in the dataset. *"
      ],
      "metadata": {
        "id": "dbFh7fwef_Vq"
      }
    },
    {
      "cell_type": "code",
      "source": [
        "kmeans2['Cluster'] = kmeans2['Cluster'].astype('category')\n",
        "kmeans2"
      ],
      "metadata": {
        "colab": {
          "base_uri": "https://localhost:8080/",
          "height": 424
        },
        "id": "20B4XYQFToo_",
        "outputId": "66300486-daa9-4558-b3db-e91e3eb2f601"
      },
      "execution_count": 73,
      "outputs": [
        {
          "output_type": "execute_result",
          "data": {
            "text/plain": [
              "       total_ppl  square_foot  household_income  number_pets  \\\n",
              "0      -0.716147     0.232960         -0.101328    -0.644446   \n",
              "1      -0.716147     0.851909         -0.061423     0.621159   \n",
              "2       0.512938    -0.645826          0.261753     0.621159   \n",
              "3      -0.716147    -0.601703         -0.450824    -0.644446   \n",
              "4      -0.716147    -0.829672          0.174158     0.621159   \n",
              "...          ...          ...               ...          ...   \n",
              "14995   0.512938    -0.388441         -0.380519    -0.644446   \n",
              "14996   1.742024    -1.486617         -0.061191    -0.644446   \n",
              "14997   0.512938     0.479314          0.980832    -0.644446   \n",
              "14998   1.742024    -0.691175         -1.448652    -0.644446   \n",
              "14999   0.512938     1.734371         -1.290422    -1.910050   \n",
              "\n",
              "       entertainment_spend_est  travel_spend_est Cluster  \n",
              "0                    -0.213698         -1.154944       3  \n",
              "1                     0.588799          1.033877       2  \n",
              "2                    -1.331818         -0.623595       4  \n",
              "3                    -1.225907         -0.135637       3  \n",
              "4                     0.780432         -2.726360       4  \n",
              "...                        ...               ...     ...  \n",
              "14995                -0.466227         -0.540051       3  \n",
              "14996                -0.695982         -0.654241       3  \n",
              "14997                 1.126927         -0.229616       0  \n",
              "14998                -1.873818          0.303397       3  \n",
              "14999                 0.819570          0.679153       2  \n",
              "\n",
              "[15000 rows x 7 columns]"
            ],
            "text/html": [
              "\n",
              "  <div id=\"df-c31385e0-9aaf-4c5f-a13f-20ccf30b1633\">\n",
              "    <div class=\"colab-df-container\">\n",
              "      <div>\n",
              "<style scoped>\n",
              "    .dataframe tbody tr th:only-of-type {\n",
              "        vertical-align: middle;\n",
              "    }\n",
              "\n",
              "    .dataframe tbody tr th {\n",
              "        vertical-align: top;\n",
              "    }\n",
              "\n",
              "    .dataframe thead th {\n",
              "        text-align: right;\n",
              "    }\n",
              "</style>\n",
              "<table border=\"1\" class=\"dataframe\">\n",
              "  <thead>\n",
              "    <tr style=\"text-align: right;\">\n",
              "      <th></th>\n",
              "      <th>total_ppl</th>\n",
              "      <th>square_foot</th>\n",
              "      <th>household_income</th>\n",
              "      <th>number_pets</th>\n",
              "      <th>entertainment_spend_est</th>\n",
              "      <th>travel_spend_est</th>\n",
              "      <th>Cluster</th>\n",
              "    </tr>\n",
              "  </thead>\n",
              "  <tbody>\n",
              "    <tr>\n",
              "      <th>0</th>\n",
              "      <td>-0.716147</td>\n",
              "      <td>0.232960</td>\n",
              "      <td>-0.101328</td>\n",
              "      <td>-0.644446</td>\n",
              "      <td>-0.213698</td>\n",
              "      <td>-1.154944</td>\n",
              "      <td>3</td>\n",
              "    </tr>\n",
              "    <tr>\n",
              "      <th>1</th>\n",
              "      <td>-0.716147</td>\n",
              "      <td>0.851909</td>\n",
              "      <td>-0.061423</td>\n",
              "      <td>0.621159</td>\n",
              "      <td>0.588799</td>\n",
              "      <td>1.033877</td>\n",
              "      <td>2</td>\n",
              "    </tr>\n",
              "    <tr>\n",
              "      <th>2</th>\n",
              "      <td>0.512938</td>\n",
              "      <td>-0.645826</td>\n",
              "      <td>0.261753</td>\n",
              "      <td>0.621159</td>\n",
              "      <td>-1.331818</td>\n",
              "      <td>-0.623595</td>\n",
              "      <td>4</td>\n",
              "    </tr>\n",
              "    <tr>\n",
              "      <th>3</th>\n",
              "      <td>-0.716147</td>\n",
              "      <td>-0.601703</td>\n",
              "      <td>-0.450824</td>\n",
              "      <td>-0.644446</td>\n",
              "      <td>-1.225907</td>\n",
              "      <td>-0.135637</td>\n",
              "      <td>3</td>\n",
              "    </tr>\n",
              "    <tr>\n",
              "      <th>4</th>\n",
              "      <td>-0.716147</td>\n",
              "      <td>-0.829672</td>\n",
              "      <td>0.174158</td>\n",
              "      <td>0.621159</td>\n",
              "      <td>0.780432</td>\n",
              "      <td>-2.726360</td>\n",
              "      <td>4</td>\n",
              "    </tr>\n",
              "    <tr>\n",
              "      <th>...</th>\n",
              "      <td>...</td>\n",
              "      <td>...</td>\n",
              "      <td>...</td>\n",
              "      <td>...</td>\n",
              "      <td>...</td>\n",
              "      <td>...</td>\n",
              "      <td>...</td>\n",
              "    </tr>\n",
              "    <tr>\n",
              "      <th>14995</th>\n",
              "      <td>0.512938</td>\n",
              "      <td>-0.388441</td>\n",
              "      <td>-0.380519</td>\n",
              "      <td>-0.644446</td>\n",
              "      <td>-0.466227</td>\n",
              "      <td>-0.540051</td>\n",
              "      <td>3</td>\n",
              "    </tr>\n",
              "    <tr>\n",
              "      <th>14996</th>\n",
              "      <td>1.742024</td>\n",
              "      <td>-1.486617</td>\n",
              "      <td>-0.061191</td>\n",
              "      <td>-0.644446</td>\n",
              "      <td>-0.695982</td>\n",
              "      <td>-0.654241</td>\n",
              "      <td>3</td>\n",
              "    </tr>\n",
              "    <tr>\n",
              "      <th>14997</th>\n",
              "      <td>0.512938</td>\n",
              "      <td>0.479314</td>\n",
              "      <td>0.980832</td>\n",
              "      <td>-0.644446</td>\n",
              "      <td>1.126927</td>\n",
              "      <td>-0.229616</td>\n",
              "      <td>0</td>\n",
              "    </tr>\n",
              "    <tr>\n",
              "      <th>14998</th>\n",
              "      <td>1.742024</td>\n",
              "      <td>-0.691175</td>\n",
              "      <td>-1.448652</td>\n",
              "      <td>-0.644446</td>\n",
              "      <td>-1.873818</td>\n",
              "      <td>0.303397</td>\n",
              "      <td>3</td>\n",
              "    </tr>\n",
              "    <tr>\n",
              "      <th>14999</th>\n",
              "      <td>0.512938</td>\n",
              "      <td>1.734371</td>\n",
              "      <td>-1.290422</td>\n",
              "      <td>-1.910050</td>\n",
              "      <td>0.819570</td>\n",
              "      <td>0.679153</td>\n",
              "      <td>2</td>\n",
              "    </tr>\n",
              "  </tbody>\n",
              "</table>\n",
              "<p>15000 rows × 7 columns</p>\n",
              "</div>\n",
              "      <button class=\"colab-df-convert\" onclick=\"convertToInteractive('df-c31385e0-9aaf-4c5f-a13f-20ccf30b1633')\"\n",
              "              title=\"Convert this dataframe to an interactive table.\"\n",
              "              style=\"display:none;\">\n",
              "        \n",
              "  <svg xmlns=\"http://www.w3.org/2000/svg\" height=\"24px\"viewBox=\"0 0 24 24\"\n",
              "       width=\"24px\">\n",
              "    <path d=\"M0 0h24v24H0V0z\" fill=\"none\"/>\n",
              "    <path d=\"M18.56 5.44l.94 2.06.94-2.06 2.06-.94-2.06-.94-.94-2.06-.94 2.06-2.06.94zm-11 1L8.5 8.5l.94-2.06 2.06-.94-2.06-.94L8.5 2.5l-.94 2.06-2.06.94zm10 10l.94 2.06.94-2.06 2.06-.94-2.06-.94-.94-2.06-.94 2.06-2.06.94z\"/><path d=\"M17.41 7.96l-1.37-1.37c-.4-.4-.92-.59-1.43-.59-.52 0-1.04.2-1.43.59L10.3 9.45l-7.72 7.72c-.78.78-.78 2.05 0 2.83L4 21.41c.39.39.9.59 1.41.59.51 0 1.02-.2 1.41-.59l7.78-7.78 2.81-2.81c.8-.78.8-2.07 0-2.86zM5.41 20L4 18.59l7.72-7.72 1.47 1.35L5.41 20z\"/>\n",
              "  </svg>\n",
              "      </button>\n",
              "      \n",
              "  <style>\n",
              "    .colab-df-container {\n",
              "      display:flex;\n",
              "      flex-wrap:wrap;\n",
              "      gap: 12px;\n",
              "    }\n",
              "\n",
              "    .colab-df-convert {\n",
              "      background-color: #E8F0FE;\n",
              "      border: none;\n",
              "      border-radius: 50%;\n",
              "      cursor: pointer;\n",
              "      display: none;\n",
              "      fill: #1967D2;\n",
              "      height: 32px;\n",
              "      padding: 0 0 0 0;\n",
              "      width: 32px;\n",
              "    }\n",
              "\n",
              "    .colab-df-convert:hover {\n",
              "      background-color: #E2EBFA;\n",
              "      box-shadow: 0px 1px 2px rgba(60, 64, 67, 0.3), 0px 1px 3px 1px rgba(60, 64, 67, 0.15);\n",
              "      fill: #174EA6;\n",
              "    }\n",
              "\n",
              "    [theme=dark] .colab-df-convert {\n",
              "      background-color: #3B4455;\n",
              "      fill: #D2E3FC;\n",
              "    }\n",
              "\n",
              "    [theme=dark] .colab-df-convert:hover {\n",
              "      background-color: #434B5C;\n",
              "      box-shadow: 0px 1px 3px 1px rgba(0, 0, 0, 0.15);\n",
              "      filter: drop-shadow(0px 1px 2px rgba(0, 0, 0, 0.3));\n",
              "      fill: #FFFFFF;\n",
              "    }\n",
              "  </style>\n",
              "\n",
              "      <script>\n",
              "        const buttonEl =\n",
              "          document.querySelector('#df-c31385e0-9aaf-4c5f-a13f-20ccf30b1633 button.colab-df-convert');\n",
              "        buttonEl.style.display =\n",
              "          google.colab.kernel.accessAllowed ? 'block' : 'none';\n",
              "\n",
              "        async function convertToInteractive(key) {\n",
              "          const element = document.querySelector('#df-c31385e0-9aaf-4c5f-a13f-20ccf30b1633');\n",
              "          const dataTable =\n",
              "            await google.colab.kernel.invokeFunction('convertToInteractive',\n",
              "                                                     [key], {});\n",
              "          if (!dataTable) return;\n",
              "\n",
              "          const docLinkHtml = 'Like what you see? Visit the ' +\n",
              "            '<a target=\"_blank\" href=https://colab.research.google.com/notebooks/data_table.ipynb>data table notebook</a>'\n",
              "            + ' to learn more about interactive tables.';\n",
              "          element.innerHTML = '';\n",
              "          dataTable['output_type'] = 'display_data';\n",
              "          await google.colab.output.renderOutput(dataTable, element);\n",
              "          const docLink = document.createElement('div');\n",
              "          docLink.innerHTML = docLinkHtml;\n",
              "          element.appendChild(docLink);\n",
              "        }\n",
              "      </script>\n",
              "    </div>\n",
              "  </div>\n",
              "  "
            ]
          },
          "metadata": {},
          "execution_count": 73
        }
      ]
    },
    {
      "cell_type": "markdown",
      "source": [
        "**VISUALIZATIONS BY CLUSTER** "
      ],
      "metadata": {
        "id": "eO5xOFefgHCm"
      }
    },
    {
      "cell_type": "markdown",
      "source": [
        "This visualization indicates that individuals from Clusters 0 and 1 have the highest estimated annual household income in comparison to individuals from the other Clusters.  "
      ],
      "metadata": {
        "id": "lERFbsk7v_36"
      }
    },
    {
      "cell_type": "code",
      "source": [
        "sns.histplot(data=kmeans2, x=\"household_income\", hue=\"Cluster\", multiple=\"stack\",bins=5)"
      ],
      "metadata": {
        "colab": {
          "base_uri": "https://localhost:8080/",
          "height": 297
        },
        "id": "_HnrIk1kVRmH",
        "outputId": "481d3cf9-1299-454a-ddf4-8dc11421fe34"
      },
      "execution_count": 34,
      "outputs": [
        {
          "output_type": "execute_result",
          "data": {
            "text/plain": [
              "<matplotlib.axes._subplots.AxesSubplot at 0x7fb7443ca4d0>"
            ]
          },
          "metadata": {},
          "execution_count": 34
        },
        {
          "output_type": "display_data",
          "data": {
            "text/plain": [
              "<Figure size 432x288 with 1 Axes>"
            ],
            "image/png": "[encoded data removed]"
          },
          "metadata": {
            "needs_background": "light"
          }
        }
      ]
    },
    {
      "cell_type": "code",
      "source": [
        "sns.histplot(data=kmeans2, x=\"household_income\", hue=\"Cluster\", multiple=\"stack\",bins=25)"
      ],
      "metadata": {
        "colab": {
          "base_uri": "https://localhost:8080/",
          "height": 297
        },
        "id": "ZMXeUTbjVV_G",
        "outputId": "5818b278-15ed-4120-8a3c-06053716c1da"
      },
      "execution_count": 35,
      "outputs": [
        {
          "output_type": "execute_result",
          "data": {
            "text/plain": [
              "<matplotlib.axes._subplots.AxesSubplot at 0x7fb7443f9d10>"
            ]
          },
          "metadata": {},
          "execution_count": 35
        },
        {
          "output_type": "display_data",
          "data": {
            "text/plain": [
              "<Figure size 432x288 with 1 Axes>"
            ],
            "image/png": "[encoded data removed]"
          },
          "metadata": {
            "needs_background": "light"
          }
        }
      ]
    },
    {
      "cell_type": "code",
      "source": [
        "sns.histplot(data=kmeans2, x=\"household_income\", hue=\"Cluster\", multiple=\"stack\",bins=50)"
      ],
      "metadata": {
        "colab": {
          "base_uri": "https://localhost:8080/",
          "height": 297
        },
        "id": "GGtsa3_FUCUm",
        "outputId": "bd3ab556-95be-439f-8feb-0dae9a9b19ff"
      },
      "execution_count": 36,
      "outputs": [
        {
          "output_type": "execute_result",
          "data": {
            "text/plain": [
              "<matplotlib.axes._subplots.AxesSubplot at 0x7fb74421cd90>"
            ]
          },
          "metadata": {},
          "execution_count": 36
        },
        {
          "output_type": "display_data",
          "data": {
            "text/plain": [
              "<Figure size 432x288 with 1 Axes>"
            ],
            "image/png": "[encoded data removed]"
          },
          "metadata": {
            "needs_background": "light"
          }
        }
      ]
    },
    {
      "cell_type": "code",
      "source": [
        "sns.histplot(data=kmeans2, x=\"household_income\", hue=\"Cluster\", multiple=\"stack\",bins=100)"
      ],
      "metadata": {
        "colab": {
          "base_uri": "https://localhost:8080/",
          "height": 297
        },
        "id": "t1DVYovqUirR",
        "outputId": "8b4282eb-510b-4765-d3f8-b594784107bd"
      },
      "execution_count": 37,
      "outputs": [
        {
          "output_type": "execute_result",
          "data": {
            "text/plain": [
              "<matplotlib.axes._subplots.AxesSubplot at 0x7fb7414bb710>"
            ]
          },
          "metadata": {},
          "execution_count": 37
        },
        {
          "output_type": "display_data",
          "data": {
            "text/plain": [
              "<Figure size 432x288 with 1 Axes>"
            ],
            "image/png": "[encoded data removed]"
          },
          "metadata": {
            "needs_background": "light"
          }
        }
      ]
    },
    {
      "cell_type": "markdown",
      "source": [
        " This visualization indicates that individuals from Cluster 2 have the highest estimated annual expenditure on travel followed by individuals from Cluster 0 and 1"
      ],
      "metadata": {
        "id": "In0fCUMTjxBA"
      }
    },
    {
      "cell_type": "code",
      "source": [
        "sns.histplot(data=kmeans2, x=\"travel_spend_est\", hue=\"Cluster\", multiple=\"stack\",bins=50)"
      ],
      "metadata": {
        "colab": {
          "base_uri": "https://localhost:8080/",
          "height": 298
        },
        "id": "e3ONTKQCNCmI",
        "outputId": "ec453793-7c8f-4b2a-86bc-0d42d356be9d"
      },
      "execution_count": 45,
      "outputs": [
        {
          "output_type": "execute_result",
          "data": {
            "text/plain": [
              "<matplotlib.axes._subplots.AxesSubplot at 0x7fb744720750>"
            ]
          },
          "metadata": {},
          "execution_count": 45
        },
        {
          "output_type": "display_data",
          "data": {
            "text/plain": [
              "<Figure size 432x288 with 1 Axes>"
            ],
            "image/png": "[encoded data removed]"
          },
          "metadata": {
            "needs_background": "light"
          }
        }
      ]
    },
    {
      "cell_type": "markdown",
      "source": [
        " This visualization indicates that individuals from Cluster 0 and Cluster 1 have the highest estimated annual expenditure on entertainment. Individuals from Clusters 2, 3 and 4 are not that enthusiastic. "
      ],
      "metadata": {
        "id": "-DpNXS_9kEfY"
      }
    },
    {
      "cell_type": "code",
      "source": [
        "sns.histplot(data=kmeans2, x=\"entertainment_spend_est\", hue=\"Cluster\", multiple=\"stack\",bins=5)"
      ],
      "metadata": {
        "colab": {
          "base_uri": "https://localhost:8080/",
          "height": 298
        },
        "id": "fmwCXw0VNV1W",
        "outputId": "abe8f779-a1ef-42f8-da76-c107b7fdd283"
      },
      "execution_count": 41,
      "outputs": [
        {
          "output_type": "execute_result",
          "data": {
            "text/plain": [
              "<matplotlib.axes._subplots.AxesSubplot at 0x7fb740b2ee50>"
            ]
          },
          "metadata": {},
          "execution_count": 41
        },
        {
          "output_type": "display_data",
          "data": {
            "text/plain": [
              "<Figure size 432x288 with 1 Axes>"
            ],
            "image/png": "[encoded data removed]"
          },
          "metadata": {
            "needs_background": "light"
          }
        }
      ]
    },
    {
      "cell_type": "markdown",
      "source": [
        "This visualization indicates that individuals from Cluster 4 have the most number of pets. "
      ],
      "metadata": {
        "id": "YbYyRbpclALA"
      }
    },
    {
      "cell_type": "code",
      "source": [
        "sns.histplot(data=kmeans2, x=\"number_pets\", hue=\"Cluster\", multiple=\"stack\" ,bins=5)\n",
        "\n",
        "#sns.barplot(x='total_ppl', y='square_foot', data=kmeans2);"
      ],
      "metadata": {
        "colab": {
          "base_uri": "https://localhost:8080/",
          "height": 297
        },
        "id": "9sGR41iD1dHN",
        "outputId": "262008c6-ad99-4917-9fb2-11fba29385b2"
      },
      "execution_count": 47,
      "outputs": [
        {
          "output_type": "execute_result",
          "data": {
            "text/plain": [
              "<matplotlib.axes._subplots.AxesSubplot at 0x7fb7406c3f10>"
            ]
          },
          "metadata": {},
          "execution_count": 47
        },
        {
          "output_type": "display_data",
          "data": {
            "text/plain": [
              "<Figure size 432x288 with 1 Axes>"
            ],
            "image/png": "[encoded data removed]"
          },
          "metadata": {
            "needs_background": "light"
          }
        }
      ]
    },
    {
      "cell_type": "markdown",
      "source": [
        "NAME OF CLUSTERS AND EXPLANATION OF THE NAMES \n",
        "\n",
        "\n",
        "---\n",
        "\n",
        "\n",
        "CLUSTER 0 - Cluster Super Rich, Super Entertainment Seekers and High Expedition Seekers.  \n",
        "\n",
        "This is because the cluster has the highest scores for household_income and entertainment_spend_est. Also the second best score for travel_spend_est.   \n",
        "\n",
        "\n",
        "\n",
        "CLUSTER 1 - Cluster Rich, Entertainment Seekers and Low Expedition Seekers.\n",
        "\n",
        "This is because the cluster has good scores for household_income, entertainment_spend_est and travel_spend_est.\n",
        "\n",
        "\n",
        "\n",
        "CLUSTER 2 -  Cluster Highest Expedition Seekers\n",
        "This is because the cluster has the highest score for travel_spend_est.\n",
        "\n",
        "\n",
        "\n",
        "CLUSTER 3 - Cluster Seniors  \n",
        "This because the cluster has poor scores for household_income, entertainment_spend_est and travel_spend_est.\n",
        "\n",
        "\n",
        "\n",
        "CLUSTER 4 - Cluster Seniors \n",
        "This is because the cluster has similar values with CLUSTER 3. \n",
        "\n",
        "\n",
        "---\n",
        "\n",
        "\n",
        "\n",
        "\n",
        "\n",
        "RECOMMENDATION TO PARK MANAGEMENT ON HOW TO REACH EACH SEGMENT. \n",
        "\n",
        "\n",
        "\n",
        "CLUSTER SUPER RICH, SUPER ENTERTAINMENT SEEKERS AND HIGH EXPEDITION SEEKERS\n",
        "Given the individuals in this cluster are super rich, super entertainment seekers and high expedition seekers, Park management could target the individuals in this cluster by informing them of the very best on offer at Lobster Land. The offer could range from Luxury accomodation, exotic cars for transport, top notch dining and world class entertainment. \n",
        "\n",
        "CLUSTER RICH, ENTERTAINMENT SEEKERS AND LOW EXPEDITION SEEKERS\n",
        "Given the individuals in this cluster are rich, entertainment seekers and low expedition seekers, Park management could target the individuals in this cluster by offering holiday packages that seem to cover the cost of travel to Lobster Land and offer discounts on entertainment shows. Revenue from luxury accomodation and exotic transportation at lobster land by these individuals might just balance the books. \n",
        "\n",
        "CLUSTER HIGHEST EXPEDITION SEEKERS\n",
        "Given that the individuals from this cluster are the Highest Expedition Seekers, Park Management can target them by offering packages with discounts on accomodation and entertainment at Lobster Land. Then make it seem as though all they would have to pay a full amount on is the cost of their journey to Lobster Land which they would not mind paying for given the result of the clustering model. \n",
        "\n",
        "CLUSTER SENIORS \n",
        "The individuals in this cluster which is an aggregation of Clusters 3 & 4 are seniors. They might not be too keen on visiting Lobster Land hence they would not need to be specifically targeted because spending on targeted marketing for this cluster might not yield good returns.  \n",
        "\n"
      ],
      "metadata": {
        "id": "vvRLbTdDv9cv"
      }
    },
    {
      "cell_type": "code",
      "source": [
        "kmeans2 = wr_standard.assign(Cluster = cluster_labels)\n",
        "kmeans2.groupby(['Cluster']).agg({\n",
        "'total_ppl': 'mean',\n",
        "'square_foot': 'mean',\n",
        "'household_income': 'mean',\n",
        "'number_pets': 'mean',\n",
        "'entertainment_spend_est': 'mean',\n",
        "'travel_spend_est': 'mean'\n",
        "}).round(2)"
      ],
      "metadata": {
        "colab": {
          "base_uri": "https://localhost:8080/",
          "height": 237
        },
        "id": "lNeSenQMhqxt",
        "outputId": "90bf8ebe-ec9e-477d-f10c-340abc167391"
      },
      "execution_count": 42,
      "outputs": [
        {
          "output_type": "execute_result",
          "data": {
            "text/plain": [
              "         total_ppl  square_foot  household_income  number_pets  \\\n",
              "Cluster                                                          \n",
              "0             0.56         0.04              1.01        -0.01   \n",
              "1            -1.16        -0.40              0.49        -0.04   \n",
              "2            -0.02         1.19             -0.14         0.00   \n",
              "3             0.33        -0.43             -0.68        -0.93   \n",
              "4             0.34        -0.38             -0.64         0.94   \n",
              "\n",
              "         entertainment_spend_est  travel_spend_est  \n",
              "Cluster                                             \n",
              "0                           1.15              0.55  \n",
              "1                           0.34              0.15  \n",
              "2                          -0.23              0.68  \n",
              "3                          -0.60             -0.67  \n",
              "4                          -0.60             -0.67  "
            ],
            "text/html": [
              "\n",
              "  <div id=\"df-1405da36-c81e-43db-9ca4-a5048dea8dd6\">\n",
              "    <div class=\"colab-df-container\">\n",
              "      <div>\n",
              "<style scoped>\n",
              "    .dataframe tbody tr th:only-of-type {\n",
              "        vertical-align: middle;\n",
              "    }\n",
              "\n",
              "    .dataframe tbody tr th {\n",
              "        vertical-align: top;\n",
              "    }\n",
              "\n",
              "    .dataframe thead th {\n",
              "        text-align: right;\n",
              "    }\n",
              "</style>\n",
              "<table border=\"1\" class=\"dataframe\">\n",
              "  <thead>\n",
              "    <tr style=\"text-align: right;\">\n",
              "      <th></th>\n",
              "      <th>total_ppl</th>\n",
              "      <th>square_foot</th>\n",
              "      <th>household_income</th>\n",
              "      <th>number_pets</th>\n",
              "      <th>entertainment_spend_est</th>\n",
              "      <th>travel_spend_est</th>\n",
              "    </tr>\n",
              "    <tr>\n",
              "      <th>Cluster</th>\n",
              "      <th></th>\n",
              "      <th></th>\n",
              "      <th></th>\n",
              "      <th></th>\n",
              "      <th></th>\n",
              "      <th></th>\n",
              "    </tr>\n",
              "  </thead>\n",
              "  <tbody>\n",
              "    <tr>\n",
              "      <th>0</th>\n",
              "      <td>0.56</td>\n",
              "      <td>0.04</td>\n",
              "      <td>1.01</td>\n",
              "      <td>-0.01</td>\n",
              "      <td>1.15</td>\n",
              "      <td>0.55</td>\n",
              "    </tr>\n",
              "    <tr>\n",
              "      <th>1</th>\n",
              "      <td>-1.16</td>\n",
              "      <td>-0.40</td>\n",
              "      <td>0.49</td>\n",
              "      <td>-0.04</td>\n",
              "      <td>0.34</td>\n",
              "      <td>0.15</td>\n",
              "    </tr>\n",
              "    <tr>\n",
              "      <th>2</th>\n",
              "      <td>-0.02</td>\n",
              "      <td>1.19</td>\n",
              "      <td>-0.14</td>\n",
              "      <td>0.00</td>\n",
              "      <td>-0.23</td>\n",
              "      <td>0.68</td>\n",
              "    </tr>\n",
              "    <tr>\n",
              "      <th>3</th>\n",
              "      <td>0.33</td>\n",
              "      <td>-0.43</td>\n",
              "      <td>-0.68</td>\n",
              "      <td>-0.93</td>\n",
              "      <td>-0.60</td>\n",
              "      <td>-0.67</td>\n",
              "    </tr>\n",
              "    <tr>\n",
              "      <th>4</th>\n",
              "      <td>0.34</td>\n",
              "      <td>-0.38</td>\n",
              "      <td>-0.64</td>\n",
              "      <td>0.94</td>\n",
              "      <td>-0.60</td>\n",
              "      <td>-0.67</td>\n",
              "    </tr>\n",
              "  </tbody>\n",
              "</table>\n",
              "</div>\n",
              "      <button class=\"colab-df-convert\" onclick=\"convertToInteractive('df-1405da36-c81e-43db-9ca4-a5048dea8dd6')\"\n",
              "              title=\"Convert this dataframe to an interactive table.\"\n",
              "              style=\"display:none;\">\n",
              "        \n",
              "  <svg xmlns=\"http://www.w3.org/2000/svg\" height=\"24px\"viewBox=\"0 0 24 24\"\n",
              "       width=\"24px\">\n",
              "    <path d=\"M0 0h24v24H0V0z\" fill=\"none\"/>\n",
              "    <path d=\"M18.56 5.44l.94 2.06.94-2.06 2.06-.94-2.06-.94-.94-2.06-.94 2.06-2.06.94zm-11 1L8.5 8.5l.94-2.06 2.06-.94-2.06-.94L8.5 2.5l-.94 2.06-2.06.94zm10 10l.94 2.06.94-2.06 2.06-.94-2.06-.94-.94-2.06-.94 2.06-2.06.94z\"/><path d=\"M17.41 7.96l-1.37-1.37c-.4-.4-.92-.59-1.43-.59-.52 0-1.04.2-1.43.59L10.3 9.45l-7.72 7.72c-.78.78-.78 2.05 0 2.83L4 21.41c.39.39.9.59 1.41.59.51 0 1.02-.2 1.41-.59l7.78-7.78 2.81-2.81c.8-.78.8-2.07 0-2.86zM5.41 20L4 18.59l7.72-7.72 1.47 1.35L5.41 20z\"/>\n",
              "  </svg>\n",
              "      </button>\n",
              "      \n",
              "  <style>\n",
              "    .colab-df-container {\n",
              "      display:flex;\n",
              "      flex-wrap:wrap;\n",
              "      gap: 12px;\n",
              "    }\n",
              "\n",
              "    .colab-df-convert {\n",
              "      background-color: #E8F0FE;\n",
              "      border: none;\n",
              "      border-radius: 50%;\n",
              "      cursor: pointer;\n",
              "      display: none;\n",
              "      fill: #1967D2;\n",
              "      height: 32px;\n",
              "      padding: 0 0 0 0;\n",
              "      width: 32px;\n",
              "    }\n",
              "\n",
              "    .colab-df-convert:hover {\n",
              "      background-color: #E2EBFA;\n",
              "      box-shadow: 0px 1px 2px rgba(60, 64, 67, 0.3), 0px 1px 3px 1px rgba(60, 64, 67, 0.15);\n",
              "      fill: #174EA6;\n",
              "    }\n",
              "\n",
              "    [theme=dark] .colab-df-convert {\n",
              "      background-color: #3B4455;\n",
              "      fill: #D2E3FC;\n",
              "    }\n",
              "\n",
              "    [theme=dark] .colab-df-convert:hover {\n",
              "      background-color: #434B5C;\n",
              "      box-shadow: 0px 1px 3px 1px rgba(0, 0, 0, 0.15);\n",
              "      filter: drop-shadow(0px 1px 2px rgba(0, 0, 0, 0.3));\n",
              "      fill: #FFFFFF;\n",
              "    }\n",
              "  </style>\n",
              "\n",
              "      <script>\n",
              "        const buttonEl =\n",
              "          document.querySelector('#df-1405da36-c81e-43db-9ca4-a5048dea8dd6 button.colab-df-convert');\n",
              "        buttonEl.style.display =\n",
              "          google.colab.kernel.accessAllowed ? 'block' : 'none';\n",
              "\n",
              "        async function convertToInteractive(key) {\n",
              "          const element = document.querySelector('#df-1405da36-c81e-43db-9ca4-a5048dea8dd6');\n",
              "          const dataTable =\n",
              "            await google.colab.kernel.invokeFunction('convertToInteractive',\n",
              "                                                     [key], {});\n",
              "          if (!dataTable) return;\n",
              "\n",
              "          const docLinkHtml = 'Like what you see? Visit the ' +\n",
              "            '<a target=\"_blank\" href=https://colab.research.google.com/notebooks/data_table.ipynb>data table notebook</a>'\n",
              "            + ' to learn more about interactive tables.';\n",
              "          element.innerHTML = '';\n",
              "          dataTable['output_type'] = 'display_data';\n",
              "          await google.colab.output.renderOutput(dataTable, element);\n",
              "          const docLink = document.createElement('div');\n",
              "          docLink.innerHTML = docLinkHtml;\n",
              "          element.appendChild(docLink);\n",
              "        }\n",
              "      </script>\n",
              "    </div>\n",
              "  </div>\n",
              "  "
            ]
          },
          "metadata": {},
          "execution_count": 42
        }
      ]
    }
  ]
}