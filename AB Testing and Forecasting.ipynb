{
  "nbformat": 4,
  "nbformat_minor": 0,
  "metadata": {
    "colab": {
      "name": "ABtest and Foracsting.ipynb",
      "provenance": []
    },
    "kernelspec": {
      "name": "python3",
      "display_name": "Python 3"
    },
    "language_info": {
      "name": "python"
    }
  },
  "cells": [
    {
      "cell_type": "code",
      "execution_count": 2,
      "metadata": {
        "id": "Bi97CYD4q5VY"
      },
      "outputs": [],
      "source": [
        "import pandas as pd\n",
        "import matplotlib.pyplot as plt\n",
        "import seaborn as sns\n",
        "import numpy as np\n",
        "from scipy.stats import anderson"
      ]
    },
    {
      "cell_type": "code",
      "source": [
        "ABt = pd.read_csv(\"concert_pics.csv\") \n",
        "ABt.head()"
      ],
      "metadata": {
        "colab": {
          "base_uri": "https://localhost:8080/",
          "height": 206
        },
        "id": "pvKj2Pklq64u",
        "outputId": "2556890b-2ec4-4cba-8bc2-5812186271b0"
      },
      "execution_count": 16,
      "outputs": [
        {
          "output_type": "execute_result",
          "data": {
            "text/plain": [
              "   recipient       pic_seen  site_duration  spend  register\n",
              "0          1  Chili_Peppers           18.2   16.6         1\n",
              "1          2            Foo           21.2   15.3         0\n",
              "2          3         Billie           10.9   11.5         1\n",
              "3          4         Billie           11.3   17.8         0\n",
              "4          5  Chili_Peppers           19.7   17.3         0"
            ],
            "text/html": [
              "\n",
              "  <div id=\"df-43d27110-f9da-497a-8a7d-6d4182be94bc\">\n",
              "    <div class=\"colab-df-container\">\n",
              "      <div>\n",
              "<style scoped>\n",
              "    .dataframe tbody tr th:only-of-type {\n",
              "        vertical-align: middle;\n",
              "    }\n",
              "\n",
              "    .dataframe tbody tr th {\n",
              "        vertical-align: top;\n",
              "    }\n",
              "\n",
              "    .dataframe thead th {\n",
              "        text-align: right;\n",
              "    }\n",
              "</style>\n",
              "<table border=\"1\" class=\"dataframe\">\n",
              "  <thead>\n",
              "    <tr style=\"text-align: right;\">\n",
              "      <th></th>\n",
              "      <th>recipient</th>\n",
              "      <th>pic_seen</th>\n",
              "      <th>site_duration</th>\n",
              "      <th>spend</th>\n",
              "      <th>register</th>\n",
              "    </tr>\n",
              "  </thead>\n",
              "  <tbody>\n",
              "    <tr>\n",
              "      <th>0</th>\n",
              "      <td>1</td>\n",
              "      <td>Chili_Peppers</td>\n",
              "      <td>18.2</td>\n",
              "      <td>16.6</td>\n",
              "      <td>1</td>\n",
              "    </tr>\n",
              "    <tr>\n",
              "      <th>1</th>\n",
              "      <td>2</td>\n",
              "      <td>Foo</td>\n",
              "      <td>21.2</td>\n",
              "      <td>15.3</td>\n",
              "      <td>0</td>\n",
              "    </tr>\n",
              "    <tr>\n",
              "      <th>2</th>\n",
              "      <td>3</td>\n",
              "      <td>Billie</td>\n",
              "      <td>10.9</td>\n",
              "      <td>11.5</td>\n",
              "      <td>1</td>\n",
              "    </tr>\n",
              "    <tr>\n",
              "      <th>3</th>\n",
              "      <td>4</td>\n",
              "      <td>Billie</td>\n",
              "      <td>11.3</td>\n",
              "      <td>17.8</td>\n",
              "      <td>0</td>\n",
              "    </tr>\n",
              "    <tr>\n",
              "      <th>4</th>\n",
              "      <td>5</td>\n",
              "      <td>Chili_Peppers</td>\n",
              "      <td>19.7</td>\n",
              "      <td>17.3</td>\n",
              "      <td>0</td>\n",
              "    </tr>\n",
              "  </tbody>\n",
              "</table>\n",
              "</div>\n",
              "      <button class=\"colab-df-convert\" onclick=\"convertToInteractive('df-43d27110-f9da-497a-8a7d-6d4182be94bc')\"\n",
              "              title=\"Convert this dataframe to an interactive table.\"\n",
              "              style=\"display:none;\">\n",
              "        \n",
              "  <svg xmlns=\"http://www.w3.org/2000/svg\" height=\"24px\"viewBox=\"0 0 24 24\"\n",
              "       width=\"24px\">\n",
              "    <path d=\"M0 0h24v24H0V0z\" fill=\"none\"/>\n",
              "    <path d=\"M18.56 5.44l.94 2.06.94-2.06 2.06-.94-2.06-.94-.94-2.06-.94 2.06-2.06.94zm-11 1L8.5 8.5l.94-2.06 2.06-.94-2.06-.94L8.5 2.5l-.94 2.06-2.06.94zm10 10l.94 2.06.94-2.06 2.06-.94-2.06-.94-.94-2.06-.94 2.06-2.06.94z\"/><path d=\"M17.41 7.96l-1.37-1.37c-.4-.4-.92-.59-1.43-.59-.52 0-1.04.2-1.43.59L10.3 9.45l-7.72 7.72c-.78.78-.78 2.05 0 2.83L4 21.41c.39.39.9.59 1.41.59.51 0 1.02-.2 1.41-.59l7.78-7.78 2.81-2.81c.8-.78.8-2.07 0-2.86zM5.41 20L4 18.59l7.72-7.72 1.47 1.35L5.41 20z\"/>\n",
              "  </svg>\n",
              "      </button>\n",
              "      \n",
              "  <style>\n",
              "    .colab-df-container {\n",
              "      display:flex;\n",
              "      flex-wrap:wrap;\n",
              "      gap: 12px;\n",
              "    }\n",
              "\n",
              "    .colab-df-convert {\n",
              "      background-color: #E8F0FE;\n",
              "      border: none;\n",
              "      border-radius: 50%;\n",
              "      cursor: pointer;\n",
              "      display: none;\n",
              "      fill: #1967D2;\n",
              "      height: 32px;\n",
              "      padding: 0 0 0 0;\n",
              "      width: 32px;\n",
              "    }\n",
              "\n",
              "    .colab-df-convert:hover {\n",
              "      background-color: #E2EBFA;\n",
              "      box-shadow: 0px 1px 2px rgba(60, 64, 67, 0.3), 0px 1px 3px 1px rgba(60, 64, 67, 0.15);\n",
              "      fill: #174EA6;\n",
              "    }\n",
              "\n",
              "    [theme=dark] .colab-df-convert {\n",
              "      background-color: #3B4455;\n",
              "      fill: #D2E3FC;\n",
              "    }\n",
              "\n",
              "    [theme=dark] .colab-df-convert:hover {\n",
              "      background-color: #434B5C;\n",
              "      box-shadow: 0px 1px 3px 1px rgba(0, 0, 0, 0.15);\n",
              "      filter: drop-shadow(0px 1px 2px rgba(0, 0, 0, 0.3));\n",
              "      fill: #FFFFFF;\n",
              "    }\n",
              "  </style>\n",
              "\n",
              "      <script>\n",
              "        const buttonEl =\n",
              "          document.querySelector('#df-43d27110-f9da-497a-8a7d-6d4182be94bc button.colab-df-convert');\n",
              "        buttonEl.style.display =\n",
              "          google.colab.kernel.accessAllowed ? 'block' : 'none';\n",
              "\n",
              "        async function convertToInteractive(key) {\n",
              "          const element = document.querySelector('#df-43d27110-f9da-497a-8a7d-6d4182be94bc');\n",
              "          const dataTable =\n",
              "            await google.colab.kernel.invokeFunction('convertToInteractive',\n",
              "                                                     [key], {});\n",
              "          if (!dataTable) return;\n",
              "\n",
              "          const docLinkHtml = 'Like what you see? Visit the ' +\n",
              "            '<a target=\"_blank\" href=https://colab.research.google.com/notebooks/data_table.ipynb>data table notebook</a>'\n",
              "            + ' to learn more about interactive tables.';\n",
              "          element.innerHTML = '';\n",
              "          dataTable['output_type'] = 'display_data';\n",
              "          await google.colab.output.renderOutput(dataTable, element);\n",
              "          const docLink = document.createElement('div');\n",
              "          docLink.innerHTML = docLinkHtml;\n",
              "          element.appendChild(docLink);\n",
              "        }\n",
              "      </script>\n",
              "    </div>\n",
              "  </div>\n",
              "  "
            ]
          },
          "metadata": {},
          "execution_count": 16
        }
      ]
    },
    {
      "cell_type": "code",
      "source": [
        "ABt.isnull()\n"
      ],
      "metadata": {
        "colab": {
          "base_uri": "https://localhost:8080/",
          "height": 424
        },
        "id": "vSx0dcr36it1",
        "outputId": "98a11c3d-e1e6-4e37-e55d-cd3630bb981e"
      },
      "execution_count": 25,
      "outputs": [
        {
          "output_type": "execute_result",
          "data": {
            "text/plain": [
              "      recipient  pic_seen  site_duration  spend  register\n",
              "0         False     False          False  False     False\n",
              "1         False     False          False  False     False\n",
              "2         False     False          False  False     False\n",
              "3         False     False          False  False     False\n",
              "4         False     False          False  False     False\n",
              "...         ...       ...            ...    ...       ...\n",
              "3395      False     False          False  False     False\n",
              "3396      False     False          False  False     False\n",
              "3397      False     False          False  False     False\n",
              "3398      False     False          False  False     False\n",
              "3399      False     False          False  False     False\n",
              "\n",
              "[3400 rows x 5 columns]"
            ],
            "text/html": [
              "\n",
              "  <div id=\"df-c1769552-02a0-4bd9-a5c1-f9c536658acc\">\n",
              "    <div class=\"colab-df-container\">\n",
              "      <div>\n",
              "<style scoped>\n",
              "    .dataframe tbody tr th:only-of-type {\n",
              "        vertical-align: middle;\n",
              "    }\n",
              "\n",
              "    .dataframe tbody tr th {\n",
              "        vertical-align: top;\n",
              "    }\n",
              "\n",
              "    .dataframe thead th {\n",
              "        text-align: right;\n",
              "    }\n",
              "</style>\n",
              "<table border=\"1\" class=\"dataframe\">\n",
              "  <thead>\n",
              "    <tr style=\"text-align: right;\">\n",
              "      <th></th>\n",
              "      <th>recipient</th>\n",
              "      <th>pic_seen</th>\n",
              "      <th>site_duration</th>\n",
              "      <th>spend</th>\n",
              "      <th>register</th>\n",
              "    </tr>\n",
              "  </thead>\n",
              "  <tbody>\n",
              "    <tr>\n",
              "      <th>0</th>\n",
              "      <td>False</td>\n",
              "      <td>False</td>\n",
              "      <td>False</td>\n",
              "      <td>False</td>\n",
              "      <td>False</td>\n",
              "    </tr>\n",
              "    <tr>\n",
              "      <th>1</th>\n",
              "      <td>False</td>\n",
              "      <td>False</td>\n",
              "      <td>False</td>\n",
              "      <td>False</td>\n",
              "      <td>False</td>\n",
              "    </tr>\n",
              "    <tr>\n",
              "      <th>2</th>\n",
              "      <td>False</td>\n",
              "      <td>False</td>\n",
              "      <td>False</td>\n",
              "      <td>False</td>\n",
              "      <td>False</td>\n",
              "    </tr>\n",
              "    <tr>\n",
              "      <th>3</th>\n",
              "      <td>False</td>\n",
              "      <td>False</td>\n",
              "      <td>False</td>\n",
              "      <td>False</td>\n",
              "      <td>False</td>\n",
              "    </tr>\n",
              "    <tr>\n",
              "      <th>4</th>\n",
              "      <td>False</td>\n",
              "      <td>False</td>\n",
              "      <td>False</td>\n",
              "      <td>False</td>\n",
              "      <td>False</td>\n",
              "    </tr>\n",
              "    <tr>\n",
              "      <th>...</th>\n",
              "      <td>...</td>\n",
              "      <td>...</td>\n",
              "      <td>...</td>\n",
              "      <td>...</td>\n",
              "      <td>...</td>\n",
              "    </tr>\n",
              "    <tr>\n",
              "      <th>3395</th>\n",
              "      <td>False</td>\n",
              "      <td>False</td>\n",
              "      <td>False</td>\n",
              "      <td>False</td>\n",
              "      <td>False</td>\n",
              "    </tr>\n",
              "    <tr>\n",
              "      <th>3396</th>\n",
              "      <td>False</td>\n",
              "      <td>False</td>\n",
              "      <td>False</td>\n",
              "      <td>False</td>\n",
              "      <td>False</td>\n",
              "    </tr>\n",
              "    <tr>\n",
              "      <th>3397</th>\n",
              "      <td>False</td>\n",
              "      <td>False</td>\n",
              "      <td>False</td>\n",
              "      <td>False</td>\n",
              "      <td>False</td>\n",
              "    </tr>\n",
              "    <tr>\n",
              "      <th>3398</th>\n",
              "      <td>False</td>\n",
              "      <td>False</td>\n",
              "      <td>False</td>\n",
              "      <td>False</td>\n",
              "      <td>False</td>\n",
              "    </tr>\n",
              "    <tr>\n",
              "      <th>3399</th>\n",
              "      <td>False</td>\n",
              "      <td>False</td>\n",
              "      <td>False</td>\n",
              "      <td>False</td>\n",
              "      <td>False</td>\n",
              "    </tr>\n",
              "  </tbody>\n",
              "</table>\n",
              "<p>3400 rows × 5 columns</p>\n",
              "</div>\n",
              "      <button class=\"colab-df-convert\" onclick=\"convertToInteractive('df-c1769552-02a0-4bd9-a5c1-f9c536658acc')\"\n",
              "              title=\"Convert this dataframe to an interactive table.\"\n",
              "              style=\"display:none;\">\n",
              "        \n",
              "  <svg xmlns=\"http://www.w3.org/2000/svg\" height=\"24px\"viewBox=\"0 0 24 24\"\n",
              "       width=\"24px\">\n",
              "    <path d=\"M0 0h24v24H0V0z\" fill=\"none\"/>\n",
              "    <path d=\"M18.56 5.44l.94 2.06.94-2.06 2.06-.94-2.06-.94-.94-2.06-.94 2.06-2.06.94zm-11 1L8.5 8.5l.94-2.06 2.06-.94-2.06-.94L8.5 2.5l-.94 2.06-2.06.94zm10 10l.94 2.06.94-2.06 2.06-.94-2.06-.94-.94-2.06-.94 2.06-2.06.94z\"/><path d=\"M17.41 7.96l-1.37-1.37c-.4-.4-.92-.59-1.43-.59-.52 0-1.04.2-1.43.59L10.3 9.45l-7.72 7.72c-.78.78-.78 2.05 0 2.83L4 21.41c.39.39.9.59 1.41.59.51 0 1.02-.2 1.41-.59l7.78-7.78 2.81-2.81c.8-.78.8-2.07 0-2.86zM5.41 20L4 18.59l7.72-7.72 1.47 1.35L5.41 20z\"/>\n",
              "  </svg>\n",
              "      </button>\n",
              "      \n",
              "  <style>\n",
              "    .colab-df-container {\n",
              "      display:flex;\n",
              "      flex-wrap:wrap;\n",
              "      gap: 12px;\n",
              "    }\n",
              "\n",
              "    .colab-df-convert {\n",
              "      background-color: #E8F0FE;\n",
              "      border: none;\n",
              "      border-radius: 50%;\n",
              "      cursor: pointer;\n",
              "      display: none;\n",
              "      fill: #1967D2;\n",
              "      height: 32px;\n",
              "      padding: 0 0 0 0;\n",
              "      width: 32px;\n",
              "    }\n",
              "\n",
              "    .colab-df-convert:hover {\n",
              "      background-color: #E2EBFA;\n",
              "      box-shadow: 0px 1px 2px rgba(60, 64, 67, 0.3), 0px 1px 3px 1px rgba(60, 64, 67, 0.15);\n",
              "      fill: #174EA6;\n",
              "    }\n",
              "\n",
              "    [theme=dark] .colab-df-convert {\n",
              "      background-color: #3B4455;\n",
              "      fill: #D2E3FC;\n",
              "    }\n",
              "\n",
              "    [theme=dark] .colab-df-convert:hover {\n",
              "      background-color: #434B5C;\n",
              "      box-shadow: 0px 1px 3px 1px rgba(0, 0, 0, 0.15);\n",
              "      filter: drop-shadow(0px 1px 2px rgba(0, 0, 0, 0.3));\n",
              "      fill: #FFFFFF;\n",
              "    }\n",
              "  </style>\n",
              "\n",
              "      <script>\n",
              "        const buttonEl =\n",
              "          document.querySelector('#df-c1769552-02a0-4bd9-a5c1-f9c536658acc button.colab-df-convert');\n",
              "        buttonEl.style.display =\n",
              "          google.colab.kernel.accessAllowed ? 'block' : 'none';\n",
              "\n",
              "        async function convertToInteractive(key) {\n",
              "          const element = document.querySelector('#df-c1769552-02a0-4bd9-a5c1-f9c536658acc');\n",
              "          const dataTable =\n",
              "            await google.colab.kernel.invokeFunction('convertToInteractive',\n",
              "                                                     [key], {});\n",
              "          if (!dataTable) return;\n",
              "\n",
              "          const docLinkHtml = 'Like what you see? Visit the ' +\n",
              "            '<a target=\"_blank\" href=https://colab.research.google.com/notebooks/data_table.ipynb>data table notebook</a>'\n",
              "            + ' to learn more about interactive tables.';\n",
              "          element.innerHTML = '';\n",
              "          dataTable['output_type'] = 'display_data';\n",
              "          await google.colab.output.renderOutput(dataTable, element);\n",
              "          const docLink = document.createElement('div');\n",
              "          docLink.innerHTML = docLinkHtml;\n",
              "          element.appendChild(docLink);\n",
              "        }\n",
              "      </script>\n",
              "    </div>\n",
              "  </div>\n",
              "  "
            ]
          },
          "metadata": {},
          "execution_count": 25
        }
      ]
    },
    {
      "cell_type": "code",
      "source": [
        "\n",
        "overview = ABt.groupby(\"pic_seen\").mean()\n",
        "overview"
      ],
      "metadata": {
        "colab": {
          "base_uri": "https://localhost:8080/",
          "height": 175
        },
        "id": "hUcz0zQTsgAr",
        "outputId": "7eb406e8-d0df-4eb8-833d-48537d1ce798"
      },
      "execution_count": 7,
      "outputs": [
        {
          "output_type": "execute_result",
          "data": {
            "text/plain": [
              "                 recipient  site_duration      spend  register\n",
              "pic_seen                                                      \n",
              "Billie         1734.473730      10.975394  13.786778  0.416813\n",
              "Chili_Peppers  1693.945946      22.949189  16.781892  0.311712\n",
              "Foo            1673.040941      16.884059  14.016289  0.341463"
            ],
            "text/html": [
              "\n",
              "  <div id=\"df-fa3cd3fd-3cd0-4666-bc83-cf951b8b9b9b\">\n",
              "    <div class=\"colab-df-container\">\n",
              "      <div>\n",
              "<style scoped>\n",
              "    .dataframe tbody tr th:only-of-type {\n",
              "        vertical-align: middle;\n",
              "    }\n",
              "\n",
              "    .dataframe tbody tr th {\n",
              "        vertical-align: top;\n",
              "    }\n",
              "\n",
              "    .dataframe thead th {\n",
              "        text-align: right;\n",
              "    }\n",
              "</style>\n",
              "<table border=\"1\" class=\"dataframe\">\n",
              "  <thead>\n",
              "    <tr style=\"text-align: right;\">\n",
              "      <th></th>\n",
              "      <th>recipient</th>\n",
              "      <th>site_duration</th>\n",
              "      <th>spend</th>\n",
              "      <th>register</th>\n",
              "    </tr>\n",
              "    <tr>\n",
              "      <th>pic_seen</th>\n",
              "      <th></th>\n",
              "      <th></th>\n",
              "      <th></th>\n",
              "      <th></th>\n",
              "    </tr>\n",
              "  </thead>\n",
              "  <tbody>\n",
              "    <tr>\n",
              "      <th>Billie</th>\n",
              "      <td>1734.473730</td>\n",
              "      <td>10.975394</td>\n",
              "      <td>13.786778</td>\n",
              "      <td>0.416813</td>\n",
              "    </tr>\n",
              "    <tr>\n",
              "      <th>Chili_Peppers</th>\n",
              "      <td>1693.945946</td>\n",
              "      <td>22.949189</td>\n",
              "      <td>16.781892</td>\n",
              "      <td>0.311712</td>\n",
              "    </tr>\n",
              "    <tr>\n",
              "      <th>Foo</th>\n",
              "      <td>1673.040941</td>\n",
              "      <td>16.884059</td>\n",
              "      <td>14.016289</td>\n",
              "      <td>0.341463</td>\n",
              "    </tr>\n",
              "  </tbody>\n",
              "</table>\n",
              "</div>\n",
              "      <button class=\"colab-df-convert\" onclick=\"convertToInteractive('df-fa3cd3fd-3cd0-4666-bc83-cf951b8b9b9b')\"\n",
              "              title=\"Convert this dataframe to an interactive table.\"\n",
              "              style=\"display:none;\">\n",
              "        \n",
              "  <svg xmlns=\"http://www.w3.org/2000/svg\" height=\"24px\"viewBox=\"0 0 24 24\"\n",
              "       width=\"24px\">\n",
              "    <path d=\"M0 0h24v24H0V0z\" fill=\"none\"/>\n",
              "    <path d=\"M18.56 5.44l.94 2.06.94-2.06 2.06-.94-2.06-.94-.94-2.06-.94 2.06-2.06.94zm-11 1L8.5 8.5l.94-2.06 2.06-.94-2.06-.94L8.5 2.5l-.94 2.06-2.06.94zm10 10l.94 2.06.94-2.06 2.06-.94-2.06-.94-.94-2.06-.94 2.06-2.06.94z\"/><path d=\"M17.41 7.96l-1.37-1.37c-.4-.4-.92-.59-1.43-.59-.52 0-1.04.2-1.43.59L10.3 9.45l-7.72 7.72c-.78.78-.78 2.05 0 2.83L4 21.41c.39.39.9.59 1.41.59.51 0 1.02-.2 1.41-.59l7.78-7.78 2.81-2.81c.8-.78.8-2.07 0-2.86zM5.41 20L4 18.59l7.72-7.72 1.47 1.35L5.41 20z\"/>\n",
              "  </svg>\n",
              "      </button>\n",
              "      \n",
              "  <style>\n",
              "    .colab-df-container {\n",
              "      display:flex;\n",
              "      flex-wrap:wrap;\n",
              "      gap: 12px;\n",
              "    }\n",
              "\n",
              "    .colab-df-convert {\n",
              "      background-color: #E8F0FE;\n",
              "      border: none;\n",
              "      border-radius: 50%;\n",
              "      cursor: pointer;\n",
              "      display: none;\n",
              "      fill: #1967D2;\n",
              "      height: 32px;\n",
              "      padding: 0 0 0 0;\n",
              "      width: 32px;\n",
              "    }\n",
              "\n",
              "    .colab-df-convert:hover {\n",
              "      background-color: #E2EBFA;\n",
              "      box-shadow: 0px 1px 2px rgba(60, 64, 67, 0.3), 0px 1px 3px 1px rgba(60, 64, 67, 0.15);\n",
              "      fill: #174EA6;\n",
              "    }\n",
              "\n",
              "    [theme=dark] .colab-df-convert {\n",
              "      background-color: #3B4455;\n",
              "      fill: #D2E3FC;\n",
              "    }\n",
              "\n",
              "    [theme=dark] .colab-df-convert:hover {\n",
              "      background-color: #434B5C;\n",
              "      box-shadow: 0px 1px 3px 1px rgba(0, 0, 0, 0.15);\n",
              "      filter: drop-shadow(0px 1px 2px rgba(0, 0, 0, 0.3));\n",
              "      fill: #FFFFFF;\n",
              "    }\n",
              "  </style>\n",
              "\n",
              "      <script>\n",
              "        const buttonEl =\n",
              "          document.querySelector('#df-fa3cd3fd-3cd0-4666-bc83-cf951b8b9b9b button.colab-df-convert');\n",
              "        buttonEl.style.display =\n",
              "          google.colab.kernel.accessAllowed ? 'block' : 'none';\n",
              "\n",
              "        async function convertToInteractive(key) {\n",
              "          const element = document.querySelector('#df-fa3cd3fd-3cd0-4666-bc83-cf951b8b9b9b');\n",
              "          const dataTable =\n",
              "            await google.colab.kernel.invokeFunction('convertToInteractive',\n",
              "                                                     [key], {});\n",
              "          if (!dataTable) return;\n",
              "\n",
              "          const docLinkHtml = 'Like what you see? Visit the ' +\n",
              "            '<a target=\"_blank\" href=https://colab.research.google.com/notebooks/data_table.ipynb>data table notebook</a>'\n",
              "            + ' to learn more about interactive tables.';\n",
              "          element.innerHTML = '';\n",
              "          dataTable['output_type'] = 'display_data';\n",
              "          await google.colab.output.renderOutput(dataTable, element);\n",
              "          const docLink = document.createElement('div');\n",
              "          docLink.innerHTML = docLinkHtml;\n",
              "          element.appendChild(docLink);\n",
              "        }\n",
              "      </script>\n",
              "    </div>\n",
              "  </div>\n",
              "  "
            ]
          },
          "metadata": {},
          "execution_count": 7
        }
      ]
    },
    {
      "cell_type": "code",
      "source": [
        "sns.barplot(data=overview,x = overview.index, y = 'spend')"
      ],
      "metadata": {
        "colab": {
          "base_uri": "https://localhost:8080/",
          "height": 299
        },
        "id": "9lWte2H_tfsA",
        "outputId": "619a2596-4f0a-4292-f732-a8016fe1a7ea"
      },
      "execution_count": 10,
      "outputs": [
        {
          "output_type": "execute_result",
          "data": {
            "text/plain": [
              "<matplotlib.axes._subplots.AxesSubplot at 0x7fcc15e584d0>"
            ]
          },
          "metadata": {},
          "execution_count": 10
        },
        {
          "output_type": "display_data",
          "data": {
            "text/plain": [
              "<Figure size 432x288 with 1 Axes>"
            ],
            "image/png": "[encoded data removed]"
          },
          "metadata": {
            "needs_background": "light"
          }
        }
      ]
    },
    {
      "cell_type": "code",
      "source": [
        "sns.barplot(data=overview,x = overview.index, y = 'site_duration')"
      ],
      "metadata": {
        "colab": {
          "base_uri": "https://localhost:8080/",
          "height": 299
        },
        "id": "tpghtpXTvoVP",
        "outputId": "1f2dfa11-79b2-4afc-df54-7e747565efd1"
      },
      "execution_count": 11,
      "outputs": [
        {
          "output_type": "execute_result",
          "data": {
            "text/plain": [
              "<matplotlib.axes._subplots.AxesSubplot at 0x7fcc15ca2090>"
            ]
          },
          "metadata": {},
          "execution_count": 11
        },
        {
          "output_type": "display_data",
          "data": {
            "text/plain": [
              "<Figure size 432x288 with 1 Axes>"
            ],
            "image/png": "[encoded data removed]"
          },
          "metadata": {
            "needs_background": "light"
          }
        }
      ]
    },
    {
      "cell_type": "code",
      "source": [
        "p1s=ABt.loc[ABt['pic_seen']=='Billie']['spend']\n",
        "p2s=ABt.loc[ABt['pic_seen']=='Chili_Peppers']['spend']\n",
        "p3s=ABt.loc[ABt['pic_seen']=='Foo']['spend']\n",
        "p1d=ABt.loc[ABt['pic_seen']=='Billie']['site_duration']\n",
        "p2d=ABt.loc[ABt['pic_seen']=='Chili_Peppers']['site_duration']\n",
        "p3d=ABt.loc[ABt['pic_seen']=='Foo']['site_duration']"
      ],
      "metadata": {
        "id": "uibxgEtTw17e"
      },
      "execution_count": 36,
      "outputs": []
    },
    {
      "cell_type": "code",
      "source": [
        "#spend \n",
        "import scipy.stats as stats\n",
        "(tstat, p_value)= stats.ttest_ind(p1s,p2s, equal_var=False)\n",
        "print(\"The test statistic is: \", round(tstat,5))\n",
        "print(\"The p-value is: \", round(p_value,5))"
      ],
      "metadata": {
        "colab": {
          "base_uri": "https://localhost:8080/"
        },
        "id": "nlJIxIqt2d1v",
        "outputId": "37bd7ac9-672c-41aa-ef6c-86c25542253f"
      },
      "execution_count": 37,
      "outputs": [
        {
          "output_type": "stream",
          "name": "stdout",
          "text": [
            "The test statistic is:  -39.15936\n",
            "The p-value is:  0.0\n"
          ]
        }
      ]
    },
    {
      "cell_type": "code",
      "source": [
        "\n",
        "(tstat, p_value)= stats.ttest_ind(p1d,p3s, equal_var=False)\n",
        "print(\"The test statistic is: \", round(tstat,5))\n",
        "print(\"The p-value is: \", round(p_value,5))"
      ],
      "metadata": {
        "colab": {
          "base_uri": "https://localhost:8080/"
        },
        "id": "9y282NHd7-DV",
        "outputId": "4857d4e5-6759-4d60-92fe-0c378e4f4d45"
      },
      "execution_count": 38,
      "outputs": [
        {
          "output_type": "stream",
          "name": "stdout",
          "text": [
            "The test statistic is:  -47.4005\n",
            "The p-value is:  0.0\n"
          ]
        }
      ]
    },
    {
      "cell_type": "code",
      "source": [
        "#duration"
      ],
      "metadata": {
        "id": "diao4mq78Vcl"
      },
      "execution_count": null,
      "outputs": []
    },
    {
      "cell_type": "code",
      "source": [
        "(tstat, p_value)= stats.ttest_ind(p1d,p2d, equal_var=False)\n",
        "print(\"The test statistic is: \", round(tstat,5))\n",
        "print(\"The p-value is: \", round(p_value,5))"
      ],
      "metadata": {
        "colab": {
          "base_uri": "https://localhost:8080/"
        },
        "id": "SwmrEkhP9ZZh",
        "outputId": "64435881-afb4-4034-f288-d589749c484b"
      },
      "execution_count": 39,
      "outputs": [
        {
          "output_type": "stream",
          "name": "stdout",
          "text": [
            "The test statistic is:  -178.43526\n",
            "The p-value is:  0.0\n"
          ]
        }
      ]
    },
    {
      "cell_type": "code",
      "source": [
        "(tstat, p_value)= stats.ttest_ind(p1d,p3d, equal_var=False)\n",
        "print(\"The test statistic is: \", round(tstat,5))\n",
        "print(\"The p-value is: \", round(p_value,5))"
      ],
      "metadata": {
        "colab": {
          "base_uri": "https://localhost:8080/"
        },
        "id": "EfL5-Xc59aGC",
        "outputId": "7f218c93-9c3f-4b88-ac14-7f9d407dc901"
      },
      "execution_count": 40,
      "outputs": [
        {
          "output_type": "stream",
          "name": "stdout",
          "text": [
            "The test statistic is:  -49.86967\n",
            "The p-value is:  0.0\n"
          ]
        }
      ]
    },
    {
      "cell_type": "markdown",
      "source": [
        "\n",
        "#T test\n",
        "With graph 1 and graph 2, inference can be made that Chilli_pepers is best choice because it has higher mean of spend and site duration. T test is run for each group.\n",
        " H0: mean of group1 = mean of group 2\n",
        " H1: mean of two gourp is not euqal\n",
        "Because all of 4 test cores have p value 0 which result rejection of null hypothesis in any alpha level. Therefore, Chilli paper has significantly higher mean of spend and duration. Therefore, Chilli paper is best choice.\n"
      ],
      "metadata": {
        "id": "hFBiSrEwLMG4"
      }
    },
    {
      "cell_type": "code",
      "source": [
        "#################prediction\n",
        "from datetime import date\n",
        "from datetime import timedelta\n",
        "For = pd.read_csv(\"yearlyNI.csv\",index_col='date',parse_dates=True) \n",
        "For.head()"
      ],
      "metadata": {
        "colab": {
          "base_uri": "https://localhost:8080/",
          "height": 237
        },
        "id": "1YJXBV4tHQWP",
        "outputId": "d892323d-c16d-4c23-fe4e-0ac264953f78"
      },
      "execution_count": 11,
      "outputs": [
        {
          "output_type": "execute_result",
          "data": {
            "text/plain": [
              "            Net income\n",
              "date                  \n",
              "2009-01-01         -60\n",
              "2010-01-01        -228\n",
              "2011-01-01         -83\n",
              "2012-01-01        -163\n",
              "2013-01-01         -44"
            ],
            "text/html": [
              "\n",
              "  <div id=\"df-0dfc662c-6e87-423c-8188-a33c3ad25eb1\">\n",
              "    <div class=\"colab-df-container\">\n",
              "      <div>\n",
              "<style scoped>\n",
              "    .dataframe tbody tr th:only-of-type {\n",
              "        vertical-align: middle;\n",
              "    }\n",
              "\n",
              "    .dataframe tbody tr th {\n",
              "        vertical-align: top;\n",
              "    }\n",
              "\n",
              "    .dataframe thead th {\n",
              "        text-align: right;\n",
              "    }\n",
              "</style>\n",
              "<table border=\"1\" class=\"dataframe\">\n",
              "  <thead>\n",
              "    <tr style=\"text-align: right;\">\n",
              "      <th></th>\n",
              "      <th>Net income</th>\n",
              "    </tr>\n",
              "    <tr>\n",
              "      <th>date</th>\n",
              "      <th></th>\n",
              "    </tr>\n",
              "  </thead>\n",
              "  <tbody>\n",
              "    <tr>\n",
              "      <th>2009-01-01</th>\n",
              "      <td>-60</td>\n",
              "    </tr>\n",
              "    <tr>\n",
              "      <th>2010-01-01</th>\n",
              "      <td>-228</td>\n",
              "    </tr>\n",
              "    <tr>\n",
              "      <th>2011-01-01</th>\n",
              "      <td>-83</td>\n",
              "    </tr>\n",
              "    <tr>\n",
              "      <th>2012-01-01</th>\n",
              "      <td>-163</td>\n",
              "    </tr>\n",
              "    <tr>\n",
              "      <th>2013-01-01</th>\n",
              "      <td>-44</td>\n",
              "    </tr>\n",
              "  </tbody>\n",
              "</table>\n",
              "</div>\n",
              "      <button class=\"colab-df-convert\" onclick=\"convertToInteractive('df-0dfc662c-6e87-423c-8188-a33c3ad25eb1')\"\n",
              "              title=\"Convert this dataframe to an interactive table.\"\n",
              "              style=\"display:none;\">\n",
              "        \n",
              "  <svg xmlns=\"http://www.w3.org/2000/svg\" height=\"24px\"viewBox=\"0 0 24 24\"\n",
              "       width=\"24px\">\n",
              "    <path d=\"M0 0h24v24H0V0z\" fill=\"none\"/>\n",
              "    <path d=\"M18.56 5.44l.94 2.06.94-2.06 2.06-.94-2.06-.94-.94-2.06-.94 2.06-2.06.94zm-11 1L8.5 8.5l.94-2.06 2.06-.94-2.06-.94L8.5 2.5l-.94 2.06-2.06.94zm10 10l.94 2.06.94-2.06 2.06-.94-2.06-.94-.94-2.06-.94 2.06-2.06.94z\"/><path d=\"M17.41 7.96l-1.37-1.37c-.4-.4-.92-.59-1.43-.59-.52 0-1.04.2-1.43.59L10.3 9.45l-7.72 7.72c-.78.78-.78 2.05 0 2.83L4 21.41c.39.39.9.59 1.41.59.51 0 1.02-.2 1.41-.59l7.78-7.78 2.81-2.81c.8-.78.8-2.07 0-2.86zM5.41 20L4 18.59l7.72-7.72 1.47 1.35L5.41 20z\"/>\n",
              "  </svg>\n",
              "      </button>\n",
              "      \n",
              "  <style>\n",
              "    .colab-df-container {\n",
              "      display:flex;\n",
              "      flex-wrap:wrap;\n",
              "      gap: 12px;\n",
              "    }\n",
              "\n",
              "    .colab-df-convert {\n",
              "      background-color: #E8F0FE;\n",
              "      border: none;\n",
              "      border-radius: 50%;\n",
              "      cursor: pointer;\n",
              "      display: none;\n",
              "      fill: #1967D2;\n",
              "      height: 32px;\n",
              "      padding: 0 0 0 0;\n",
              "      width: 32px;\n",
              "    }\n",
              "\n",
              "    .colab-df-convert:hover {\n",
              "      background-color: #E2EBFA;\n",
              "      box-shadow: 0px 1px 2px rgba(60, 64, 67, 0.3), 0px 1px 3px 1px rgba(60, 64, 67, 0.15);\n",
              "      fill: #174EA6;\n",
              "    }\n",
              "\n",
              "    [theme=dark] .colab-df-convert {\n",
              "      background-color: #3B4455;\n",
              "      fill: #D2E3FC;\n",
              "    }\n",
              "\n",
              "    [theme=dark] .colab-df-convert:hover {\n",
              "      background-color: #434B5C;\n",
              "      box-shadow: 0px 1px 3px 1px rgba(0, 0, 0, 0.15);\n",
              "      filter: drop-shadow(0px 1px 2px rgba(0, 0, 0, 0.3));\n",
              "      fill: #FFFFFF;\n",
              "    }\n",
              "  </style>\n",
              "\n",
              "      <script>\n",
              "        const buttonEl =\n",
              "          document.querySelector('#df-0dfc662c-6e87-423c-8188-a33c3ad25eb1 button.colab-df-convert');\n",
              "        buttonEl.style.display =\n",
              "          google.colab.kernel.accessAllowed ? 'block' : 'none';\n",
              "\n",
              "        async function convertToInteractive(key) {\n",
              "          const element = document.querySelector('#df-0dfc662c-6e87-423c-8188-a33c3ad25eb1');\n",
              "          const dataTable =\n",
              "            await google.colab.kernel.invokeFunction('convertToInteractive',\n",
              "                                                     [key], {});\n",
              "          if (!dataTable) return;\n",
              "\n",
              "          const docLinkHtml = 'Like what you see? Visit the ' +\n",
              "            '<a target=\"_blank\" href=https://colab.research.google.com/notebooks/data_table.ipynb>data table notebook</a>'\n",
              "            + ' to learn more about interactive tables.';\n",
              "          element.innerHTML = '';\n",
              "          dataTable['output_type'] = 'display_data';\n",
              "          await google.colab.output.renderOutput(dataTable, element);\n",
              "          const docLink = document.createElement('div');\n",
              "          docLink.innerHTML = docLinkHtml;\n",
              "          element.appendChild(docLink);\n",
              "        }\n",
              "      </script>\n",
              "    </div>\n",
              "  </div>\n",
              "  "
            ]
          },
          "metadata": {},
          "execution_count": 11
        }
      ]
    },
    {
      "cell_type": "code",
      "source": [
        "For.info"
      ],
      "metadata": {
        "colab": {
          "base_uri": "https://localhost:8080/"
        },
        "id": "-SXF6KX1e9iE",
        "outputId": "f5c5ee7b-e577-415a-fbb0-168a759e2032"
      },
      "execution_count": 12,
      "outputs": [
        {
          "output_type": "execute_result",
          "data": {
            "text/plain": [
              "<bound method DataFrame.info of             Net income\n",
              "date                  \n",
              "2009-01-01         -60\n",
              "2010-01-01        -228\n",
              "2011-01-01         -83\n",
              "2012-01-01        -163\n",
              "2013-01-01         -44\n",
              "2014-01-01         -96\n",
              "2015-01-01         -66\n",
              "2016-01-01         -47\n",
              "2017-01-01          -6\n",
              "2018-01-01          60\n",
              "2019-01-01          70\n",
              "2020-01-01       -1725\n",
              "2021-01-01        -651>"
            ]
          },
          "metadata": {},
          "execution_count": 12
        }
      ]
    },
    {
      "cell_type": "markdown",
      "source": [
        "#\n",
        "Recent two years are largely influenced by corona virus. Next year may less affected by corona virus since corona virus policy is less stric within whole U.S.. Therefore, I want use weighted average method to reduce 2021 and 2020's inflence to the prediction. Addtionaly, recent years except 2021 and 2020, should has more weight than earlier data. "
      ],
      "metadata": {
        "id": "b_tvvuGLbz7E"
      }
    },
    {
      "cell_type": "code",
      "source": [
        "\n",
        "from matplotlib import pyplot\n",
        "For.plot()\n",
        "pyplot.show()"
      ],
      "metadata": {
        "colab": {
          "base_uri": "https://localhost:8080/",
          "height": 279
        },
        "id": "1mSbwzYBaXS-",
        "outputId": "c4e7b733-c892-4747-8d24-f2ed4affe624"
      },
      "execution_count": 20,
      "outputs": [
        {
          "output_type": "display_data",
          "data": {
            "text/plain": [
              "<Figure size 432x288 with 1 Axes>"
            ],
            "image/png": "[encoded data removed]"
          },
          "metadata": {
            "needs_background": "light"
          }
        }
      ]
    },
    {
      "cell_type": "markdown",
      "source": [
        "With weight shown below to each year from 2010 to 2021. We expect 2022 has Net income as -68.74 million"
      ],
      "metadata": {
        "id": "95rLVW3_1Qzl"
      }
    },
    {
      "cell_type": "markdown",
      "source": [
        "![image.png](data:image/png;base64,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)"
      ],
      "metadata": {
        "id": "k8zVj_m91PM6"
      }
    },
    {
      "cell_type": "markdown",
      "source": [
        "https://www.macrotrends.net/stocks/charts/LYV/live-nation-entertainment/net-income"
      ],
      "metadata": {
        "id": "SUlR95t8z6NI"
      }
    }
  ]
}